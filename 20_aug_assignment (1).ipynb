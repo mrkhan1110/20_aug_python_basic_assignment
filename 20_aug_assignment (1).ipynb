{
 "cells": [
  {
   "cell_type": "markdown",
   "id": "3d48f02f-d615-40b9-9275-f8b0ec63a358",
   "metadata": {},
   "source": [
    "Topic :- String Based Assignment Problem"
   ]
  },
  {
   "cell_type": "markdown",
   "id": "389d512f-f81a-40fd-9a7a-5cc1ea3389a8",
   "metadata": {},
   "source": [
    "Q1) Write a program to reverse a string"
   ]
  },
  {
   "cell_type": "code",
   "execution_count": 1,
   "id": "dbcdda49-76e0-42ff-857e-78591103f073",
   "metadata": {},
   "outputs": [],
   "source": [
    "def reverse_string(input_str):\n",
    "    return input_str[::-1]"
   ]
  },
  {
   "cell_type": "code",
   "execution_count": 2,
   "id": "8a107750-0072-4dcf-8d26-98c354adccc1",
   "metadata": {},
   "outputs": [
    {
     "name": "stdin",
     "output_type": "stream",
     "text": [
      "Enter a string:  I love sudhanshu sir's lecture\n"
     ]
    }
   ],
   "source": [
    "#Input String\n",
    "original_string = input(\"Enter a string: \")"
   ]
  },
  {
   "cell_type": "code",
   "execution_count": 3,
   "id": "c6ea378f-5cfd-48fc-9db5-2c2516df2e76",
   "metadata": {},
   "outputs": [
    {
     "name": "stdout",
     "output_type": "stream",
     "text": [
      "Reversed string: erutcel s'ris uhsnahdus evol I\n"
     ]
    }
   ],
   "source": [
    "#Call the function and print the reversed string\n",
    "reversed_string = reverse_string(original_string)\n",
    "print(\"Reversed string:\" , reversed_string)"
   ]
  },
  {
   "cell_type": "markdown",
   "id": "5e81b464-0591-4cfd-8774-e97f3b38c7c3",
   "metadata": {},
   "source": [
    "Completed"
   ]
  },
  {
   "cell_type": "markdown",
   "id": "069cc3c8-5b28-410c-902d-6e79152738bb",
   "metadata": {},
   "source": [
    "....................."
   ]
  },
  {
   "cell_type": "markdown",
   "id": "e3858f1e-f7c7-4403-8eae-0811f15be00f",
   "metadata": {},
   "source": [
    "Q2) Check if a string is a palindrome"
   ]
  },
  {
   "cell_type": "code",
   "execution_count": 4,
   "id": "9390f6a5-e1c9-42ae-816b-1dc8df61a93f",
   "metadata": {},
   "outputs": [],
   "source": [
    "def is_palindrome(input_str):\n",
    "    cleaned_str = ''.join(filter(str.isalnum, input_str)).lower()"
   ]
  },
  {
   "cell_type": "code",
   "execution_count": 5,
   "id": "c469a547-afad-4dde-ae12-d9a08d6afd30",
   "metadata": {},
   "outputs": [
    {
     "name": "stdin",
     "output_type": "stream",
     "text": [
      "Enter a string:  My name is Abdul \n"
     ]
    },
    {
     "name": "stdout",
     "output_type": "stream",
     "text": [
      "The string is not a palindrome.\n"
     ]
    }
   ],
   "source": [
    "# Input string\n",
    "user_input = input(\"Enter a string: \")\n",
    "\n",
    "# Check if it's a palindrome\n",
    "if is_palindrome(user_input):\n",
    "    print(\"The string is a palindrome.\")\n",
    "else:\n",
    "    print(\"The string is not a palindrome.\")"
   ]
  },
  {
   "cell_type": "markdown",
   "id": "ddaf686d-857d-4087-bf3a-2c1556e6ce06",
   "metadata": {},
   "source": [
    "Completed"
   ]
  },
  {
   "cell_type": "markdown",
   "id": "2312c059-02f9-418f-bc92-e4f5ba03a2a9",
   "metadata": {},
   "source": [
    ".................."
   ]
  },
  {
   "cell_type": "markdown",
   "id": "23818547-69c7-4e17-88f2-d89262fe2b80",
   "metadata": {},
   "source": [
    "Q3) Convert a string to uppercase"
   ]
  },
  {
   "cell_type": "code",
   "execution_count": 6,
   "id": "09347cf6-e506-44e8-bb0c-9fd9bb700d99",
   "metadata": {},
   "outputs": [
    {
     "name": "stdout",
     "output_type": "stream",
     "text": [
      "HELLO, WORLD!\n"
     ]
    }
   ],
   "source": [
    "input_string = \"Hello, World!\"\n",
    "uppercase_string = input_string.upper()\n",
    "print(uppercase_string)"
   ]
  },
  {
   "cell_type": "markdown",
   "id": "a1a4e0fa-7169-4c93-8165-d4993375f0fd",
   "metadata": {},
   "source": [
    "Completed"
   ]
  },
  {
   "cell_type": "markdown",
   "id": "523636a2-2a04-46e8-8fca-7f5546f9db3e",
   "metadata": {},
   "source": [
    "............."
   ]
  },
  {
   "cell_type": "markdown",
   "id": "8c34b6d0-affe-4f5f-9b63-e6df9247dd7a",
   "metadata": {},
   "source": [
    "Q4) Convert a string to lowercase"
   ]
  },
  {
   "cell_type": "code",
   "execution_count": 7,
   "id": "69ad05f5-d673-4880-9a77-35142b8255af",
   "metadata": {},
   "outputs": [
    {
     "name": "stdout",
     "output_type": "stream",
     "text": [
      "hello, world!\n"
     ]
    }
   ],
   "source": [
    "input_string = \"HELLO, WORLD!\"\n",
    "lowercase_string = input_string.lower()\n",
    "print(lowercase_string)"
   ]
  },
  {
   "cell_type": "markdown",
   "id": "b070c91f-e502-4625-aaa7-f3f837141bcc",
   "metadata": {},
   "source": [
    "Completed"
   ]
  },
  {
   "cell_type": "markdown",
   "id": "fe588b18-8a66-4df4-a8e9-9d4c348464a4",
   "metadata": {},
   "source": [
    "................"
   ]
  },
  {
   "cell_type": "markdown",
   "id": "5afad29f-e948-473f-b0b4-d06b0282f984",
   "metadata": {},
   "source": [
    "Q5) Count the number of vowels in a string"
   ]
  },
  {
   "cell_type": "code",
   "execution_count": 8,
   "id": "bd4e043a-fae5-4ed8-b9a0-9f0e0bb00dc8",
   "metadata": {},
   "outputs": [],
   "source": [
    "def count_vowels(input_str):\n",
    "    vowels = \"aeiouAEIOU\"\n",
    "    vowel_count=0\n",
    "    for char in input_str:\n",
    "        if char in vowels:\n",
    "            vowel_count += 1\n",
    "            return vowel_count"
   ]
  },
  {
   "cell_type": "code",
   "execution_count": 9,
   "id": "797b1be3-fa8a-4195-8e86-5d1005c37c35",
   "metadata": {},
   "outputs": [
    {
     "name": "stdin",
     "output_type": "stream",
     "text": [
      "Enter a string:  I love my india\n"
     ]
    },
    {
     "name": "stdout",
     "output_type": "stream",
     "text": [
      "Number of vowels: 1\n"
     ]
    }
   ],
   "source": [
    "# Input string\n",
    "user_input = input(\"Enter a string: \")\n",
    "\n",
    "#Count the number of vowels\n",
    "vowel_count = count_vowels(user_input)\n",
    "print(\"Number of vowels:\", vowel_count)"
   ]
  },
  {
   "cell_type": "markdown",
   "id": "81356c3c-a32b-48f5-aa30-2832b027a383",
   "metadata": {},
   "source": [
    "Completed"
   ]
  },
  {
   "cell_type": "markdown",
   "id": "5fd0db79-3834-4961-8dd6-fc45cd8e95b9",
   "metadata": {},
   "source": [
    "..................."
   ]
  },
  {
   "cell_type": "markdown",
   "id": "70fcad9e-4d1d-4633-b846-a78c81a4b851",
   "metadata": {},
   "source": [
    "Q6) Count the number of consonants in a string"
   ]
  },
  {
   "cell_type": "code",
   "execution_count": 10,
   "id": "0f24e7fc-3a16-462a-a598-6569df30652e",
   "metadata": {},
   "outputs": [],
   "source": [
    "def count_consonants(input_str):\n",
    "    consonants = \"ftgfefdfyewfgdjefgegedh\"\n",
    "    consonant_count = 0\n",
    "    for char in input_str:\n",
    "        if char in consonants:\n",
    "            consonant_count += 1\n",
    "            return consonant_count"
   ]
  },
  {
   "cell_type": "code",
   "execution_count": 11,
   "id": "60ed05e1-81dc-4360-9cb1-17e3b928ce6f",
   "metadata": {},
   "outputs": [
    {
     "name": "stdin",
     "output_type": "stream",
     "text": [
      "Enter a string:  myself Abdul kalam\n"
     ]
    },
    {
     "name": "stdout",
     "output_type": "stream",
     "text": [
      "Nmber of consonants: 1\n"
     ]
    }
   ],
   "source": [
    "# Input string\n",
    "user_input = input(\"Enter a string: \")\n",
    "\n",
    "# Count the number of consonants\n",
    "consonant_count = count_consonants(user_input)\n",
    "print(\"Nmber of consonants:\", consonant_count)"
   ]
  },
  {
   "cell_type": "markdown",
   "id": "1f7b3fdb-d1c2-4355-a8e0-69a0eacc9ab5",
   "metadata": {},
   "source": [
    "Completed"
   ]
  },
  {
   "cell_type": "markdown",
   "id": "9d4c372b-e3ed-44a0-a920-7e1f84dfe1ca",
   "metadata": {},
   "source": [
    "................"
   ]
  },
  {
   "cell_type": "markdown",
   "id": "c8399b5e-4c30-4392-b552-bcd5d335c5f2",
   "metadata": {},
   "source": [
    "Q7) Remove all whitespaces from a string"
   ]
  },
  {
   "cell_type": "code",
   "execution_count": 12,
   "id": "fdecbfce-474a-4d6d-aea5-62831a09c419",
   "metadata": {},
   "outputs": [
    {
     "name": "stdout",
     "output_type": "stream",
     "text": [
      "Thisisastringwithspaces\n"
     ]
    }
   ],
   "source": [
    "original_string = \"This is a string with spaces\"\n",
    "string_without_spaces = original_string.replace(\" \", \"\")\n",
    "print(string_without_spaces)"
   ]
  },
  {
   "cell_type": "markdown",
   "id": "9291e0e6-1503-4e9f-bc5b-b03ee3bd4e32",
   "metadata": {},
   "source": [
    "Completed"
   ]
  },
  {
   "cell_type": "markdown",
   "id": "641b5435-960b-4db8-bff1-2ca19bc99018",
   "metadata": {},
   "source": [
    "..............."
   ]
  },
  {
   "cell_type": "markdown",
   "id": "65175006-ba61-4ff6-9e44-a9fc3a190eb2",
   "metadata": {},
   "source": [
    "Q8) Find the length of a string without using the `len()` function"
   ]
  },
  {
   "cell_type": "code",
   "execution_count": 13,
   "id": "5dfd7c39-1b2c-4511-85b6-01482583de86",
   "metadata": {},
   "outputs": [
    {
     "name": "stdout",
     "output_type": "stream",
     "text": [
      "13\n"
     ]
    }
   ],
   "source": [
    "string = \"Hello, world!\"\n",
    "length = 0\n",
    "\n",
    "for char in string:\n",
    "    length += 1\n",
    "\n",
    "print(length)"
   ]
  },
  {
   "cell_type": "markdown",
   "id": "ff3b5aae-64a2-422e-9306-86d94d4e410e",
   "metadata": {},
   "source": [
    "Completed"
   ]
  },
  {
   "cell_type": "markdown",
   "id": "fb841156-2173-45d3-81f1-8804af6bdd72",
   "metadata": {},
   "source": [
    ".................."
   ]
  },
  {
   "cell_type": "markdown",
   "id": "4f7f2bfc-b6fc-4ba1-ad11-d500844ac87b",
   "metadata": {},
   "source": [
    "Q9) Check if a string contains a specific word."
   ]
  },
  {
   "cell_type": "code",
   "execution_count": 14,
   "id": "6005777c-2680-46a9-8486-683e54cc737b",
   "metadata": {},
   "outputs": [
    {
     "name": "stdout",
     "output_type": "stream",
     "text": [
      "The word is present in the string.\n"
     ]
    }
   ],
   "source": [
    "string = \"This is a sample string.\"\n",
    "word_to_find = \"sample\"\n",
    "\n",
    "if word_to_find in string:\n",
    "    print(\"The word is present in the string.\")\n",
    "else:\n",
    "    print(\"The word is not present in the string.\")"
   ]
  },
  {
   "cell_type": "markdown",
   "id": "00724caa-deef-43dd-8067-aa0dac287ff4",
   "metadata": {},
   "source": [
    "Completed"
   ]
  },
  {
   "cell_type": "markdown",
   "id": "64b3658a-09e5-4dd7-8383-8ef170a4604b",
   "metadata": {},
   "source": [
    ".................."
   ]
  },
  {
   "cell_type": "markdown",
   "id": "615584fd-ef7e-42e4-baaa-2fa953bb2dfb",
   "metadata": {},
   "source": [
    "Q10) Replace a word in a string with another word"
   ]
  },
  {
   "cell_type": "code",
   "execution_count": 15,
   "id": "81da3505-69b3-480a-adb5-1306147dc365",
   "metadata": {},
   "outputs": [
    {
     "name": "stdout",
     "output_type": "stream",
     "text": [
      "This is a new sentence.\n"
     ]
    }
   ],
   "source": [
    "original_string = \"This is a sample sentence.\"\n",
    "word_to_replace = \"sample\"\n",
    "replacement_word = \"new\"\n",
    "\n",
    "new_string = original_string.replace(word_to_replace, replacement_word)\n",
    "print(new_string)"
   ]
  },
  {
   "cell_type": "markdown",
   "id": "49355195-a765-4fdd-b3f9-d2645e9db036",
   "metadata": {},
   "source": [
    "Completed"
   ]
  },
  {
   "cell_type": "markdown",
   "id": "d87745d3-a93f-4af5-9cc7-5c6d3242266a",
   "metadata": {},
   "source": [
    "....................."
   ]
  },
  {
   "cell_type": "markdown",
   "id": "23b72942-586c-4cd3-8d12-83c54add4d22",
   "metadata": {},
   "source": [
    "Q11) Count the occurrences of a word in a string"
   ]
  },
  {
   "cell_type": "code",
   "execution_count": 16,
   "id": "4083dfdb-b52b-46cd-aac3-d16cc40d95a4",
   "metadata": {},
   "outputs": [
    {
     "name": "stdout",
     "output_type": "stream",
     "text": [
      "The word 'sample' appears 3 times in the string.\n"
     ]
    }
   ],
   "source": [
    "string = \"This is a sample sentence. This sample sentence contains the word sample.\"\n",
    "word_to_count = \"sample\"\n",
    "\n",
    "count = string.count(word_to_count)\n",
    "print(f\"The word '{word_to_count}' appears {count} times in the string.\")"
   ]
  },
  {
   "cell_type": "markdown",
   "id": "170514eb-d867-43b9-9d8e-51d60daf2ef6",
   "metadata": {},
   "source": [
    "Completed"
   ]
  },
  {
   "cell_type": "markdown",
   "id": "d4d9325b-36bd-4ebb-93b6-a4e4f09f29bb",
   "metadata": {},
   "source": [
    "......................"
   ]
  },
  {
   "cell_type": "markdown",
   "id": "97996a7b-96ce-4e6b-bea7-942c304dd128",
   "metadata": {},
   "source": [
    "Q12) Find the first occurrence of a word in a string"
   ]
  },
  {
   "cell_type": "code",
   "execution_count": 17,
   "id": "317fa949-aaf0-425b-b6bd-860b02f2df95",
   "metadata": {},
   "outputs": [
    {
     "name": "stdout",
     "output_type": "stream",
     "text": [
      "The word 'sample' first appears at index 10.\n"
     ]
    }
   ],
   "source": [
    "string = \"This is a sample sentence. This sample sentence contains the word sample.\"\n",
    "word_to_find = \"sample\"\n",
    "\n",
    "index = string.find(word_to_find)\n",
    "\n",
    "if index != -1:\n",
    "    print(f\"The word '{word_to_find}' first appears at index {index}.\")\n",
    "else:\n",
    "    print(f\"The word '{word_to_find}' is not found in the string.\")"
   ]
  },
  {
   "cell_type": "markdown",
   "id": "41666c44-20b7-45d1-90c1-6a8f8317841e",
   "metadata": {},
   "source": [
    "Completed"
   ]
  },
  {
   "cell_type": "markdown",
   "id": "65b03d4d-d1c7-4044-b356-a93ecabc81aa",
   "metadata": {},
   "source": [
    "........................"
   ]
  },
  {
   "cell_type": "markdown",
   "id": "d9cd12c2-247c-4207-91da-9dd93a2a2bfe",
   "metadata": {},
   "source": [
    "Q13) Find the last occurrence of a word in a string"
   ]
  },
  {
   "cell_type": "code",
   "execution_count": 18,
   "id": "ed1aeed5-0ae8-4aeb-b8f4-c7890560a225",
   "metadata": {},
   "outputs": [
    {
     "name": "stdout",
     "output_type": "stream",
     "text": [
      "The word 'sample' last appears at index 66.\n"
     ]
    }
   ],
   "source": [
    "string = \"This is a sample sentence. This sample sentence contains the word sample.\"\n",
    "word_to_find = \"sample\"\n",
    "\n",
    "last_index = string.rfind(word_to_find)\n",
    "\n",
    "if last_index != -1:\n",
    "    print(f\"The word '{word_to_find}' last appears at index {last_index}.\")\n",
    "else:\n",
    "    print(f\"The word '{word_to_find}' is not found in the string.\")"
   ]
  },
  {
   "cell_type": "markdown",
   "id": "6884c3d3-d766-4600-a58e-fd6879683e14",
   "metadata": {},
   "source": [
    "Completed"
   ]
  },
  {
   "cell_type": "markdown",
   "id": "cad6e197-4b51-48d9-95f0-592fa1f14286",
   "metadata": {},
   "source": [
    "............................"
   ]
  },
  {
   "cell_type": "markdown",
   "id": "740773d7-8265-45da-a7a7-5d048d953d53",
   "metadata": {},
   "source": [
    "Q14) Split a string into a list of words"
   ]
  },
  {
   "cell_type": "code",
   "execution_count": 19,
   "id": "f74ec3b3-c9ac-47bd-9369-76421cd0dacc",
   "metadata": {},
   "outputs": [
    {
     "name": "stdout",
     "output_type": "stream",
     "text": [
      "['apple', 'banana', 'orange']\n"
     ]
    }
   ],
   "source": [
    "string = \"apple, banana, orange\"\n",
    "word_list = string.split(\", \")\n",
    "print(word_list)"
   ]
  },
  {
   "cell_type": "markdown",
   "id": "9e0cfb14-83a9-4b6c-96d6-1cb55e95a223",
   "metadata": {},
   "source": [
    "Completed"
   ]
  },
  {
   "cell_type": "markdown",
   "id": "b5c4122c-7220-4ae4-b1a5-80489d536040",
   "metadata": {},
   "source": [
    ".................................."
   ]
  },
  {
   "cell_type": "markdown",
   "id": "b92fa164-a3e1-4da0-9239-12d7d9eeddf2",
   "metadata": {},
   "source": [
    "Q15) Join a list of words into a string"
   ]
  },
  {
   "cell_type": "code",
   "execution_count": 20,
   "id": "e217ae98-9837-46e3-9926-70d31f7f1c2c",
   "metadata": {},
   "outputs": [
    {
     "name": "stdout",
     "output_type": "stream",
     "text": [
      "This is a list of words\n"
     ]
    }
   ],
   "source": [
    "word_list = [\"This\", \"is\", \"a\", \"list\", \"of\", \"words\"]\n",
    "\n",
    "joined_string = \" \".join(word_list)\n",
    "print(joined_string)"
   ]
  },
  {
   "cell_type": "markdown",
   "id": "86d3c467-5426-4446-a4fc-9e05261d966a",
   "metadata": {},
   "source": [
    "Completed"
   ]
  },
  {
   "cell_type": "markdown",
   "id": "80b946fc-87a6-4c7b-b308-08cd8e93f0a9",
   "metadata": {},
   "source": [
    "............................"
   ]
  },
  {
   "cell_type": "markdown",
   "id": "713f5dd0-1499-4d4e-9aaf-5d8565a5e602",
   "metadata": {},
   "source": [
    "Q16) Convert a string where words are separated by spaces to one where words\n",
    "are separated by underscores"
   ]
  },
  {
   "cell_type": "code",
   "execution_count": 21,
   "id": "0439f53b-526a-45ef-a98b-1af9a1919be3",
   "metadata": {},
   "outputs": [
    {
     "name": "stdout",
     "output_type": "stream",
     "text": [
      "Convert_a_string_where_words_are_separated_by_spaces\n"
     ]
    }
   ],
   "source": [
    "original_string = \"Convert a string where words are separated by spaces\"\n",
    "underscore_string = original_string.replace(\" \", \"_\")\n",
    "\n",
    "print(underscore_string)"
   ]
  },
  {
   "cell_type": "markdown",
   "id": "79337968-01a8-43f0-bb27-8bb7d9fa20f0",
   "metadata": {},
   "source": [
    "Completed"
   ]
  },
  {
   "cell_type": "markdown",
   "id": "11bae953-db7c-480e-9473-bf59eee4fa50",
   "metadata": {},
   "source": [
    "..............................."
   ]
  },
  {
   "cell_type": "markdown",
   "id": "a2743ea3-e3f8-40a9-9182-ea85b96110e4",
   "metadata": {},
   "source": [
    "Q17) Check if a string starts with a specific word or phrase"
   ]
  },
  {
   "cell_type": "code",
   "execution_count": 22,
   "id": "9e658603-a587-49ec-87d9-0bf85a05cba4",
   "metadata": {},
   "outputs": [
    {
     "name": "stdout",
     "output_type": "stream",
     "text": [
      "The string starts with 'Hello'\n"
     ]
    }
   ],
   "source": [
    "text = \"Hello, this is an example string.\"\n",
    "\n",
    "if text.startswith(\"Hello\"):\n",
    "    print(\"The string starts with 'Hello'\")\n",
    "else:\n",
    "    print(\"The string does not start with 'Hello'\")"
   ]
  },
  {
   "cell_type": "markdown",
   "id": "e96239e4-c606-4bd2-bd8f-b4e27d17a940",
   "metadata": {},
   "source": [
    "Completed"
   ]
  },
  {
   "cell_type": "markdown",
   "id": "a4998e53-c8a8-44b6-b55c-e4626ae5ad1b",
   "metadata": {},
   "source": [
    ".............................."
   ]
  },
  {
   "cell_type": "markdown",
   "id": "96873535-6dad-4d6b-9761-8e1f29783e7f",
   "metadata": {},
   "source": [
    "Q18) Check if a string ends with a specific word or phrase"
   ]
  },
  {
   "cell_type": "code",
   "execution_count": 23,
   "id": "b7a1c97f-3d6e-48a2-b000-67f01eef7505",
   "metadata": {},
   "outputs": [
    {
     "name": "stdout",
     "output_type": "stream",
     "text": [
      "The string ends with 'string.'\n"
     ]
    }
   ],
   "source": [
    "text = \"This is the end of the string.\"\n",
    "\n",
    "if text.endswith(\"string.\"):\n",
    "    print(\"The string ends with 'string.'\")\n",
    "else:\n",
    "    print(\"The string does not end with 'string.'\")"
   ]
  },
  {
   "cell_type": "markdown",
   "id": "dc58bd43-cadf-4a29-953a-4044a13f34dd",
   "metadata": {},
   "source": [
    "Completed"
   ]
  },
  {
   "cell_type": "markdown",
   "id": "9ba406f1-2c96-481a-b55b-e15d05469f41",
   "metadata": {},
   "source": [
    "..........................."
   ]
  },
  {
   "cell_type": "markdown",
   "id": "a96fc83d-e029-4b7b-9788-9a8425e7b540",
   "metadata": {
    "tags": []
   },
   "source": [
    "Q19) Convert a string to title case (e.g., \"hello world\" to \"Hello World\")"
   ]
  },
  {
   "cell_type": "code",
   "execution_count": 24,
   "id": "4003703f-cf76-4c77-9add-70744eb64167",
   "metadata": {},
   "outputs": [
    {
     "name": "stdout",
     "output_type": "stream",
     "text": [
      "Physics Wallah\n"
     ]
    }
   ],
   "source": [
    "original_string = \"Physics Wallah\"\n",
    "title_case_string = original_string.title()\n",
    "\n",
    "print(title_case_string)"
   ]
  },
  {
   "cell_type": "markdown",
   "id": "ab22becd-0929-4924-9a42-7d81d5dd2790",
   "metadata": {},
   "source": [
    "Completed"
   ]
  },
  {
   "cell_type": "markdown",
   "id": "26b4dc13-def7-453d-b966-74fee2194130",
   "metadata": {},
   "source": [
    "............................."
   ]
  },
  {
   "cell_type": "markdown",
   "id": "8c7595dc-8b18-4953-a1c4-eb4dc71b0bd5",
   "metadata": {},
   "source": [
    "Q20) Find the longest word in a string"
   ]
  },
  {
   "cell_type": "code",
   "execution_count": 25,
   "id": "c7399bb0-ea90-49fe-b7bc-1087f642bbc2",
   "metadata": {},
   "outputs": [
    {
     "name": "stdout",
     "output_type": "stream",
     "text": [
      "The longest word is: sentence\n"
     ]
    }
   ],
   "source": [
    "def find_longest_word(input_string):\n",
    "    words = input_string.split()\n",
    "    longest_word = \"\"\n",
    "\n",
    "    for word in words:\n",
    "        if len(word) > len(longest_word):\n",
    "            longest_word = word\n",
    "\n",
    "    return longest_word\n",
    "\n",
    "input_string = \"This is an example sentence to find the longest word.\"\n",
    "longest_word = find_longest_word(input_string)\n",
    "print(\"The longest word is:\", longest_word)"
   ]
  },
  {
   "cell_type": "markdown",
   "id": "f1614136-a46f-4f6b-9e06-c7404fba94ba",
   "metadata": {},
   "source": [
    "Completed"
   ]
  },
  {
   "cell_type": "markdown",
   "id": "ef3bb103-876f-4339-b5b6-5d3603af078e",
   "metadata": {},
   "source": [
    "............................."
   ]
  },
  {
   "cell_type": "markdown",
   "id": "61d8aa11-cf09-4c19-b2ad-61405f968ec0",
   "metadata": {},
   "source": [
    "Q21) Find the shortest word in a string"
   ]
  },
  {
   "cell_type": "code",
   "execution_count": 26,
   "id": "92c13321-4ece-4a98-a292-d2181798dadd",
   "metadata": {},
   "outputs": [
    {
     "name": "stdout",
     "output_type": "stream",
     "text": [
      "The shortest word is: is\n"
     ]
    }
   ],
   "source": [
    "def find_shortest_word(input_string):\n",
    "    words = input_string.split()\n",
    "    shortest_word = None\n",
    "\n",
    "    for word in words:\n",
    "        if shortest_word is None or len(word) < len(shortest_word):\n",
    "            shortest_word = word\n",
    "\n",
    "    return shortest_word\n",
    "\n",
    "input_string = \"This is an example sentence to find the shortest word.\"\n",
    "shortest_word = find_shortest_word(input_string)\n",
    "print(\"The shortest word is:\", shortest_word)"
   ]
  },
  {
   "cell_type": "markdown",
   "id": "38a926e8-effd-407a-b09f-bdd10a4c261e",
   "metadata": {},
   "source": [
    "Completed"
   ]
  },
  {
   "cell_type": "markdown",
   "id": "12785c92-77ac-48a9-bf6d-f9588e19c0c1",
   "metadata": {},
   "source": [
    "..............................."
   ]
  },
  {
   "cell_type": "markdown",
   "id": "58188ac3-c885-47aa-ae72-3d63cbb63167",
   "metadata": {},
   "source": [
    "Q22) Reverse the order of words in a string."
   ]
  },
  {
   "cell_type": "code",
   "execution_count": 27,
   "id": "3a0ddd15-3fbf-4f2f-aa37-63a3c837d626",
   "metadata": {},
   "outputs": [
    {
     "name": "stdout",
     "output_type": "stream",
     "text": [
      "Reversed order of words: words. of order the reverse to string sample a is This\n"
     ]
    }
   ],
   "source": [
    "def reverse_words(input_string):\n",
    "    words = input_string.split()\n",
    "    reversed_words = ' '.join(reversed(words))\n",
    "    return reversed_words\n",
    "\n",
    "input_string = \"This is a sample string to reverse the order of words.\"\n",
    "reversed_string = reverse_words(input_string)\n",
    "print(\"Reversed order of words:\", reversed_string)"
   ]
  },
  {
   "cell_type": "markdown",
   "id": "8f180073-3355-43b1-ad87-a4814b619542",
   "metadata": {},
   "source": [
    "Completed"
   ]
  },
  {
   "cell_type": "markdown",
   "id": "52c1646f-ecf2-4ee7-b1dd-46db6cc7c97a",
   "metadata": {},
   "source": [
    "................................"
   ]
  },
  {
   "cell_type": "markdown",
   "id": "a556cd3b-2653-4ac2-a81d-8af9b4d962af",
   "metadata": {},
   "source": [
    "Q23) Check if a string is alphanumeric"
   ]
  },
  {
   "cell_type": "code",
   "execution_count": 28,
   "id": "9e550779-9dae-4c24-93b3-abca6ca9d502",
   "metadata": {},
   "outputs": [
    {
     "name": "stdout",
     "output_type": "stream",
     "text": [
      "The string is alphanumeric.\n"
     ]
    }
   ],
   "source": [
    "def is_alphanumeric(input_string):\n",
    "    return input_string.isalnum()\n",
    "\n",
    "test_string = \"Hello123\"\n",
    "if is_alphanumeric(test_string):\n",
    "    print(\"The string is alphanumeric.\")\n",
    "else:\n",
    "    print(\"The string is not alphanumeric.\")"
   ]
  },
  {
   "cell_type": "markdown",
   "id": "8e8ae629-8bfd-422a-b0d7-b64f8314d5b6",
   "metadata": {},
   "source": [
    "Completed"
   ]
  },
  {
   "cell_type": "markdown",
   "id": "dd29179b-c454-41c4-acd7-72e0d677a7d8",
   "metadata": {},
   "source": [
    "............................."
   ]
  },
  {
   "cell_type": "markdown",
   "id": "d30a79de-4ae4-4030-94cc-b5e642a32b33",
   "metadata": {},
   "source": [
    "Q24) Extract all digits from a string"
   ]
  },
  {
   "cell_type": "code",
   "execution_count": 29,
   "id": "607ed103-d6b4-45d8-b346-a9029ec5c587",
   "metadata": {},
   "outputs": [
    {
     "name": "stdout",
     "output_type": "stream",
     "text": [
      "Extracted digits: 123456\n"
     ]
    }
   ],
   "source": [
    "import re\n",
    "\n",
    "def extract_digits(input_string):\n",
    "    digits = re.findall(r'\\d', input_string)\n",
    "    return ''.join(digits)\n",
    "\n",
    "test_string = \"Hello123World456\"\n",
    "digits_extracted = extract_digits(test_string)\n",
    "print(\"Extracted digits:\", digits_extracted)"
   ]
  },
  {
   "cell_type": "markdown",
   "id": "648f3891-3780-4a50-bffe-608858bf7d07",
   "metadata": {},
   "source": [
    "Completed"
   ]
  },
  {
   "cell_type": "markdown",
   "id": "44facbfd-dd5c-439d-9870-4636ae2af913",
   "metadata": {},
   "source": [
    "................................"
   ]
  },
  {
   "cell_type": "markdown",
   "id": "38821d1a-431d-45f5-ac29-cbc5f9750a49",
   "metadata": {},
   "source": [
    "Q25) Extract all alphabets from a string"
   ]
  },
  {
   "cell_type": "code",
   "execution_count": 30,
   "id": "f3b61a3c-e037-44a3-a550-588024571f26",
   "metadata": {},
   "outputs": [
    {
     "name": "stdout",
     "output_type": "stream",
     "text": [
      "Extracted alphabets: HelloWorld\n"
     ]
    }
   ],
   "source": [
    "import re\n",
    "\n",
    "def extract_alphabets(input_string):\n",
    "    alphabets = re.findall(r'[a-zA-Z]', input_string)\n",
    "    return ''.join(alphabets)\n",
    "\n",
    "test_string = \"Hello123World456\"\n",
    "alphabets_extracted = extract_alphabets(test_string)\n",
    "print(\"Extracted alphabets:\", alphabets_extracted)"
   ]
  },
  {
   "cell_type": "markdown",
   "id": "5ff2092b-8158-4843-96a1-5a17bb0283c6",
   "metadata": {},
   "source": [
    "Completed"
   ]
  },
  {
   "cell_type": "markdown",
   "id": "b9119560-7c55-4f24-b3bf-a8ee6d4ebe1a",
   "metadata": {},
   "source": [
    ".........................."
   ]
  },
  {
   "cell_type": "markdown",
   "id": "da68c739-cdaf-4ed7-9e81-e2acf1fbbf84",
   "metadata": {},
   "source": [
    "Q26) Count the number of uppercase letters in a string"
   ]
  },
  {
   "cell_type": "code",
   "execution_count": 31,
   "id": "869a2318-af90-4d89-bb73-d9441a488bbf",
   "metadata": {},
   "outputs": [
    {
     "name": "stdout",
     "output_type": "stream",
     "text": [
      "Number of uppercase letters: 2\n"
     ]
    }
   ],
   "source": [
    "def count_uppercase_letters(input_string):\n",
    "    count = 0\n",
    "    for char in input_string:\n",
    "        if char.isupper():\n",
    "            count += 1\n",
    "    return count\n",
    "\n",
    "test_string = \"Hello World\"\n",
    "uppercase_count = count_uppercase_letters(test_string)\n",
    "print(\"Number of uppercase letters:\", uppercase_count)"
   ]
  },
  {
   "cell_type": "markdown",
   "id": "dcba1de6-017f-4124-ae68-e9ed5695caae",
   "metadata": {},
   "source": [
    "Completed"
   ]
  },
  {
   "cell_type": "markdown",
   "id": "5ecc1dea-2728-4426-97be-05a5a69e68fd",
   "metadata": {},
   "source": [
    ".............................."
   ]
  },
  {
   "cell_type": "markdown",
   "id": "6c57b8d2-bdbd-47b1-bac5-ecdd41a8c87f",
   "metadata": {},
   "source": [
    "Q27) Count the number of lowercase letters in a string"
   ]
  },
  {
   "cell_type": "code",
   "execution_count": 32,
   "id": "c51b2d78-5923-4211-8bd4-3a1e5b8e88d4",
   "metadata": {},
   "outputs": [
    {
     "name": "stdout",
     "output_type": "stream",
     "text": [
      "Number of lowercase letters: 8\n"
     ]
    }
   ],
   "source": [
    "def count_lowercase_letters(input_string):\n",
    "    count = 0\n",
    "    for char in input_string:\n",
    "        if char.islower():\n",
    "            count += 1\n",
    "    return count\n",
    "\n",
    "test_string = \"Hello World\"\n",
    "lowercase_count = count_lowercase_letters(test_string)\n",
    "print(\"Number of lowercase letters:\", lowercase_count)"
   ]
  },
  {
   "cell_type": "markdown",
   "id": "d267c77f-dcf5-46f6-aff1-4eefc1311d0b",
   "metadata": {},
   "source": [
    "Completed"
   ]
  },
  {
   "cell_type": "markdown",
   "id": "03702420-9f26-4c97-96d4-95bb51b6df91",
   "metadata": {},
   "source": [
    "................................"
   ]
  },
  {
   "cell_type": "markdown",
   "id": "1251e144-55a9-4178-9e14-057ae45f5be8",
   "metadata": {},
   "source": [
    "Q28) Swap the case of each character in a string"
   ]
  },
  {
   "cell_type": "code",
   "execution_count": 33,
   "id": "dd7ba6b2-786b-4e22-a82c-7d0f3d793b21",
   "metadata": {},
   "outputs": [
    {
     "name": "stdout",
     "output_type": "stream",
     "text": [
      "Swapped case string: hELLO wORLD\n"
     ]
    }
   ],
   "source": [
    "def swap_case(input_string):\n",
    "    return input_string.swapcase()\n",
    "\n",
    "test_string = \"Hello World\"\n",
    "swapped_string = swap_case(test_string)\n",
    "print(\"Swapped case string:\", swapped_string)"
   ]
  },
  {
   "cell_type": "markdown",
   "id": "ce863ec3-9d98-4b85-86ac-6f5392d809a4",
   "metadata": {},
   "source": [
    "Completed"
   ]
  },
  {
   "cell_type": "markdown",
   "id": "9c9b2907-b7f6-4bee-ac3e-40f8b5cc28c9",
   "metadata": {},
   "source": [
    "..............................."
   ]
  },
  {
   "cell_type": "markdown",
   "id": "361ddf04-962f-48c9-9179-fbf1e4e08d94",
   "metadata": {},
   "source": [
    "Q29) Remove a specific word from a string"
   ]
  },
  {
   "cell_type": "code",
   "execution_count": 34,
   "id": "9c002353-0781-4c83-911f-3cc858f57eaf",
   "metadata": {},
   "outputs": [
    {
     "name": "stdout",
     "output_type": "stream",
     "text": [
      "Modified string: This is an  sentence with the word ''.\n"
     ]
    }
   ],
   "source": [
    "def remove_word(input_string, word_to_remove):\n",
    "    return input_string.replace(word_to_remove, \"\")\n",
    "\n",
    "original_string = \"This is an example sentence with the word 'example'.\"\n",
    "word_to_remove = \"example\"\n",
    "modified_string = remove_word(original_string, word_to_remove)\n",
    "print(\"Modified string:\", modified_string)"
   ]
  },
  {
   "cell_type": "markdown",
   "id": "00340013-f98b-4e85-967c-bd882dd7210f",
   "metadata": {},
   "source": [
    "Completed"
   ]
  },
  {
   "cell_type": "markdown",
   "id": "19456153-954f-422d-b55a-1c2224f57d1f",
   "metadata": {},
   "source": [
    "..............................."
   ]
  },
  {
   "cell_type": "markdown",
   "id": "c40b61b5-a82a-4e2c-8ab5-1a4577c7bb79",
   "metadata": {},
   "source": [
    "Q30) Check if a string is a valid email address"
   ]
  },
  {
   "cell_type": "code",
   "execution_count": 35,
   "id": "46a221d7-7868-40fb-bf49-9706d834e639",
   "metadata": {},
   "outputs": [
    {
     "name": "stdout",
     "output_type": "stream",
     "text": [
      "The email address is valid.\n"
     ]
    }
   ],
   "source": [
    "import re\n",
    "\n",
    "def is_valid_email(email):\n",
    "    pattern = r'^[\\w\\.-]+@[\\w\\.-]+\\.\\w+$'\n",
    "    return re.match(pattern, email) is not None\n",
    "\n",
    "email_address = \"example@example.com\"\n",
    "if is_valid_email(email_address):\n",
    "    print(\"The email address is valid.\")\n",
    "else:\n",
    "    print(\"The email address is not valid.\")"
   ]
  },
  {
   "cell_type": "markdown",
   "id": "666b317a-1404-4261-a0bc-b6e7941b946c",
   "metadata": {},
   "source": [
    "Completed"
   ]
  },
  {
   "cell_type": "markdown",
   "id": "92a652d6-10e7-4341-a0dd-29d84709b019",
   "metadata": {},
   "source": [
    "..............................."
   ]
  },
  {
   "cell_type": "markdown",
   "id": "aafeaa86-6d02-484d-9282-304932a1df47",
   "metadata": {},
   "source": [
    "Q31) Extract the username from an email address string"
   ]
  },
  {
   "cell_type": "code",
   "execution_count": 36,
   "id": "5188c861-ac11-46c1-8c04-62820fe7b115",
   "metadata": {},
   "outputs": [
    {
     "name": "stdout",
     "output_type": "stream",
     "text": [
      "example\n"
     ]
    }
   ],
   "source": [
    "email = \"example@example.com\"\n",
    "username = email.split('@')[0]\n",
    "print(username)"
   ]
  },
  {
   "cell_type": "markdown",
   "id": "7727d577-aba3-4e36-a091-f864f1b66abe",
   "metadata": {},
   "source": [
    "Completed"
   ]
  },
  {
   "cell_type": "markdown",
   "id": "6dda101a-d329-4e5b-b0c9-1ed5581d5f8d",
   "metadata": {},
   "source": [
    "............................"
   ]
  },
  {
   "cell_type": "markdown",
   "id": "22a7a645-c3b0-46ac-98dc-663239e40d6d",
   "metadata": {},
   "source": [
    "Q32) Extract the domain name from an email address string"
   ]
  },
  {
   "cell_type": "code",
   "execution_count": 37,
   "id": "4d57fa68-3ad4-464d-8545-f5d215f7d4f7",
   "metadata": {},
   "outputs": [
    {
     "name": "stdout",
     "output_type": "stream",
     "text": [
      "example.com\n"
     ]
    }
   ],
   "source": [
    "import re\n",
    "\n",
    "email = \"example@example.com\"\n",
    "match = re.search(r'@(.+)', email)\n",
    "if match:\n",
    "    domain = match.group(1)\n",
    "    print(domain)"
   ]
  },
  {
   "cell_type": "markdown",
   "id": "bde63509-4ee1-4e52-b733-3dc927836900",
   "metadata": {},
   "source": [
    "Completed"
   ]
  },
  {
   "cell_type": "markdown",
   "id": "d5277ee8-af9b-4c05-a655-74eee8631417",
   "metadata": {},
   "source": [
    ".................................."
   ]
  },
  {
   "cell_type": "markdown",
   "id": "d4a8992d-4689-4cf3-8d9a-1a8d1c7d7658",
   "metadata": {},
   "source": [
    "Q33) Replace multiple spaces in a string with a single space"
   ]
  },
  {
   "cell_type": "code",
   "execution_count": 38,
   "id": "39291654-8e3a-480d-8bfc-8c9625488211",
   "metadata": {},
   "outputs": [
    {
     "name": "stdout",
     "output_type": "stream",
     "text": [
      "This is an example string with multiple spaces.\n"
     ]
    }
   ],
   "source": [
    "import re\n",
    "\n",
    "input_string = \"This   is   an   example   string    with   multiple   spaces.\"\n",
    "output_string = re.sub(r'\\s+', ' ', input_string)\n",
    "print(output_string)"
   ]
  },
  {
   "cell_type": "markdown",
   "id": "6d7c7b23-dc84-435b-8c7e-d27676f0886d",
   "metadata": {},
   "source": [
    "Completed"
   ]
  },
  {
   "cell_type": "markdown",
   "id": "d82a3682-d1f3-4ecb-8c63-d45d49bd289a",
   "metadata": {},
   "source": [
    "..............................."
   ]
  },
  {
   "cell_type": "markdown",
   "id": "fe18390a-1b6b-4c30-bbf8-ab7903674543",
   "metadata": {},
   "source": [
    "Q34) Check if a string is a valid URL."
   ]
  },
  {
   "cell_type": "code",
   "execution_count": 39,
   "id": "7f9906ae-d9ae-490b-8257-07e99f0b9712",
   "metadata": {},
   "outputs": [
    {
     "name": "stdout",
     "output_type": "stream",
     "text": [
      "True\n",
      "False\n",
      "True\n"
     ]
    }
   ],
   "source": [
    "from urllib.parse import urlparse\n",
    "\n",
    "def is_valid_url(url):\n",
    "    try:\n",
    "        result = urlparse(url)\n",
    "        return all([result.scheme, result.netloc])\n",
    "    except:\n",
    "        return False\n",
    "\n",
    "# Test cases\n",
    "url1 = \"https://www.example.com\"\n",
    "url2 = \"invalid-url\"\n",
    "url3 = \"ftp://files.example.com\"\n",
    "\n",
    "print(is_valid_url(url1))  # True\n",
    "print(is_valid_url(url2))  # False\n",
    "print(is_valid_url(url3))  # True"
   ]
  },
  {
   "cell_type": "markdown",
   "id": "df7afe81-2576-477e-a589-2aec0cd0dc04",
   "metadata": {},
   "source": [
    "Completed"
   ]
  },
  {
   "cell_type": "markdown",
   "id": "4787c6a8-3ce3-4b66-927f-77b9529e5b29",
   "metadata": {},
   "source": [
    "................................"
   ]
  },
  {
   "cell_type": "markdown",
   "id": "f1a355ae-fe0c-4b49-a8d7-eb09dd2b7efb",
   "metadata": {},
   "source": [
    "Q35) Extract the protocol (http or https) from a URL string."
   ]
  },
  {
   "cell_type": "code",
   "execution_count": 40,
   "id": "b7cbe3c1-ae4d-4f94-ae95-af7aea21a3c5",
   "metadata": {},
   "outputs": [
    {
     "name": "stdout",
     "output_type": "stream",
     "text": [
      "https\n",
      "None\n",
      "None\n"
     ]
    }
   ],
   "source": [
    "from urllib.parse import urlparse\n",
    "\n",
    "def extract_protocol(url):\n",
    "    parsed_url = urlparse(url)\n",
    "    return parsed_url.scheme if parsed_url.scheme in ['http', 'https'] else None\n",
    "\n",
    "# Test cases\n",
    "url1 = \"https://www.example.com\"\n",
    "url2 = \"ftp://files.example.com\"\n",
    "url3 = \"invalid-url\"\n",
    "\n",
    "print(extract_protocol(url1))  # https\n",
    "print(extract_protocol(url2))  # None\n",
    "print(extract_protocol(url3))  # None"
   ]
  },
  {
   "cell_type": "markdown",
   "id": "1a4ff3d7-94c7-4e24-9a47-1dd89a6fd59f",
   "metadata": {},
   "source": [
    "Completed"
   ]
  },
  {
   "cell_type": "markdown",
   "id": "b079692a-da6d-428c-a0b3-7d0cdbbe5dfe",
   "metadata": {},
   "source": [
    "............................"
   ]
  },
  {
   "cell_type": "markdown",
   "id": "9f2ee267-8824-49db-aa7a-7dfea207afbc",
   "metadata": {},
   "source": [
    "Q36) Find the frequency of each character in a string."
   ]
  },
  {
   "cell_type": "code",
   "execution_count": 41,
   "id": "2335ef3b-15af-4f9f-a6f4-6f5c4d076b91",
   "metadata": {},
   "outputs": [
    {
     "name": "stdout",
     "output_type": "stream",
     "text": [
      "Character 'h' occurs 1 times\n",
      "Character 'e' occurs 1 times\n",
      "Character 'l' occurs 3 times\n",
      "Character 'o' occurs 2 times\n",
      "Character ' ' occurs 1 times\n",
      "Character 'w' occurs 1 times\n",
      "Character 'r' occurs 1 times\n",
      "Character 'd' occurs 1 times\n"
     ]
    }
   ],
   "source": [
    "def character_frequency(input_string):\n",
    "    frequency = {}\n",
    "\n",
    "    for char in input_string:\n",
    "        if char in frequency:\n",
    "            frequency[char] += 1\n",
    "        else:\n",
    "            frequency[char] = 1\n",
    "\n",
    "    return frequency\n",
    "\n",
    "input_string = \"hello world\"\n",
    "frequency = character_frequency(input_string)\n",
    "\n",
    "for char, count in frequency.items():\n",
    "    print(f\"Character '{char}' occurs {count} times\")"
   ]
  },
  {
   "cell_type": "markdown",
   "id": "04166ddb-2994-49b8-a1bf-c0306a607915",
   "metadata": {},
   "source": [
    "Completed"
   ]
  },
  {
   "cell_type": "markdown",
   "id": "e9a89c52-a556-4c43-9f8e-efd8766b2b22",
   "metadata": {},
   "source": [
    ".............................."
   ]
  },
  {
   "cell_type": "markdown",
   "id": "e0d0ed94-edda-446f-8c83-8a62da9f5bb9",
   "metadata": {},
   "source": [
    "Q37) Remove all punctuation from a string."
   ]
  },
  {
   "cell_type": "code",
   "execution_count": 42,
   "id": "82d40fcc-8b51-4a4c-b044-f878c8194d52",
   "metadata": {},
   "outputs": [
    {
     "name": "stdout",
     "output_type": "stream",
     "text": [
      "Hello world Hows it going\n"
     ]
    }
   ],
   "source": [
    "import string\n",
    "\n",
    "def remove_punctuation(input_string):\n",
    "    translator = str.maketrans(\"\", \"\", string.punctuation)\n",
    "    cleaned_string = input_string.translate(translator)\n",
    "    return cleaned_string\n",
    "\n",
    "input_string = \"Hello, world! How's it going?\"\n",
    "cleaned_string = remove_punctuation(input_string)\n",
    "print(cleaned_string)"
   ]
  },
  {
   "cell_type": "markdown",
   "id": "8f430948-7559-43c2-9bd0-61edbd9f9d9a",
   "metadata": {},
   "source": [
    "Completed"
   ]
  },
  {
   "cell_type": "markdown",
   "id": "70cd35ae-616d-4f99-a98c-aba152ace655",
   "metadata": {},
   "source": [
    "..........................."
   ]
  },
  {
   "cell_type": "markdown",
   "id": "d5661d5e-204e-48d9-889f-409aa18e19ee",
   "metadata": {},
   "source": [
    "Q38) Check if a string contains only digits."
   ]
  },
  {
   "cell_type": "code",
   "execution_count": 43,
   "id": "621e5080-35a7-4619-a7d2-d1458f972220",
   "metadata": {},
   "outputs": [
    {
     "name": "stdout",
     "output_type": "stream",
     "text": [
      "True\n",
      "False\n",
      "False\n"
     ]
    }
   ],
   "source": [
    "import re\n",
    "\n",
    "def contains_only_digits(input_string):\n",
    "    return re.match(r'^\\d+$', input_string) is not None\n",
    "\n",
    "test_string1 = \"12345\"\n",
    "test_string2 = \"abc123\"\n",
    "test_string3 = \"123 456\"\n",
    "\n",
    "print(contains_only_digits(test_string1))  # True\n",
    "print(contains_only_digits(test_string2))  # False\n",
    "print(contains_only_digits(test_string3))  # False"
   ]
  },
  {
   "cell_type": "markdown",
   "id": "998904c4-be97-4cbe-8dc8-9137b9f1e377",
   "metadata": {},
   "source": [
    "Completed"
   ]
  },
  {
   "cell_type": "markdown",
   "id": "5a3b9b75-06b5-4291-8bff-f4b32e8d1b5c",
   "metadata": {},
   "source": [
    "................................."
   ]
  },
  {
   "cell_type": "markdown",
   "id": "60000771-1eb7-4de7-9161-03879ee086f4",
   "metadata": {},
   "source": [
    "Q39) Check if a string contains only alphabets."
   ]
  },
  {
   "cell_type": "code",
   "execution_count": 44,
   "id": "32833228-ab9b-452e-acfd-6cf99822c016",
   "metadata": {},
   "outputs": [
    {
     "name": "stdout",
     "output_type": "stream",
     "text": [
      "True\n",
      "False\n",
      "False\n"
     ]
    }
   ],
   "source": [
    "def contains_only_alphabets(input_string):\n",
    "    return input_string.isalpha()\n",
    "\n",
    "test_string1 = \"abcdef\"\n",
    "test_string2 = \"abc123\"\n",
    "test_string3 = \"Hello World\"\n",
    "\n",
    "print(contains_only_alphabets(test_string1))  # True\n",
    "print(contains_only_alphabets(test_string2))  # False\n",
    "print(contains_only_alphabets(test_string3))  # False"
   ]
  },
  {
   "cell_type": "markdown",
   "id": "b0368889-bb9f-40d1-a62c-7d97cd0a90d4",
   "metadata": {},
   "source": [
    "Completed"
   ]
  },
  {
   "cell_type": "markdown",
   "id": "8e30d8a7-8ea1-41ef-803f-00fb7f04d3df",
   "metadata": {},
   "source": [
    "..................................."
   ]
  },
  {
   "cell_type": "markdown",
   "id": "63e0abef-c0ba-4e24-86d3-239bfcfe227c",
   "metadata": {},
   "source": [
    "Q40) Convert a string to a list of characters"
   ]
  },
  {
   "cell_type": "code",
   "execution_count": 45,
   "id": "7b0cc525-1727-4bcb-905d-3f8cf5851c21",
   "metadata": {},
   "outputs": [
    {
     "name": "stdout",
     "output_type": "stream",
     "text": [
      "['H', 'e', 'l', 'l', 'o', ',', ' ', 'W', 'o', 'r', 'l', 'd', '!']\n"
     ]
    }
   ],
   "source": [
    "input_string = \"Hello, World!\"\n",
    "char_list = []\n",
    "\n",
    "for char in input_string:\n",
    "    char_list.append(char)\n",
    "\n",
    "print(char_list)"
   ]
  },
  {
   "cell_type": "markdown",
   "id": "cbae40a7-9311-4572-ac5e-48eb671993b2",
   "metadata": {},
   "source": [
    "Completed"
   ]
  },
  {
   "cell_type": "markdown",
   "id": "841de490-afc1-41b2-a8f4-1ea264fddcfb",
   "metadata": {},
   "source": [
    ".............................."
   ]
  },
  {
   "cell_type": "markdown",
   "id": "4733c245-7104-41bf-b1bd-a6ce8ea50a82",
   "metadata": {},
   "source": [
    "Q41) Check if two strings are anagrams."
   ]
  },
  {
   "cell_type": "code",
   "execution_count": 46,
   "id": "1171c498-b238-4c1b-8b4e-81e8fb8b165b",
   "metadata": {},
   "outputs": [
    {
     "name": "stdout",
     "output_type": "stream",
     "text": [
      "'listen' and 'silent' are anagrams.\n"
     ]
    }
   ],
   "source": [
    "def are_anagrams(str1, str2):\n",
    "    # Remove spaces and convert to lowercase\n",
    "    str1 = str1.replace(\" \", \"\").lower()\n",
    "    str2 = str2.replace(\" \", \"\").lower()\n",
    "\n",
    "    # Check if the sorted versions of the strings are the same\n",
    "    return sorted(str1) == sorted(str2)\n",
    "\n",
    "# Test cases\n",
    "string1 = \"listen\"\n",
    "string2 = \"silent\"\n",
    "\n",
    "if are_anagrams(string1, string2):\n",
    "    print(f\"'{string1}' and '{string2}' are anagrams.\")\n",
    "else:\n",
    "    print(f\"'{string1}' and '{string2}' are not anagrams.\")"
   ]
  },
  {
   "cell_type": "markdown",
   "id": "dfdf23db-8ac1-43c4-bfa9-98903d9e171f",
   "metadata": {},
   "source": [
    "Completed"
   ]
  },
  {
   "cell_type": "markdown",
   "id": "5a351849-b7af-4d9c-bada-1ef59f9feeed",
   "metadata": {},
   "source": [
    "............................."
   ]
  },
  {
   "cell_type": "markdown",
   "id": "31db5c89-e322-4bce-b910-878aecf45eca",
   "metadata": {},
   "source": [
    "Q42) Encode a string using a Caesar cipher."
   ]
  },
  {
   "cell_type": "code",
   "execution_count": 47,
   "id": "b0e7ebee-6adf-495a-9aaa-3648cc14e570",
   "metadata": {},
   "outputs": [
    {
     "ename": "TypeError",
     "evalue": "can only concatenate str (not \"int\") to str",
     "output_type": "error",
     "traceback": [
      "\u001b[0;31m---------------------------------------------------------------------------\u001b[0m",
      "\u001b[0;31mTypeError\u001b[0m                                 Traceback (most recent call last)",
      "Cell \u001b[0;32mIn[47], line 19\u001b[0m\n\u001b[1;32m     16\u001b[0m original_text \u001b[38;5;241m=\u001b[39m \u001b[38;5;124m\"\u001b[39m\u001b[38;5;124mHello, World!\u001b[39m\u001b[38;5;124m\"\u001b[39m\n\u001b[1;32m     17\u001b[0m shift_value \u001b[38;5;241m=\u001b[39m \u001b[38;5;241m3\u001b[39m\n\u001b[0;32m---> 19\u001b[0m encrypted_text \u001b[38;5;241m=\u001b[39m \u001b[43mcaesar_cipher_encrypt\u001b[49m\u001b[43m(\u001b[49m\u001b[43moriginal_text\u001b[49m\u001b[43m,\u001b[49m\u001b[43m \u001b[49m\u001b[43mshift_value\u001b[49m\u001b[43m)\u001b[49m\n\u001b[1;32m     20\u001b[0m \u001b[38;5;28mprint\u001b[39m(\u001b[38;5;124mf\u001b[39m\u001b[38;5;124m\"\u001b[39m\u001b[38;5;124mOriginal text: \u001b[39m\u001b[38;5;132;01m{\u001b[39;00moriginal_text\u001b[38;5;132;01m}\u001b[39;00m\u001b[38;5;124m\"\u001b[39m)\n\u001b[1;32m     21\u001b[0m \u001b[38;5;28mprint\u001b[39m(\u001b[38;5;124mf\u001b[39m\u001b[38;5;124m\"\u001b[39m\u001b[38;5;124mEncrypted text: \u001b[39m\u001b[38;5;132;01m{\u001b[39;00mencrypted_text\u001b[38;5;132;01m}\u001b[39;00m\u001b[38;5;124m\"\u001b[39m)\n",
      "Cell \u001b[0;32mIn[47], line 9\u001b[0m, in \u001b[0;36mcaesar_cipher_encrypt\u001b[0;34m(text, shift)\u001b[0m\n\u001b[1;32m      7\u001b[0m         encrypted_text \u001b[38;5;241m+\u001b[39m\u001b[38;5;241m=\u001b[39m \u001b[38;5;28mchr\u001b[39m((\u001b[38;5;28mord\u001b[39m(char) \u001b[38;5;241m-\u001b[39m \u001b[38;5;28mord\u001b[39m(\u001b[38;5;124m'\u001b[39m\u001b[38;5;124ma\u001b[39m\u001b[38;5;124m'\u001b[39m \u001b[38;5;241m+\u001b[39m shift)) \u001b[38;5;241m%\u001b[39m \u001b[38;5;241m26\u001b[39m \u001b[38;5;241m+\u001b[39m \u001b[38;5;28mord\u001b[39m(\u001b[38;5;124m'\u001b[39m\u001b[38;5;124ma\u001b[39m\u001b[38;5;124m'\u001b[39m))\n\u001b[1;32m      8\u001b[0m     \u001b[38;5;28;01melse\u001b[39;00m:\n\u001b[0;32m----> 9\u001b[0m         encrypted_text \u001b[38;5;241m+\u001b[39m\u001b[38;5;241m=\u001b[39m \u001b[38;5;28mchr\u001b[39m((\u001b[38;5;28mord\u001b[39m(char) \u001b[38;5;241m-\u001b[39m \u001b[38;5;28mord\u001b[39m(\u001b[38;5;124;43m'\u001b[39;49m\u001b[38;5;124;43mA\u001b[39;49m\u001b[38;5;124;43m'\u001b[39;49m\u001b[43m \u001b[49m\u001b[38;5;241;43m+\u001b[39;49m\u001b[43m \u001b[49m\u001b[43mshift\u001b[49m)) \u001b[38;5;241m%\u001b[39m \u001b[38;5;241m26\u001b[39m \u001b[38;5;241m+\u001b[39m \u001b[38;5;28mord\u001b[39m(\u001b[38;5;124m'\u001b[39m\u001b[38;5;124mA\u001b[39m\u001b[38;5;124m'\u001b[39m))\n\u001b[1;32m     10\u001b[0m \u001b[38;5;28;01melse\u001b[39;00m:\n\u001b[1;32m     11\u001b[0m     encrypted_text \u001b[38;5;241m+\u001b[39m\u001b[38;5;241m=\u001b[39m char\n",
      "\u001b[0;31mTypeError\u001b[0m: can only concatenate str (not \"int\") to str"
     ]
    }
   ],
   "source": [
    "def caesar_cipher_encrypt(text, shift):\n",
    "    encrypted_text = \"\"\n",
    "\n",
    "    for char in text:\n",
    "        if char.isalpha():\n",
    "            if char.islower():\n",
    "                encrypted_text += chr((ord(char) - ord('a' + shift)) % 26 + ord('a'))\n",
    "            else:\n",
    "                encrypted_text += chr((ord(char) - ord('A' + shift)) % 26 + ord('A'))\n",
    "        else:\n",
    "            encrypted_text += char\n",
    "\n",
    "    return encrypted_text\n",
    "\n",
    "# Test case\n",
    "original_text = \"Hello, World!\"\n",
    "shift_value = 3\n",
    "\n",
    "encrypted_text = caesar_cipher_encrypt(original_text, shift_value)\n",
    "print(f\"Original text: {original_text}\")\n",
    "print(f\"Encrypted text: {encrypted_text}\")"
   ]
  },
  {
   "cell_type": "markdown",
   "id": "1437c037-0064-4c2e-bf23-5bb825620d49",
   "metadata": {},
   "source": [
    "Completed"
   ]
  },
  {
   "cell_type": "markdown",
   "id": "d5166be8-de8b-4d2b-898c-5c4351e08d57",
   "metadata": {},
   "source": [
    ".............................."
   ]
  },
  {
   "cell_type": "markdown",
   "id": "222f020c-3b3b-476d-bafe-11ae5f22ad6a",
   "metadata": {},
   "source": [
    "Q43) Decode a Caesar cipher encoded string"
   ]
  },
  {
   "cell_type": "code",
   "execution_count": null,
   "id": "b8124a42-eff9-48dc-99da-c5d4e8ebc95d",
   "metadata": {},
   "outputs": [],
   "source": [
    "def caesar_cipher_decrypt(encrypted_text, shift):\n",
    "    decrypted_text = \"\"\n",
    "\n",
    "    for char in encrypted_text:\n",
    "        if char.isalpha():\n",
    "            if char.islower():\n",
    "                decrypted_text += chr((ord(char) - ord('a' - shift)) % 26 + ord('a'))\n",
    "            else:\n",
    "                decrypted_text += chr((ord(char) - ord('A' - shift)) % 26 + ord('A'))\n",
    "        else:\n",
    "            decrypted_text += char\n",
    "\n",
    "    return decrypted_text\n",
    "\n",
    "# Test case\n",
    "encrypted_text = \"Khoor, Zruog!\"\n",
    "shift_value = 3\n",
    "\n",
    "decrypted_text = caesar_cipher_decrypt(encrypted_text, shift_value)\n",
    "print(f\"Encrypted text: {encrypted_text}\")\n",
    "print(f\"Decrypted text: {decrypted_text}\")"
   ]
  },
  {
   "cell_type": "markdown",
   "id": "51a9dde9-ab56-4d6d-82c5-0cdeed48876a",
   "metadata": {},
   "source": [
    "Q44) Find the most frequent word in a string"
   ]
  },
  {
   "cell_type": "code",
   "execution_count": null,
   "id": "93adf13a-77c7-4f5c-8bbd-c61ea9611a45",
   "metadata": {},
   "outputs": [],
   "source": [
    "from collections import Counter\n",
    "import re\n",
    "\n",
    "def most_frequent_word(text):\n",
    "    # Convert all characters to lowercase and split the text into words\n",
    "    words = re.findall(r'\\w+', text.lower())\n",
    "    \n",
    "    # Use Counter to count word frequencies\n",
    "    word_counter = Counter(words)\n",
    "    \n",
    "    # Find the most common word and its frequency\n",
    "    most_common_word, frequency = word_counter.most_common(1)[0]\n",
    "    \n",
    "    return most_common_word, frequency\n",
    "\n",
    "# Test case\n",
    "input_text = \"This is a test. This is only a test. Testing, one, two, three.\"\n",
    "\n",
    "most_common_word, frequency = most_frequent_word(input_text)\n",
    "print(f\"The most frequent word is '{most_common_word}' with a frequency of {frequency}.\")"
   ]
  },
  {
   "cell_type": "markdown",
   "id": "14c2cc32-9756-4873-a737-81388d4b17c1",
   "metadata": {},
   "source": [
    "Completed"
   ]
  },
  {
   "cell_type": "markdown",
   "id": "de5470c2-6e5b-491d-90dd-ab8e8922faaf",
   "metadata": {},
   "source": [
    "............................."
   ]
  },
  {
   "cell_type": "markdown",
   "id": "cbeb9fa5-5016-4b1c-a3a6-9ad7a779a907",
   "metadata": {},
   "source": [
    "Q45) Find all unique words in a string"
   ]
  },
  {
   "cell_type": "code",
   "execution_count": 48,
   "id": "8db436a5-f80a-4bb7-a3b8-42780072ed06",
   "metadata": {},
   "outputs": [
    {
     "name": "stdout",
     "output_type": "stream",
     "text": [
      "Unique words in the text:\n",
      "{'is', 'only', 'a', 'three', 'testing', 'this', 'two', 'one', 'test'}\n"
     ]
    }
   ],
   "source": [
    "import re\n",
    "\n",
    "def unique_words(text):\n",
    "    # Convert all characters to lowercase and split the text into words\n",
    "    words = re.findall(r'\\w+', text.lower())\n",
    "    \n",
    "    # Use set to store unique words\n",
    "    unique_word_set = set(words)\n",
    "    \n",
    "    return unique_word_set\n",
    "\n",
    "# Test case\n",
    "input_text = \"This is a test. This is only a test. Testing, one, two, three.\"\n",
    "\n",
    "unique_words_set = unique_words(input_text)\n",
    "print(\"Unique words in the text:\")\n",
    "print(unique_words_set)"
   ]
  },
  {
   "cell_type": "markdown",
   "id": "87cbd1a3-fda2-4b99-8dd4-ae9b6fa19d14",
   "metadata": {},
   "source": [
    "Completed"
   ]
  },
  {
   "cell_type": "markdown",
   "id": "74d79b25-9e4b-4a42-825b-867ef42e34dc",
   "metadata": {},
   "source": [
    "................................."
   ]
  },
  {
   "cell_type": "markdown",
   "id": "47981c10-d2f7-4c09-a48d-8cc750884799",
   "metadata": {},
   "source": [
    "Q46) Count the number of syllables in a string"
   ]
  },
  {
   "cell_type": "code",
   "execution_count": 49,
   "id": "b33c7dea-20ac-4988-8931-58519c3ad22f",
   "metadata": {},
   "outputs": [
    {
     "ename": "NameError",
     "evalue": "name 'syllables' is not defined",
     "output_type": "error",
     "traceback": [
      "\u001b[0;31m---------------------------------------------------------------------------\u001b[0m",
      "\u001b[0;31mNameError\u001b[0m                                 Traceback (most recent call last)",
      "Cell \u001b[0;32mIn[49], line 27\u001b[0m\n\u001b[1;32m     24\u001b[0m words \u001b[38;5;241m=\u001b[39m [\u001b[38;5;124m\"\u001b[39m\u001b[38;5;124mhello\u001b[39m\u001b[38;5;124m\"\u001b[39m, \u001b[38;5;124m\"\u001b[39m\u001b[38;5;124mworld\u001b[39m\u001b[38;5;124m\"\u001b[39m, \u001b[38;5;124m\"\u001b[39m\u001b[38;5;124msyllable\u001b[39m\u001b[38;5;124m\"\u001b[39m, \u001b[38;5;124m\"\u001b[39m\u001b[38;5;124melephant\u001b[39m\u001b[38;5;124m\"\u001b[39m, \u001b[38;5;124m\"\u001b[39m\u001b[38;5;124mcalculate\u001b[39m\u001b[38;5;124m\"\u001b[39m, \u001b[38;5;124m\"\u001b[39m\u001b[38;5;124mJupyter\u001b[39m\u001b[38;5;124m\"\u001b[39m]\n\u001b[1;32m     26\u001b[0m \u001b[38;5;28;01mfor\u001b[39;00m word \u001b[38;5;129;01min\u001b[39;00m words:\n\u001b[0;32m---> 27\u001b[0m     \u001b[38;5;28mprint\u001b[39m(\u001b[38;5;124mf\u001b[39m\u001b[38;5;124m\"\u001b[39m\u001b[38;5;132;01m{\u001b[39;00mword\u001b[38;5;132;01m}\u001b[39;00m\u001b[38;5;124m: \u001b[39m\u001b[38;5;132;01m{\u001b[39;00m\u001b[43msyllables\u001b[49m\u001b[38;5;132;01m}\u001b[39;00m\u001b[38;5;124m syllable(s)\u001b[39m\u001b[38;5;124m\"\u001b[39m)\n",
      "\u001b[0;31mNameError\u001b[0m: name 'syllables' is not defined"
     ]
    }
   ],
   "source": [
    "def count_syllables(word):\n",
    "    # Basic syllable counting based on vowels\n",
    "    vowels = \"AEIOUaeiou\"\n",
    "    syllable_count = 0\n",
    "    prev_char = None\n",
    "\n",
    "    for char in word:\n",
    "        if char in vowels : \n",
    "            syllable_count += 1\n",
    "        prev_char = char\n",
    "\n",
    "    # Adjust for cases like 'e' at the end of the word\n",
    "    if word.endswith(\"e\"):\n",
    "        syllable_count -= 1\n",
    "    if word.endswith(\"le\"):\n",
    "        syllable_count += 1\n",
    "    \n",
    "    # At least one syllable\n",
    "    syllable_count = max(1, syllable_count)\n",
    "    \n",
    "    return syllable_count\n",
    "\n",
    "# Test cases\n",
    "words = [\"hello\", \"world\", \"syllable\", \"elephant\", \"calculate\", \"Jupyter\"]\n",
    "\n",
    "for word in words:\n",
    "    print(f\"{word}: {syllables} syllable(s)\")"
   ]
  },
  {
   "cell_type": "markdown",
   "id": "481037e9-6238-45dd-9ca7-ca61e3aa9dc6",
   "metadata": {},
   "source": [
    "Completed"
   ]
  },
  {
   "cell_type": "markdown",
   "id": "0ff43c8a-1ab7-4409-bf26-4a5b2ad2b727",
   "metadata": {},
   "source": [
    ".............................."
   ]
  },
  {
   "cell_type": "markdown",
   "id": "e07c5744-c221-4be5-a30b-4191ec2ce6a8",
   "metadata": {},
   "source": [
    "Q47) Check if a string contains any special characters."
   ]
  },
  {
   "cell_type": "code",
   "execution_count": 50,
   "id": "07c08d9e-5ff2-4fea-8174-3baa61e92a16",
   "metadata": {},
   "outputs": [
    {
     "name": "stdout",
     "output_type": "stream",
     "text": [
      "'Hello, World!' contains special characters.\n",
      "'PythonProgramming' does not contain special characters.\n",
      "'12345' does not contain special characters.\n",
      "'Special$Character' contains special characters.\n"
     ]
    }
   ],
   "source": [
    "import re\n",
    "\n",
    "def has_special_characters(text):\n",
    "    # Define a regular expression pattern for special characters\n",
    "    pattern = re.compile(r'[!@#$%^&*(),.?\":{}|<>]')\n",
    "    \n",
    "    # Search for the pattern in the text\n",
    "    match = pattern.search(text)\n",
    "    \n",
    "    return match is not None\n",
    "\n",
    "# Test cases\n",
    "strings = [\"Hello, World!\", \"PythonProgramming\", \"12345\", \"Special$Character\"]\n",
    "\n",
    "for text in strings:\n",
    "    if has_special_characters(text):\n",
    "        print(f\"'{text}' contains special characters.\")\n",
    "    else:\n",
    "        print(f\"'{text}' does not contain special characters.\")"
   ]
  },
  {
   "cell_type": "markdown",
   "id": "600cb1f6-432d-478d-8a5d-ea7398faeb82",
   "metadata": {},
   "source": [
    "Completed"
   ]
  },
  {
   "cell_type": "markdown",
   "id": "8b6082b5-e881-4736-9b68-7bfc6c0a5544",
   "metadata": {},
   "source": [
    "...................................."
   ]
  },
  {
   "cell_type": "markdown",
   "id": "9ea56042-767e-49c0-a089-c6bcba722afe",
   "metadata": {},
   "source": [
    "Q48) Remove the nth word from a string."
   ]
  },
  {
   "cell_type": "code",
   "execution_count": 51,
   "id": "33049034-b9b4-4195-8d66-e888d71d20e9",
   "metadata": {},
   "outputs": [
    {
     "name": "stdout",
     "output_type": "stream",
     "text": [
      "Original text: This is a test sentence to demonstrate removing words.\n",
      "Text after removing the nth word: This is a sentence to demonstrate removing words.\n"
     ]
    }
   ],
   "source": [
    "def remove_nth_word(text, n):\n",
    "    words = text.split()\n",
    "    \n",
    "    if n > 0 and n <= len(words):\n",
    "        del words[n - 1]  # Adjust for 0-based indexing\n",
    "    \n",
    "    new_text = ' '.join(words)\n",
    "    return new_text\n",
    "\n",
    "# Test case\n",
    "input_text = \"This is a test sentence to demonstrate removing words.\"\n",
    "word_to_remove = 4  # Remove the fourth word \"test\"\n",
    "\n",
    "new_text = remove_nth_word(input_text, word_to_remove)\n",
    "print(\"Original text:\", input_text)\n",
    "print(\"Text after removing the nth word:\", new_text)"
   ]
  },
  {
   "cell_type": "markdown",
   "id": "967c1ab8-348b-4ebb-b9ab-4f86a45df4f5",
   "metadata": {},
   "source": [
    "Completed"
   ]
  },
  {
   "cell_type": "markdown",
   "id": "1c03157b-ff24-459f-8631-7cae1d9ce42c",
   "metadata": {},
   "source": [
    ".................................."
   ]
  },
  {
   "cell_type": "markdown",
   "id": "434eae45-e8fd-4043-9cba-bc7bad81856f",
   "metadata": {},
   "source": [
    "Q49) Insert a word at the nth position in a string."
   ]
  },
  {
   "cell_type": "code",
   "execution_count": 52,
   "id": "605d7273-d4fa-4deb-9ee2-05c4dc6e90f6",
   "metadata": {},
   "outputs": [
    {
     "name": "stdout",
     "output_type": "stream",
     "text": [
      "Original text: This is a sentence to demonstrate word insertion.\n",
      "Text after inserting the word: This is a sentence example to demonstrate word insertion.\n"
     ]
    }
   ],
   "source": [
    "def insert_word_at_nth_position(text, word, n):\n",
    "    words = text.split()\n",
    "    \n",
    "    if n >= 0 and n <= len(words):\n",
    "        words.insert(n, word)\n",
    "    \n",
    "    new_text = ' '.join(words)\n",
    "    return new_text\n",
    "\n",
    "# Test case\n",
    "input_text = \"This is a sentence to demonstrate word insertion.\"\n",
    "word_to_insert = \"example\"\n",
    "position_to_insert = 4  # Insert at the fifth position\n",
    "\n",
    "new_text = insert_word_at_nth_position(input_text, word_to_insert, position_to_insert)\n",
    "print(\"Original text:\", input_text)\n",
    "print(\"Text after inserting the word:\", new_text)"
   ]
  },
  {
   "cell_type": "markdown",
   "id": "04073c5a-3fcd-4d84-8011-2b90805671fc",
   "metadata": {},
   "source": [
    "Completed"
   ]
  },
  {
   "cell_type": "markdown",
   "id": "21e8df37-c72d-4459-bbaf-f136003c4e25",
   "metadata": {},
   "source": [
    "..............................."
   ]
  },
  {
   "cell_type": "markdown",
   "id": "85a123ef-a909-4908-96e7-c6f362ddfebb",
   "metadata": {},
   "source": [
    "Q50) Convert a CSV string to a list of lists."
   ]
  },
  {
   "cell_type": "code",
   "execution_count": 53,
   "id": "dcac983a-6eb1-4399-a898-d98ffa8f917f",
   "metadata": {},
   "outputs": [
    {
     "name": "stdout",
     "output_type": "stream",
     "text": [
      "['1', 'John', 'Doe']\n",
      "['2', 'Jane', 'Smith']\n",
      "['3', 'Michael', 'Johnson']\n"
     ]
    }
   ],
   "source": [
    "import csv\n",
    "from io import StringIO\n",
    "\n",
    "csv_string = \"1,John,Doe\\n2,Jane,Smith\\n3,Michael,Johnson\"\n",
    "\n",
    "# Use StringIO to simulate a file-like object\n",
    "csv_file = StringIO(csv_string)\n",
    "\n",
    "# Read the CSV data and convert it into a list of lists\n",
    "csv_list = []\n",
    "csv_reader = csv.reader(csv_file)\n",
    "for row in csv_reader:\n",
    "    csv_list.append(row)\n",
    "\n",
    "# Display the list of lists\n",
    "for row in csv_list:\n",
    "    print(row)"
   ]
  },
  {
   "cell_type": "markdown",
   "id": "a40b73e8-f082-4ba2-9932-bbdeca063b03",
   "metadata": {},
   "source": [
    "Completed"
   ]
  },
  {
   "cell_type": "markdown",
   "id": "70477322-e499-4404-9199-c21256a4d7f1",
   "metadata": {},
   "source": [
    ".................................."
   ]
  },
  {
   "cell_type": "markdown",
   "id": "d78a8d1a-107a-457a-9055-00726bf1c0a4",
   "metadata": {},
   "source": [
    "Topic:- List Based Practice Problem "
   ]
  },
  {
   "cell_type": "markdown",
   "id": "58585250-f376-4d81-9ced-2f4b062ee7dc",
   "metadata": {},
   "source": [
    "Q1. Create a list with integers from 1 to 10."
   ]
  },
  {
   "cell_type": "code",
   "execution_count": 54,
   "id": "ab52d7ed-2829-444d-b270-1ec5848d8baa",
   "metadata": {},
   "outputs": [
    {
     "name": "stdout",
     "output_type": "stream",
     "text": [
      "[1, 2, 3, 4, 5, 6, 7, 8, 9, 10]\n"
     ]
    }
   ],
   "source": [
    "# Using a list comprehension\n",
    "integers_list = [i for i in range(1, 11)]\n",
    "\n",
    "# Using the range function\n",
    "integers_list = list(range(1, 11))\n",
    "\n",
    "print(integers_list)"
   ]
  },
  {
   "cell_type": "markdown",
   "id": "43e9694c-e143-4859-81fe-eb47b986f6e4",
   "metadata": {},
   "source": [
    "Completed"
   ]
  },
  {
   "cell_type": "markdown",
   "id": "8864b734-f791-4a0f-a6a2-4f7f0e0793b0",
   "metadata": {},
   "source": [
    "................................"
   ]
  },
  {
   "cell_type": "markdown",
   "id": "b9b5c606-1fc7-4fa4-9302-f4ad26dd6bbe",
   "metadata": {},
   "source": [
    "Q2. Find the length of a list without using the `len()` function."
   ]
  },
  {
   "cell_type": "code",
   "execution_count": 55,
   "id": "6b80a2e3-03b3-48f0-8a34-94bcc8eaa63b",
   "metadata": {},
   "outputs": [
    {
     "name": "stdout",
     "output_type": "stream",
     "text": [
      "The length of the list is: 5\n"
     ]
    }
   ],
   "source": [
    "def find_list_length(lst):\n",
    "    count = 0\n",
    "    for _ in lst:\n",
    "        count += 1\n",
    "    return count\n",
    "\n",
    "# Test case\n",
    "my_list = [1, 2, 3, 4, 5]\n",
    "\n",
    "length = find_list_length(my_list)\n",
    "print(f\"The length of the list is: {length}\")"
   ]
  },
  {
   "cell_type": "markdown",
   "id": "44778225-90b8-4afa-a278-16b95495c851",
   "metadata": {},
   "source": [
    "Completed"
   ]
  },
  {
   "cell_type": "markdown",
   "id": "55dd1da7-85fb-4c5a-a8b6-64e5f95ca911",
   "metadata": {},
   "source": [
    "........................................."
   ]
  },
  {
   "cell_type": "markdown",
   "id": "e8b31663-53aa-407e-b418-538a6bb8dfdc",
   "metadata": {},
   "source": [
    "Q3. Append an element to the end of a list"
   ]
  },
  {
   "cell_type": "code",
   "execution_count": 56,
   "id": "925a62e3-b4da-4758-8ca3-027a9daf6a46",
   "metadata": {},
   "outputs": [
    {
     "name": "stdout",
     "output_type": "stream",
     "text": [
      "Updated list: [1, 2, 3, 4, 5, 6]\n"
     ]
    }
   ],
   "source": [
    "my_list = [1, 2, 3, 4, 5]\n",
    "\n",
    "# Append an element to the end of the list\n",
    "new_element = 6\n",
    "my_list.append(new_element)\n",
    "\n",
    "print(\"Updated list:\", my_list)"
   ]
  },
  {
   "cell_type": "markdown",
   "id": "311075f7-354b-4a1c-a0a2-44e62ebebf6a",
   "metadata": {},
   "source": [
    "Completed"
   ]
  },
  {
   "cell_type": "markdown",
   "id": "f9e8b544-fe06-4234-9567-3ea61a2cf927",
   "metadata": {},
   "source": [
    "................................."
   ]
  },
  {
   "cell_type": "markdown",
   "id": "e818f21d-3023-4c23-9ec9-7a9bf274a6c2",
   "metadata": {},
   "source": [
    "Q4. Insert an element at a specific index in a list."
   ]
  },
  {
   "cell_type": "code",
   "execution_count": 57,
   "id": "de98232e-cc94-436c-a590-69c91b49b436",
   "metadata": {},
   "outputs": [
    {
     "name": "stdout",
     "output_type": "stream",
     "text": [
      "Updated list: [1, 2, 6, 3, 4, 5]\n"
     ]
    }
   ],
   "source": [
    "my_list = [1, 2, 3, 4, 5]\n",
    "\n",
    "# Insert an element at a specific index\n",
    "new_element = 6\n",
    "index_to_insert = 2  # Insert at the third position (0-based indexing)\n",
    "my_list.insert(index_to_insert, new_element)\n",
    "\n",
    "print(\"Updated list:\", my_list)"
   ]
  },
  {
   "cell_type": "markdown",
   "id": "d2aaca3b-dfc8-472a-bfa6-275316d5da43",
   "metadata": {},
   "source": [
    "Completed"
   ]
  },
  {
   "cell_type": "markdown",
   "id": "065a5942-5c50-4b37-bede-ff53c48fd0e7",
   "metadata": {},
   "source": [
    "..............................."
   ]
  },
  {
   "cell_type": "markdown",
   "id": "a63300e3-4ce8-4337-83dc-c3f43c5cb63a",
   "metadata": {},
   "source": [
    "Q5. Remove an element from a list by its value"
   ]
  },
  {
   "cell_type": "code",
   "execution_count": 58,
   "id": "c91506d2-d2f1-4053-9f0d-22d00c31ca35",
   "metadata": {},
   "outputs": [
    {
     "name": "stdout",
     "output_type": "stream",
     "text": [
      "Updated list: [1, 2, 4, 5]\n"
     ]
    }
   ],
   "source": [
    "my_list = [1, 2, 3, 4, 5]\n",
    "\n",
    "# Remove an element by its value\n",
    "value_to_remove = 3\n",
    "my_list.remove(value_to_remove)\n",
    "\n",
    "print(\"Updated list:\", my_list)"
   ]
  },
  {
   "cell_type": "markdown",
   "id": "1068f632-4450-4cec-804a-348bf42d625b",
   "metadata": {},
   "source": [
    "Completed"
   ]
  },
  {
   "cell_type": "markdown",
   "id": "99020192-04b4-4d49-99cb-07fc443899a0",
   "metadata": {},
   "source": [
    ".................................."
   ]
  },
  {
   "cell_type": "markdown",
   "id": "8ee755c5-7117-440a-b612-b50cf6f01d52",
   "metadata": {},
   "source": [
    "Q6. Remove an element from a list by its index"
   ]
  },
  {
   "cell_type": "code",
   "execution_count": 59,
   "id": "e050d674-acf5-4a5a-9503-c03481356eae",
   "metadata": {},
   "outputs": [
    {
     "name": "stdout",
     "output_type": "stream",
     "text": [
      "Updated list: [1, 2, 4, 5]\n",
      "Removed element: 3\n"
     ]
    }
   ],
   "source": [
    "my_list = [1, 2, 3, 4, 5]\n",
    "\n",
    "# Remove an element by its index\n",
    "index_to_remove = 2  # Remove the element at index 2\n",
    "removed_element = my_list.pop(index_to_remove)\n",
    "\n",
    "print(\"Updated list:\", my_list)\n",
    "print(\"Removed element:\", removed_element)"
   ]
  },
  {
   "cell_type": "markdown",
   "id": "6c727f78-fed7-4c22-938c-0087937cc646",
   "metadata": {},
   "source": [
    "Completed"
   ]
  },
  {
   "cell_type": "markdown",
   "id": "e955c20d-fb24-484e-8b89-62cbb94e0dc8",
   "metadata": {},
   "source": [
    "..................................."
   ]
  },
  {
   "cell_type": "markdown",
   "id": "4e197da9-b246-4fd8-8a94-6961b30c42e7",
   "metadata": {},
   "source": [
    "Q7. Check if an element exists in a list."
   ]
  },
  {
   "cell_type": "code",
   "execution_count": 60,
   "id": "0256c7c9-6135-4f6f-b63e-41b5c077b850",
   "metadata": {},
   "outputs": [
    {
     "name": "stdout",
     "output_type": "stream",
     "text": [
      "3 exists in the list.\n"
     ]
    }
   ],
   "source": [
    "my_list = [1, 2, 3, 4, 5]\n",
    "\n",
    "# Element to check\n",
    "element_to_check = 3\n",
    "\n",
    "# Check if the element exists in the list\n",
    "if element_to_check in my_list:\n",
    "    print(f\"{element_to_check} exists in the list.\")\n",
    "else:\n",
    "    print(f\"{element_to_check} does not exist in the list.\")"
   ]
  },
  {
   "cell_type": "markdown",
   "id": "5cf6ee98-31b5-4e7d-bc06-dc3fc39ccbd5",
   "metadata": {},
   "source": [
    "Completed"
   ]
  },
  {
   "cell_type": "markdown",
   "id": "2f6de317-254d-4278-8c94-e93dbba4587e",
   "metadata": {},
   "source": [
    "...................................."
   ]
  },
  {
   "cell_type": "markdown",
   "id": "df9d081b-6248-491e-aae8-0afaa8acd108",
   "metadata": {},
   "source": [
    "Q8. Find the index of the first occurrence of an element in a list."
   ]
  },
  {
   "cell_type": "code",
   "execution_count": 61,
   "id": "246a58fe-a242-47f7-bee5-13c035f6a5b2",
   "metadata": {},
   "outputs": [
    {
     "name": "stdout",
     "output_type": "stream",
     "text": [
      "The index of the first occurrence of 20 is 1.\n"
     ]
    }
   ],
   "source": [
    "my_list = [10, 20, 30, 40, 50, 20]\n",
    "\n",
    "# Element to find the index of\n",
    "element_to_find = 20\n",
    "\n",
    "# Find the index of the first occurrence of the element\n",
    "index = my_list.index(element_to_find)\n",
    "\n",
    "print(f\"The index of the first occurrence of {element_to_find} is {index}.\")"
   ]
  },
  {
   "cell_type": "markdown",
   "id": "ce0aa901-93c1-4ad1-9169-c7a4f309c5a2",
   "metadata": {},
   "source": [
    "Completed"
   ]
  },
  {
   "cell_type": "markdown",
   "id": "0dc58c1e-3c15-46f4-8321-60d6731f5871",
   "metadata": {},
   "source": [
    "....................................."
   ]
  },
  {
   "cell_type": "markdown",
   "id": "7dd0a567-0830-4afb-99be-5b3332de1f72",
   "metadata": {},
   "source": [
    "Q9. Count the occurrences of an element in a list."
   ]
  },
  {
   "cell_type": "code",
   "execution_count": 62,
   "id": "31dc2a10-acc4-42bb-b996-cd6b746af12f",
   "metadata": {},
   "outputs": [
    {
     "name": "stdout",
     "output_type": "stream",
     "text": [
      "The element 20 appears 2 time(s) in the list.\n"
     ]
    }
   ],
   "source": [
    "my_list = [10, 20, 30, 40, 50, 20]\n",
    "\n",
    "# Element to count\n",
    "element_to_count = 20\n",
    "\n",
    "# Count the occurrences of the element\n",
    "count = my_list.count(element_to_count)\n",
    "\n",
    "print(f\"The element {element_to_count} appears {count} time(s) in the list.\")"
   ]
  },
  {
   "cell_type": "markdown",
   "id": "64a512b3-6518-49d2-b1ef-26eebe8892a0",
   "metadata": {},
   "source": [
    "Completed"
   ]
  },
  {
   "cell_type": "markdown",
   "id": "25faca77-3e93-4254-a94e-89a65046674d",
   "metadata": {},
   "source": [
    "....................................."
   ]
  },
  {
   "cell_type": "markdown",
   "id": "38450079-4acd-4da9-975c-39a0331a2d8a",
   "metadata": {},
   "source": [
    "Q10. Reverse the order of elements in a list."
   ]
  },
  {
   "cell_type": "code",
   "execution_count": 63,
   "id": "6413d22c-7aa8-492f-a07c-1cf77b68cefe",
   "metadata": {},
   "outputs": [
    {
     "name": "stdout",
     "output_type": "stream",
     "text": [
      "The element 20 appears 2 time(s) in the list.\n"
     ]
    }
   ],
   "source": [
    "my_list = [10, 20, 30, 40, 50, 20]\n",
    "\n",
    "# Element to count\n",
    "element_to_count = 20\n",
    "\n",
    "# Count the occurrences of the element\n",
    "count = my_list.count(element_to_count)\n",
    "\n",
    "print(f\"The element {element_to_count} appears {count} time(s) in the list.\")"
   ]
  },
  {
   "cell_type": "markdown",
   "id": "dde101f1-fa7f-45d6-9ae2-25fa73d0a856",
   "metadata": {},
   "source": [
    "Completed"
   ]
  },
  {
   "cell_type": "markdown",
   "id": "286e2031-2351-48aa-b6a6-4a9b44db714b",
   "metadata": {},
   "source": [
    "...................................."
   ]
  },
  {
   "cell_type": "markdown",
   "id": "06906fa1-1bc8-4167-8711-1a64a575c35b",
   "metadata": {},
   "source": [
    "Q11. Sort a list in ascending order."
   ]
  },
  {
   "cell_type": "code",
   "execution_count": 64,
   "id": "a0719afb-e58e-4750-8e88-88fce0aca9ba",
   "metadata": {},
   "outputs": [
    {
     "name": "stdout",
     "output_type": "stream",
     "text": [
      "Sorted list: [1, 2, 3, 5, 8]\n"
     ]
    }
   ],
   "source": [
    "my_list = [5, 2, 8, 1, 3]\n",
    "\n",
    "# Sort the list in ascending order using the sort() method\n",
    "my_list.sort()\n",
    "\n",
    "print(\"Sorted list:\", my_list)"
   ]
  },
  {
   "cell_type": "markdown",
   "id": "a0650f99-e6c2-4898-a62a-69e6495512b9",
   "metadata": {},
   "source": [
    "Completed"
   ]
  },
  {
   "cell_type": "markdown",
   "id": "e962602f-fdcc-428a-a7ff-c51e31cd5373",
   "metadata": {},
   "source": [
    "......................................"
   ]
  },
  {
   "cell_type": "markdown",
   "id": "a0e569a1-e42c-4149-b795-4f88918b37e7",
   "metadata": {},
   "source": [
    "Q12. Sort a list in descending order."
   ]
  },
  {
   "cell_type": "code",
   "execution_count": 65,
   "id": "2d011522-0da4-4490-bc1a-610090c1752c",
   "metadata": {},
   "outputs": [
    {
     "name": "stdout",
     "output_type": "stream",
     "text": [
      "Sorted list in descending order: [8, 5, 3, 2, 1]\n"
     ]
    }
   ],
   "source": [
    "my_list = [5, 2, 8, 1, 3]\n",
    "\n",
    "# Create a new sorted list in descending order using the sorted() function\n",
    "sorted_list_descending = sorted(my_list, reverse=True)\n",
    "\n",
    "print(\"Sorted list in descending order:\", sorted_list_descending)"
   ]
  },
  {
   "cell_type": "markdown",
   "id": "27613563-7749-4d6e-a579-f66e039faa72",
   "metadata": {},
   "source": [
    "Completed"
   ]
  },
  {
   "cell_type": "markdown",
   "id": "7f7bdfa2-d254-40e7-b0ea-e761adc5822f",
   "metadata": {},
   "source": [
    ".............................."
   ]
  },
  {
   "cell_type": "markdown",
   "id": "5433dbb1-6815-41c4-863e-5299f0edd283",
   "metadata": {},
   "source": [
    "Q13. Create a list of even numbers from 1 to 20."
   ]
  },
  {
   "cell_type": "code",
   "execution_count": 66,
   "id": "6b598299-f762-4fcf-b462-7af319ecb3b3",
   "metadata": {},
   "outputs": [
    {
     "name": "stdout",
     "output_type": "stream",
     "text": [
      "List of even numbers: [2, 4, 6, 8, 10, 12, 14, 16, 18, 20]\n"
     ]
    }
   ],
   "source": [
    "even_numbers = list(range(2, 21, 2))\n",
    "\n",
    "print(\"List of even numbers:\", even_numbers)"
   ]
  },
  {
   "cell_type": "markdown",
   "id": "eb341933-7d92-45f1-8aa1-85fe8ee458f3",
   "metadata": {},
   "source": [
    "Completed"
   ]
  },
  {
   "cell_type": "markdown",
   "id": "a8349893-1a40-4fe1-8c97-27424af58764",
   "metadata": {},
   "source": [
    "...................................."
   ]
  },
  {
   "cell_type": "markdown",
   "id": "b667a713-c47e-46e4-b327-f6688559eca7",
   "metadata": {},
   "source": [
    "Q14. Create a list of odd numbers from 1 to 20."
   ]
  },
  {
   "cell_type": "code",
   "execution_count": 67,
   "id": "ac1a6d50-19ec-4a0e-bbfb-53dcc3023f4f",
   "metadata": {},
   "outputs": [
    {
     "name": "stdout",
     "output_type": "stream",
     "text": [
      "List of odd numbers: [1, 3, 5, 7, 9, 11, 13, 15, 17, 19]\n"
     ]
    }
   ],
   "source": [
    "odd_numbers = list(range(1, 21, 2))\n",
    "\n",
    "print(\"List of odd numbers:\", odd_numbers)"
   ]
  },
  {
   "cell_type": "markdown",
   "id": "cd691a3f-e842-4141-a85b-fcaaf3ef5588",
   "metadata": {},
   "source": [
    "Completed"
   ]
  },
  {
   "cell_type": "markdown",
   "id": "a078a358-70bf-4ccc-aa0f-fa88703083fc",
   "metadata": {},
   "source": [
    "................................"
   ]
  },
  {
   "cell_type": "markdown",
   "id": "eb814a2a-ae67-4dff-a5e6-f7de360490be",
   "metadata": {},
   "source": [
    "Q15. Find the sum of all elements in a list."
   ]
  },
  {
   "cell_type": "code",
   "execution_count": 68,
   "id": "6fb192c4-51b7-4670-895b-e952d94d06a4",
   "metadata": {},
   "outputs": [
    {
     "name": "stdout",
     "output_type": "stream",
     "text": [
      "Sum of elements: 150\n"
     ]
    }
   ],
   "source": [
    "my_list = [10, 20, 30, 40, 50]\n",
    "\n",
    "# Find the sum of all elements in the list\n",
    "sum_of_elements = sum(my_list)\n",
    "\n",
    "print(\"Sum of elements:\", sum_of_elements)"
   ]
  },
  {
   "cell_type": "markdown",
   "id": "fbdb1031-4346-403e-b328-990fde14de39",
   "metadata": {},
   "source": [
    "Completed"
   ]
  },
  {
   "cell_type": "markdown",
   "id": "e4a35749-f29a-4b18-b8b9-d083a2f64c34",
   "metadata": {},
   "source": [
    "....................................."
   ]
  },
  {
   "cell_type": "markdown",
   "id": "0128131e-efab-44ec-9155-cefae6cd4d9e",
   "metadata": {},
   "source": [
    "Q16. Find the maximum value in a list."
   ]
  },
  {
   "cell_type": "code",
   "execution_count": 69,
   "id": "28eb4bf3-1a8b-4328-a28c-ea42ad84537b",
   "metadata": {},
   "outputs": [
    {
     "name": "stdout",
     "output_type": "stream",
     "text": [
      "The maximum value is: 9\n"
     ]
    }
   ],
   "source": [
    "my_list = [3, 8, 1, 5, 9, 4]\n",
    "max_value = max(my_list)\n",
    "print(\"The maximum value is:\", max_value)"
   ]
  },
  {
   "cell_type": "markdown",
   "id": "e50403e2-31d7-4198-835c-480a1e2c6d56",
   "metadata": {},
   "source": [
    "Completed"
   ]
  },
  {
   "cell_type": "markdown",
   "id": "1f6fa69b-23e6-42dc-9d74-ebefa4fad96a",
   "metadata": {},
   "source": [
    "..............................."
   ]
  },
  {
   "cell_type": "markdown",
   "id": "37c112ed-55e3-4935-9dbc-5dcca7fe2b7b",
   "metadata": {},
   "source": [
    "Q17. Find the minimum value in a list."
   ]
  },
  {
   "cell_type": "code",
   "execution_count": 70,
   "id": "5f459ed7-e688-4295-bfdf-db8afdf8cebb",
   "metadata": {},
   "outputs": [
    {
     "name": "stdout",
     "output_type": "stream",
     "text": [
      "The minimum value is: 1\n"
     ]
    }
   ],
   "source": [
    "my_list = [3, 8, 1, 5, 9, 4]\n",
    "min_value = min(my_list)\n",
    "print(\"The minimum value is:\", min_value)"
   ]
  },
  {
   "cell_type": "markdown",
   "id": "ab5f9d06-139f-45d3-8ce0-aa7acab97008",
   "metadata": {},
   "source": [
    "Completed"
   ]
  },
  {
   "cell_type": "markdown",
   "id": "9e4bac5e-41d3-49bb-a259-215f94460c7a",
   "metadata": {},
   "source": [
    "....................................."
   ]
  },
  {
   "cell_type": "markdown",
   "id": "f6dc55e9-664a-46af-977e-a1ed695446e2",
   "metadata": {},
   "source": [
    "Q18. Create a list of squares of numbers from 1 to 10."
   ]
  },
  {
   "cell_type": "code",
   "execution_count": 71,
   "id": "c30f7175-6909-4770-8d0e-1972be7d4aec",
   "metadata": {},
   "outputs": [
    {
     "name": "stdout",
     "output_type": "stream",
     "text": [
      "[1, 4, 9, 16, 25, 36, 49, 64, 81, 100]\n"
     ]
    }
   ],
   "source": [
    "squares = [x ** 2 for x in range(1, 11)]\n",
    "print(squares)"
   ]
  },
  {
   "cell_type": "markdown",
   "id": "308da56e-acdc-41b7-b4a3-7576083e43ec",
   "metadata": {},
   "source": [
    "Completed"
   ]
  },
  {
   "cell_type": "markdown",
   "id": "03d28cc6-f38f-444c-9fde-811b5dd965dd",
   "metadata": {},
   "source": [
    "................................."
   ]
  },
  {
   "cell_type": "markdown",
   "id": "3036866e-7730-440f-ad81-63e9b5c73c0d",
   "metadata": {},
   "source": [
    "Q19. Create a list of random numbers."
   ]
  },
  {
   "cell_type": "code",
   "execution_count": 72,
   "id": "e9a9ba5b-163f-414b-9e7d-b2bfe22e5f52",
   "metadata": {},
   "outputs": [
    {
     "name": "stdout",
     "output_type": "stream",
     "text": [
      "[76, 62, 38, 5, 56]\n"
     ]
    }
   ],
   "source": [
    "import random\n",
    "\n",
    "random_numbers = [random.randint(1, 100) for _ in range(5)]\n",
    "print(random_numbers)"
   ]
  },
  {
   "cell_type": "markdown",
   "id": "50015928-41ae-4105-8335-521f8c27ad64",
   "metadata": {},
   "source": [
    "Completed"
   ]
  },
  {
   "cell_type": "markdown",
   "id": "775c7b09-8f93-4181-9f29-d62b261abd05",
   "metadata": {},
   "source": [
    "..............................."
   ]
  },
  {
   "cell_type": "markdown",
   "id": "5c704bdd-44b9-407f-a1f5-99327ec716c8",
   "metadata": {},
   "source": [
    "Q20. Remove duplicates from a list."
   ]
  },
  {
   "cell_type": "code",
   "execution_count": 73,
   "id": "8512d12b-cada-40af-90a9-5d7512083929",
   "metadata": {},
   "outputs": [
    {
     "name": "stdout",
     "output_type": "stream",
     "text": [
      "[2, 4, 6, 8, 10]\n"
     ]
    }
   ],
   "source": [
    "original_list = [2, 4, 6, 2, 8, 6, 10, 4]\n",
    "unique_list = list(set(original_list))\n",
    "print(unique_list)"
   ]
  },
  {
   "cell_type": "markdown",
   "id": "440a0021-c41b-443b-aae2-8f665242d8b9",
   "metadata": {},
   "source": [
    "Completed"
   ]
  },
  {
   "cell_type": "markdown",
   "id": "15cc5534-77a3-4b10-846d-7d153f43d1ce",
   "metadata": {},
   "source": [
    "..................................."
   ]
  },
  {
   "cell_type": "markdown",
   "id": "572651f3-7349-469d-9bc2-6fbbe289709c",
   "metadata": {},
   "source": [
    "Q21. Find the common elements between two lists."
   ]
  },
  {
   "cell_type": "code",
   "execution_count": 74,
   "id": "738b6f38-cfd4-410e-8026-c4724dc9991b",
   "metadata": {},
   "outputs": [
    {
     "name": "stdout",
     "output_type": "stream",
     "text": [
      "[6, 8]\n"
     ]
    }
   ],
   "source": [
    "#Using List Comprehension:\n",
    "\n",
    "list1 = [2, 4, 6, 8, 10]\n",
    "list2 = [6, 8, 12, 14, 16]\n",
    "\n",
    "common_elements = [element for element in list1 if element in list2]\n",
    "print(common_elements)"
   ]
  },
  {
   "cell_type": "code",
   "execution_count": 75,
   "id": "432ffb41-24c6-4588-8999-586cf52c2682",
   "metadata": {},
   "outputs": [
    {
     "name": "stdout",
     "output_type": "stream",
     "text": [
      "[8, 6]\n"
     ]
    }
   ],
   "source": [
    "#Using Sets:\n",
    "\n",
    "list1 = [2, 4, 6, 8, 10]\n",
    "list2 = [6, 8, 12, 14, 16]\n",
    "\n",
    "set1 = set(list1)\n",
    "set2 = set(list2)\n",
    "\n",
    "common_elements = list(set1.intersection(set2))\n",
    "print(common_elements)"
   ]
  },
  {
   "cell_type": "markdown",
   "id": "ad26c5cf-fbfb-4771-8311-44d0258ced01",
   "metadata": {},
   "source": [
    "Completed"
   ]
  },
  {
   "cell_type": "markdown",
   "id": "25258dbb-452e-45da-9bd0-ae8fa0d150fc",
   "metadata": {},
   "source": [
    ".............................."
   ]
  },
  {
   "cell_type": "markdown",
   "id": "a1941494-8b46-40be-af4e-b08c3e462f38",
   "metadata": {},
   "source": [
    "Q22. Find the difference between two lists"
   ]
  },
  {
   "cell_type": "code",
   "execution_count": 76,
   "id": "a90d3973-d329-4a6c-80b0-814951df0524",
   "metadata": {},
   "outputs": [
    {
     "name": "stdout",
     "output_type": "stream",
     "text": [
      "[2, 4, 10]\n"
     ]
    }
   ],
   "source": [
    "#Finding Elements in the First List but Not in the Second:\n",
    "\n",
    "list1 = [2, 4, 6, 8, 10]\n",
    "list2 = [6, 8, 12, 14, 16]\n",
    "\n",
    "difference = [element for element in list1 if element not in list2]\n",
    "print(difference)"
   ]
  },
  {
   "cell_type": "code",
   "execution_count": 77,
   "id": "c1356aac-e637-44d6-8942-469e8341e91e",
   "metadata": {},
   "outputs": [
    {
     "name": "stdout",
     "output_type": "stream",
     "text": [
      "[12, 14, 16]\n"
     ]
    }
   ],
   "source": [
    "#Finding Elements in the Second List but Not in the First:\n",
    "\n",
    "list1 = [2, 4, 6, 8, 10]\n",
    "list2 = [6, 8, 12, 14, 16]\n",
    "\n",
    "difference = [element for element in list2 if element not in list1]\n",
    "print(difference)"
   ]
  },
  {
   "cell_type": "code",
   "execution_count": 78,
   "id": "29ef3ae5-5450-40f9-874a-7414852c3ef0",
   "metadata": {},
   "outputs": [
    {
     "name": "stdout",
     "output_type": "stream",
     "text": [
      "[2, 10, 4]\n",
      "[16, 12, 14]\n"
     ]
    }
   ],
   "source": [
    "#Using Sets to Find Differences:\n",
    "\n",
    "list1 = [2, 4, 6, 8, 10]\n",
    "list2 = [6, 8, 12, 14, 16]\n",
    "\n",
    "set1 = set(list1)\n",
    "set2 = set(list2)\n",
    "\n",
    "difference1 = list(set1 - set2)  # Elements in set1 but not in set2\n",
    "difference2 = list(set2 - set1)  # Elements in set2 but not in set1\n",
    "\n",
    "print(difference1)\n",
    "print(difference2)"
   ]
  },
  {
   "cell_type": "markdown",
   "id": "9ee53cae-2dc4-4dd6-9c80-c710d99b004a",
   "metadata": {},
   "source": [
    "Completed"
   ]
  },
  {
   "cell_type": "markdown",
   "id": "4aca594c-8ac9-4ca6-a8a6-13ccb5efea15",
   "metadata": {},
   "source": [
    "............................"
   ]
  },
  {
   "cell_type": "markdown",
   "id": "118c115b-81ef-41e9-88f1-6a62ae1d4b06",
   "metadata": {},
   "source": [
    "Q23. Merge two lists."
   ]
  },
  {
   "cell_type": "code",
   "execution_count": 79,
   "id": "9eae67ae-2bab-4fdd-b397-6c90d0edf8d6",
   "metadata": {},
   "outputs": [
    {
     "name": "stdout",
     "output_type": "stream",
     "text": [
      "[2, 4, 6, 8, 10, 12]\n"
     ]
    }
   ],
   "source": [
    "list1 = [2, 4, 6]\n",
    "list2 = [8, 10, 12]\n",
    "\n",
    "merged_list = list1 + list2\n",
    "print(merged_list)"
   ]
  },
  {
   "cell_type": "markdown",
   "id": "f752fd71-c1ea-44a1-a092-a27d5ab5d679",
   "metadata": {},
   "source": [
    "Completed"
   ]
  },
  {
   "cell_type": "markdown",
   "id": "2f06551f-0aa0-4be5-b3d4-4596e8387612",
   "metadata": {},
   "source": [
    "..............................."
   ]
  },
  {
   "cell_type": "markdown",
   "id": "1797aae2-a67c-4184-addf-6629646a37ac",
   "metadata": {},
   "source": [
    "Q24. Multiply all elements in a list by 2."
   ]
  },
  {
   "cell_type": "code",
   "execution_count": 80,
   "id": "53c4bba4-c147-4044-acc2-250e24fab644",
   "metadata": {},
   "outputs": [
    {
     "name": "stdout",
     "output_type": "stream",
     "text": [
      "[6, 12, 18, 24, 30]\n"
     ]
    }
   ],
   "source": [
    "#using a loop:\n",
    "\n",
    "original_list = [3, 6, 9, 12, 15]\n",
    "multiplied_list = []\n",
    "\n",
    "for item in original_list:\n",
    "    multiplied_list.append(item * 2)\n",
    "\n",
    "print(multiplied_list)"
   ]
  },
  {
   "cell_type": "code",
   "execution_count": 81,
   "id": "68325b49-c995-46d7-8442-79f33d8113fa",
   "metadata": {},
   "outputs": [
    {
     "name": "stdout",
     "output_type": "stream",
     "text": [
      "[6, 12, 18, 24, 30]\n"
     ]
    }
   ],
   "source": [
    "#Using a List Comprehension:\n",
    "\n",
    "original_list = [3, 6, 9, 12, 15]\n",
    "multiplied_list = [item * 2 for item in original_list]\n",
    "\n",
    "print(multiplied_list)"
   ]
  },
  {
   "cell_type": "markdown",
   "id": "3dd570a8-8fee-460e-aad9-b307b526dde0",
   "metadata": {},
   "source": [
    "Completed"
   ]
  },
  {
   "cell_type": "markdown",
   "id": "49b524cb-0975-4311-82e0-2fe44fa5cf1f",
   "metadata": {},
   "source": [
    "................................."
   ]
  },
  {
   "cell_type": "markdown",
   "id": "e1b80d2b-3541-40ae-8c3a-7270022046cb",
   "metadata": {},
   "source": [
    "Q25. Filter out all even numbers from a list."
   ]
  },
  {
   "cell_type": "code",
   "execution_count": 82,
   "id": "855bda20-e6db-4ba6-84f4-5719f1ff81ef",
   "metadata": {},
   "outputs": [
    {
     "name": "stdout",
     "output_type": "stream",
     "text": [
      "[1, 3, 5, 7, 9]\n"
     ]
    }
   ],
   "source": [
    "def filter_even_numbers(input_list):\n",
    "    return [x for x in input_list if x % 2 != 0]\n",
    "\n",
    "numbers = [1, 2, 3, 4, 5, 6, 7, 8, 9, 10]\n",
    "filtered_numbers = filter_even_numbers(numbers)\n",
    "print(filtered_numbers)"
   ]
  },
  {
   "cell_type": "markdown",
   "id": "cb1c2482-0a28-4197-9a0e-a38365a10109",
   "metadata": {},
   "source": [
    "Completed"
   ]
  },
  {
   "cell_type": "markdown",
   "id": "850a2664-0e94-4d4b-9172-e2e0dbd1cef0",
   "metadata": {},
   "source": [
    "/////////////////////////////"
   ]
  },
  {
   "cell_type": "markdown",
   "id": "1514fa23-c09f-4e48-8ed8-248b542162e5",
   "metadata": {},
   "source": [
    "Q26. Convert a list of strings to a list of integers"
   ]
  },
  {
   "cell_type": "code",
   "execution_count": 83,
   "id": "c7bb9e4c-eda4-4a7a-983c-80dddab39410",
   "metadata": {},
   "outputs": [
    {
     "name": "stdout",
     "output_type": "stream",
     "text": [
      "[1, 2, 3, 4, 5]\n"
     ]
    }
   ],
   "source": [
    "string_list = [\"1\", \"2\", \"3\", \"4\", \"5\"]\n",
    "integer_list = list(map(int, string_list))\n",
    "print(integer_list)"
   ]
  },
  {
   "cell_type": "markdown",
   "id": "cb707254-ae15-49d6-87e1-694d34a57e1e",
   "metadata": {},
   "source": [
    "Completed"
   ]
  },
  {
   "cell_type": "markdown",
   "id": "e40553f6-70a3-4667-a3ca-b70e79d8f9f8",
   "metadata": {},
   "source": [
    "/////////////////////////////"
   ]
  },
  {
   "cell_type": "markdown",
   "id": "817e59db-7a9e-4259-aee6-415ef8d4e962",
   "metadata": {},
   "source": [
    "Q27. Convert a list of integers to a list of strings."
   ]
  },
  {
   "cell_type": "code",
   "execution_count": 84,
   "id": "280eea2d-4776-4d7d-ac47-5b1b90bc5cf4",
   "metadata": {},
   "outputs": [
    {
     "name": "stdout",
     "output_type": "stream",
     "text": [
      "['1', '2', '3', '4', '5']\n"
     ]
    }
   ],
   "source": [
    "integer_list = [1, 2, 3, 4, 5]\n",
    "string_list = [str(x) for x in integer_list]\n",
    "print(string_list)\n"
   ]
  },
  {
   "cell_type": "markdown",
   "id": "8e1b12ff-c6db-4f78-a150-13fd2b236efa",
   "metadata": {},
   "source": [
    "Completed"
   ]
  },
  {
   "cell_type": "markdown",
   "id": "97339dce-872a-42ee-a8e7-8925af7d149c",
   "metadata": {},
   "source": [
    "///////////////////////////"
   ]
  },
  {
   "cell_type": "markdown",
   "id": "c944d7f6-b33f-49db-bc9a-61cbd14a041c",
   "metadata": {},
   "source": [
    "Q28. Flatten a nested list."
   ]
  },
  {
   "cell_type": "code",
   "execution_count": 85,
   "id": "c73aa0ea-f734-4dfb-9454-ede3c0627006",
   "metadata": {},
   "outputs": [
    {
     "name": "stdout",
     "output_type": "stream",
     "text": [
      "[1, 2, 3, 4, 5, 6, 7, 8]\n"
     ]
    }
   ],
   "source": [
    "def flatten_list(nested_list):\n",
    "    flat_list = []\n",
    "    for item in nested_list:\n",
    "        if isinstance(item, list):\n",
    "            flat_list.extend(flatten_list(item))\n",
    "        else:\n",
    "            flat_list.append(item)\n",
    "    return flat_list\n",
    "\n",
    "nested_list = [1, [2, 3, [4, 5]], 6, [7, 8]]\n",
    "flattened = flatten_list(nested_list)\n",
    "print(flattened)\n"
   ]
  },
  {
   "cell_type": "markdown",
   "id": "f9f9c916-6830-41aa-9dda-cf96509a8dce",
   "metadata": {},
   "source": [
    "Completed"
   ]
  },
  {
   "cell_type": "markdown",
   "id": "f5695a43-5e39-44d8-849a-f0da5be0ceb4",
   "metadata": {},
   "source": [
    "//////////////////////////"
   ]
  },
  {
   "cell_type": "markdown",
   "id": "26f4a6ed-aa85-427f-bb74-ec7367af64cc",
   "metadata": {},
   "source": [
    "Q29. Create a list of the first 10 Fibonacci numbers."
   ]
  },
  {
   "cell_type": "code",
   "execution_count": 86,
   "id": "bdc1423d-d196-49c4-8396-cb6b87c1fb1a",
   "metadata": {},
   "outputs": [
    {
     "name": "stdout",
     "output_type": "stream",
     "text": [
      "[0, 1, 1, 2, 3, 5, 8, 13, 21, 34]\n"
     ]
    }
   ],
   "source": [
    "def generate_fibonacci(n):\n",
    "    fibonacci_list = [0, 1]\n",
    "    while len(fibonacci_list) < n:\n",
    "        next_fibonacci = fibonacci_list[-1] + fibonacci_list[-2]\n",
    "        fibonacci_list.append(next_fibonacci)\n",
    "    return fibonacci_list\n",
    "\n",
    "fibonacci_numbers = generate_fibonacci(10)\n",
    "print(fibonacci_numbers)\n"
   ]
  },
  {
   "cell_type": "markdown",
   "id": "5975d33e-6a13-4df6-b6fa-b5f9145b03ac",
   "metadata": {},
   "source": [
    "Completed"
   ]
  },
  {
   "cell_type": "markdown",
   "id": "a7d3097d-6940-4c4d-9123-24d3257a1555",
   "metadata": {},
   "source": [
    "///////////////////////////////"
   ]
  },
  {
   "cell_type": "markdown",
   "id": "b53ca78b-a55d-41cf-89e2-2e93a2b0973a",
   "metadata": {},
   "source": [
    "Q30. Check if a list is sorted."
   ]
  },
  {
   "cell_type": "code",
   "execution_count": 87,
   "id": "435ab770-9468-4e43-99b8-0062854058ed",
   "metadata": {},
   "outputs": [
    {
     "name": "stdout",
     "output_type": "stream",
     "text": [
      "True\n",
      "False\n"
     ]
    }
   ],
   "source": [
    "def is_sorted(input_list):\n",
    "    for i in range(1, len(input_list)):\n",
    "        if input_list[i - 1] > input_list[i]:\n",
    "            return False\n",
    "    return True\n",
    "\n",
    "sorted_list = [1, 2, 3, 4, 5]\n",
    "unsorted_list = [3, 1, 4, 1, 5]\n",
    "\n",
    "print(is_sorted(sorted_list))   # Output: True\n",
    "print(is_sorted(unsorted_list)) # Output: False\n"
   ]
  },
  {
   "cell_type": "markdown",
   "id": "b96e4a4e-9d51-4e23-bc03-fbc6a1cf14b2",
   "metadata": {},
   "source": [
    "Completed"
   ]
  },
  {
   "cell_type": "markdown",
   "id": "28494f1d-a570-488e-8f65-80d9d5b2eaa9",
   "metadata": {},
   "source": [
    "////////////////////////////////"
   ]
  },
  {
   "cell_type": "markdown",
   "id": "ed89bfd1-dd78-467a-97ed-2df0e4465b5e",
   "metadata": {},
   "source": [
    "Q31. Rotate a list to the left by `n` positions."
   ]
  },
  {
   "cell_type": "code",
   "execution_count": 88,
   "id": "adcf7a97-8f6b-425a-a93a-e396e08bf757",
   "metadata": {},
   "outputs": [
    {
     "name": "stdout",
     "output_type": "stream",
     "text": [
      "[3, 4, 5, 1, 2]\n"
     ]
    }
   ],
   "source": [
    "def rotate_left(input_list, n):\n",
    "    n = n % len(input_list)  # Handle cases where n is larger than the list length\n",
    "    return input_list[n:] + input_list[:n]\n",
    "\n",
    "original_list = [1, 2, 3, 4, 5]\n",
    "rotated_list = rotate_left(original_list, 2)\n",
    "print(rotated_list)\n"
   ]
  },
  {
   "cell_type": "markdown",
   "id": "1f863fe4-9439-4987-863f-df7abc230c28",
   "metadata": {},
   "source": [
    "Completed"
   ]
  },
  {
   "cell_type": "markdown",
   "id": "f53379cd-e675-4acc-9339-bcc02c88d73f",
   "metadata": {},
   "source": [
    "///////////////////////////////////"
   ]
  },
  {
   "cell_type": "markdown",
   "id": "0c85e3df-247b-426a-926c-6f5295132f75",
   "metadata": {},
   "source": [
    "Q32. Rotate a list to the right by `n` positions."
   ]
  },
  {
   "cell_type": "code",
   "execution_count": 89,
   "id": "aff75ee3-8e1e-40a1-9e0d-9dc228939ddf",
   "metadata": {},
   "outputs": [
    {
     "name": "stdout",
     "output_type": "stream",
     "text": [
      "[4, 5, 1, 2, 3]\n"
     ]
    }
   ],
   "source": [
    "def rotate_right(input_list, n):\n",
    "    n = n % len(input_list)  # Handle cases where n is larger than the list length\n",
    "    return input_list[-n:] + input_list[:-n]\n",
    "\n",
    "original_list = [1, 2, 3, 4, 5]\n",
    "rotated_list = rotate_right(original_list, 2)\n",
    "print(rotated_list)\n"
   ]
  },
  {
   "cell_type": "markdown",
   "id": "236508c1-b0c9-4f38-bc18-3fbb760b0073",
   "metadata": {},
   "source": [
    "Completed"
   ]
  },
  {
   "cell_type": "markdown",
   "id": "e3a801d3-e3a1-4abd-afa2-e21cffd0e4f7",
   "metadata": {},
   "source": [
    "////////////////////////////////"
   ]
  },
  {
   "cell_type": "markdown",
   "id": "475c3733-e494-45fd-acfc-f871ab3baa65",
   "metadata": {},
   "source": [
    "Q33. Create a list of prime numbers up to 50."
   ]
  },
  {
   "cell_type": "code",
   "execution_count": 90,
   "id": "ad75473f-d203-4cf7-83ae-642d97cc8be2",
   "metadata": {},
   "outputs": [
    {
     "name": "stdout",
     "output_type": "stream",
     "text": [
      "[2, 3, 5, 7, 11, 13, 17, 19, 23, 29, 31, 37, 41, 43, 47]\n"
     ]
    }
   ],
   "source": [
    "def is_prime(number):\n",
    "    if number <= 1:\n",
    "        return False\n",
    "    for i in range(2, int(number ** 0.5) + 1):\n",
    "        if number % i == 0:\n",
    "            return False\n",
    "    return True\n",
    "\n",
    "prime_numbers = [num for num in range(2, 51) if is_prime(num)]\n",
    "print(prime_numbers)\n"
   ]
  },
  {
   "cell_type": "markdown",
   "id": "939ddd6a-5920-4a75-b55a-3edce665673f",
   "metadata": {},
   "source": [
    "Completed"
   ]
  },
  {
   "cell_type": "markdown",
   "id": "e859f05f-b3a7-4438-ba7b-cb2acd270f8f",
   "metadata": {},
   "source": [
    "////////////////////////////"
   ]
  },
  {
   "cell_type": "markdown",
   "id": "dbc72493-35ff-41d2-8266-dbef972923a0",
   "metadata": {},
   "source": [
    "Q34. Split a list into chunks of size `n`."
   ]
  },
  {
   "cell_type": "code",
   "execution_count": 91,
   "id": "813bd6cf-31dc-4d02-9c4d-9d94a57e2dbf",
   "metadata": {},
   "outputs": [
    {
     "name": "stdout",
     "output_type": "stream",
     "text": [
      "[[1, 2, 3], [4, 5, 6], [7, 8, 9], [10]]\n"
     ]
    }
   ],
   "source": [
    "def split_into_chunks(input_list, chunk_size):\n",
    "    return [input_list[i:i + chunk_size] for i in range(0, len(input_list), chunk_size)]\n",
    "\n",
    "original_list = [1, 2, 3, 4, 5, 6, 7, 8, 9, 10]\n",
    "chunk_size = 3\n",
    "chunks = split_into_chunks(original_list, chunk_size)\n",
    "print(chunks)\n"
   ]
  },
  {
   "cell_type": "markdown",
   "id": "29b2edd4-65fe-4888-b347-2f68180245dc",
   "metadata": {},
   "source": [
    "Completed"
   ]
  },
  {
   "cell_type": "markdown",
   "id": "ba8002b0-2193-45a3-bee3-e0590a717257",
   "metadata": {},
   "source": [
    "////////////////////////////////"
   ]
  },
  {
   "cell_type": "markdown",
   "id": "c2f59efd-7ebd-42a7-8108-c0b7b1baf0a5",
   "metadata": {},
   "source": [
    "Q35. Find the second largest number in a list."
   ]
  },
  {
   "cell_type": "code",
   "execution_count": 92,
   "id": "99bc9cfc-11b5-4c2c-92a2-7805d71c5e62",
   "metadata": {},
   "outputs": [
    {
     "name": "stdout",
     "output_type": "stream",
     "text": [
      "41\n"
     ]
    }
   ],
   "source": [
    "def second_largest(input_list):\n",
    "    sorted_list = sorted(input_list, reverse=True)\n",
    "    return sorted_list[1]\n",
    "\n",
    "numbers = [12, 45, 2, 41, 31, 10, 8]\n",
    "second_largest_number = second_largest(numbers)\n",
    "print(second_largest_number)\n"
   ]
  },
  {
   "cell_type": "markdown",
   "id": "f9175e01-d4cb-4e08-a5f4-5e9669dccbd7",
   "metadata": {},
   "source": [
    "Completed"
   ]
  },
  {
   "cell_type": "markdown",
   "id": "7e821794-ecdb-482d-bca9-8b786ca0ec7f",
   "metadata": {},
   "source": [
    "////////////////////////////////"
   ]
  },
  {
   "cell_type": "markdown",
   "id": "0b1577f5-0b9f-4cc6-9d59-d8f100c6f763",
   "metadata": {},
   "source": [
    "Q36. Replace every element in a list with its square."
   ]
  },
  {
   "cell_type": "code",
   "execution_count": 93,
   "id": "a0c2d9ce-ed48-47a3-a7fe-7d605c732bfb",
   "metadata": {},
   "outputs": [
    {
     "name": "stdout",
     "output_type": "stream",
     "text": [
      "[4, 16, 36, 64, 100]\n"
     ]
    }
   ],
   "source": [
    "original_list = [2, 4, 6, 8, 10]\n",
    "squared_list = [x ** 2 for x in original_list]\n",
    "print(squared_list)\n"
   ]
  },
  {
   "cell_type": "markdown",
   "id": "2d020dcf-1c81-44b0-aa14-83ff96160f3d",
   "metadata": {},
   "source": [
    "Completed"
   ]
  },
  {
   "cell_type": "markdown",
   "id": "82654979-8d5b-46e1-9b6d-a5f6edd42b30",
   "metadata": {},
   "source": [
    "/////////////////////////////////"
   ]
  },
  {
   "cell_type": "markdown",
   "id": "d50dcb98-d739-4820-b525-244601a6844d",
   "metadata": {},
   "source": [
    "Q37. Convert a list to a dictionary where list elements become keys and their\n",
    "indices become values."
   ]
  },
  {
   "cell_type": "code",
   "execution_count": 94,
   "id": "7fc071c7-72c2-4b75-8ee8-ed23408adc89",
   "metadata": {},
   "outputs": [
    {
     "name": "stdout",
     "output_type": "stream",
     "text": [
      "{'apple': 0, 'banana': 1, 'cherry': 2, 'date': 3}\n"
     ]
    }
   ],
   "source": [
    "def list_to_dict(input_list):\n",
    "    return {value: index for index, value in enumerate(input_list)}\n",
    "\n",
    "my_list = ['apple', 'banana', 'cherry', 'date']\n",
    "result_dict = list_to_dict(my_list)\n",
    "print(result_dict)\n"
   ]
  },
  {
   "cell_type": "markdown",
   "id": "5c2611e7-ddcc-4b98-b20d-043f8d0b2ffd",
   "metadata": {},
   "source": [
    "Completed"
   ]
  },
  {
   "cell_type": "markdown",
   "id": "56e137ab-7048-4283-a0a1-c367c8a7a91b",
   "metadata": {},
   "source": [
    "/////////////////////////////////////"
   ]
  },
  {
   "cell_type": "markdown",
   "id": "b12ab608-a457-4f04-b759-09229bbd88c6",
   "metadata": {},
   "source": [
    "Q38. Shuffle the elements of a list randomly."
   ]
  },
  {
   "cell_type": "code",
   "execution_count": 95,
   "id": "00117103-2e89-4919-ba74-e756c081a6e0",
   "metadata": {},
   "outputs": [
    {
     "name": "stdout",
     "output_type": "stream",
     "text": [
      "[3, 5, 2, 4, 1]\n"
     ]
    }
   ],
   "source": [
    "import random\n",
    "\n",
    "my_list = [1, 2, 3, 4, 5]\n",
    "random.shuffle(my_list)\n",
    "print(my_list)\n"
   ]
  },
  {
   "cell_type": "markdown",
   "id": "bc70e987-7a37-495d-b68d-32655cb66de2",
   "metadata": {},
   "source": [
    "Completed"
   ]
  },
  {
   "cell_type": "markdown",
   "id": "8b5ed8c8-210b-4210-999c-e43472a7c78a",
   "metadata": {},
   "source": [
    "//////////////////////////////////"
   ]
  },
  {
   "cell_type": "markdown",
   "id": "63a404ef-99fb-4374-8d82-ca5e14419598",
   "metadata": {},
   "source": [
    "Q39. Create a list of the first 10 factorial numbers."
   ]
  },
  {
   "cell_type": "code",
   "execution_count": 96,
   "id": "e0fc0abd-9d9c-4f39-8337-ccb6fdc690fd",
   "metadata": {},
   "outputs": [
    {
     "name": "stdout",
     "output_type": "stream",
     "text": [
      "[1, 1, 2, 6, 24, 120, 720, 5040, 40320, 362880]\n"
     ]
    }
   ],
   "source": [
    "def factorial(n):\n",
    "    if n == 0:\n",
    "        return 1\n",
    "    else:\n",
    "        return n * factorial(n - 1)\n",
    "\n",
    "factorial_numbers = [factorial(i) for i in range(10)]\n",
    "print(factorial_numbers)\n"
   ]
  },
  {
   "cell_type": "markdown",
   "id": "aa06facb-9202-491d-b5bf-899638d9f291",
   "metadata": {},
   "source": [
    "Completed"
   ]
  },
  {
   "cell_type": "markdown",
   "id": "0d0e82a8-ad0a-400a-b220-3b80397227ca",
   "metadata": {},
   "source": [
    "/////////////////////////////////"
   ]
  },
  {
   "cell_type": "markdown",
   "id": "9b30974e-3341-4d6f-afd7-d42ba609a626",
   "metadata": {},
   "source": [
    "Q40. Check if two lists have at least one element in common."
   ]
  },
  {
   "cell_type": "code",
   "execution_count": 97,
   "id": "feb26225-4695-4d18-86b0-ebf504ab1e80",
   "metadata": {},
   "outputs": [
    {
     "name": "stdout",
     "output_type": "stream",
     "text": [
      "True\n",
      "False\n"
     ]
    }
   ],
   "source": [
    "def have_common_element(list1, list2):\n",
    "    for item in list1:\n",
    "        if item in list2:\n",
    "            return True\n",
    "    return False\n",
    "\n",
    "list1 = [1, 2, 3, 4, 5]\n",
    "list2 = [5, 6, 7, 8, 9]\n",
    "list3 = [10, 11, 12]\n",
    "\n",
    "print(have_common_element(list1, list2))  # Output: True\n",
    "print(have_common_element(list1, list3))  # Output: False\n"
   ]
  },
  {
   "cell_type": "markdown",
   "id": "f4d1b1c4-931c-4065-bda1-267cafa2cb00",
   "metadata": {},
   "source": [
    "Completed"
   ]
  },
  {
   "cell_type": "markdown",
   "id": "a419a3bb-3f4f-465f-a07b-8688865cbad1",
   "metadata": {},
   "source": [
    "//////////////////////////////"
   ]
  },
  {
   "cell_type": "markdown",
   "id": "5872eebd-af43-427d-b9d0-8113f04e253f",
   "metadata": {},
   "source": [
    "Q41. Remove all elements from a list."
   ]
  },
  {
   "cell_type": "code",
   "execution_count": 98,
   "id": "2219e4af-1af0-4e16-9e66-96c703473987",
   "metadata": {},
   "outputs": [
    {
     "name": "stdout",
     "output_type": "stream",
     "text": [
      "[]\n"
     ]
    }
   ],
   "source": [
    "my_list = [1, 2, 3, 4, 5]\n",
    "my_list.clear()\n",
    "print(my_list)  # Output: []\n"
   ]
  },
  {
   "cell_type": "markdown",
   "id": "8ddce0c0-512f-4c0e-84f3-029ae9dda287",
   "metadata": {},
   "source": [
    "Completed"
   ]
  },
  {
   "cell_type": "markdown",
   "id": "0ae56afb-416b-41ab-bb98-ae10cf00fcc0",
   "metadata": {},
   "source": [
    "//////////////////////////////"
   ]
  },
  {
   "cell_type": "markdown",
   "id": "ee39d2c3-a2eb-4b8d-a972-893e5c4f1d2b",
   "metadata": {},
   "source": [
    "Q42. Replace negative numbers in a list with 0."
   ]
  },
  {
   "cell_type": "code",
   "execution_count": 99,
   "id": "485f14d2-ba3b-4217-9adf-15cb73994c4a",
   "metadata": {},
   "outputs": [
    {
     "name": "stdout",
     "output_type": "stream",
     "text": [
      "[1, 0, 3, 0, 5, 0]\n"
     ]
    }
   ],
   "source": [
    "original_list = [1, -2, 3, -4, 5, -6]\n",
    "modified_list = [x if x >= 0 else 0 for x in original_list]\n",
    "print(modified_list)\n"
   ]
  },
  {
   "cell_type": "markdown",
   "id": "5f691db2-1ed4-4780-8961-313d7eb06dca",
   "metadata": {},
   "source": [
    "Completed"
   ]
  },
  {
   "cell_type": "markdown",
   "id": "d7c49080-a464-4504-be27-951977edefc2",
   "metadata": {},
   "source": [
    "////////////////////////////////"
   ]
  },
  {
   "cell_type": "markdown",
   "id": "49c50a00-7eb1-47dd-8629-e78338ffaf81",
   "metadata": {},
   "source": [
    "Q43. Convert a string into a list of words."
   ]
  },
  {
   "cell_type": "code",
   "execution_count": 100,
   "id": "5411064a-549b-4b98-b514-e87f12920ffd",
   "metadata": {},
   "outputs": [
    {
     "name": "stdout",
     "output_type": "stream",
     "text": [
      "['Hello,', 'this', 'is', 'a', 'sample', 'string.']\n"
     ]
    }
   ],
   "source": [
    "input_string = \"Hello, this is a sample string.\"\n",
    "word_list = input_string.split()\n",
    "print(word_list)\n"
   ]
  },
  {
   "cell_type": "markdown",
   "id": "9749b0e7-4040-45c1-8041-70abf44ba326",
   "metadata": {},
   "source": [
    "Completed"
   ]
  },
  {
   "cell_type": "markdown",
   "id": "2b37e64d-3b8e-41fa-a79f-417ffd221625",
   "metadata": {},
   "source": [
    ".////////////////////////////////"
   ]
  },
  {
   "cell_type": "markdown",
   "id": "5fa49544-71ad-4ee7-ae77-42786aeb6332",
   "metadata": {},
   "source": [
    "Q44. Convert a list of words into a string."
   ]
  },
  {
   "cell_type": "code",
   "execution_count": 101,
   "id": "60a71bed-d1af-4ff3-838d-67e432ad310a",
   "metadata": {},
   "outputs": [
    {
     "name": "stdout",
     "output_type": "stream",
     "text": [
      "Hello, this is a sample string.\n"
     ]
    }
   ],
   "source": [
    "word_list = ['Hello,', 'this', 'is', 'a', 'sample', 'string.']\n",
    "output_string = ' '.join(word_list)\n",
    "print(output_string)\n"
   ]
  },
  {
   "cell_type": "markdown",
   "id": "42e230b7-4748-4f2a-ae3a-b82935042c21",
   "metadata": {},
   "source": [
    "Completed"
   ]
  },
  {
   "cell_type": "markdown",
   "id": "b9d9e228-192d-4d1d-8cae-b59c4122526a",
   "metadata": {},
   "source": [
    "///////////////////////////////"
   ]
  },
  {
   "cell_type": "markdown",
   "id": "148882e2-6060-4887-bd67-c65792629bad",
   "metadata": {},
   "source": [
    "Q45. Create a list of the first `n` powers of 2."
   ]
  },
  {
   "cell_type": "code",
   "execution_count": 102,
   "id": "c4127123-704e-4d91-acdf-f447e0ac3ab8",
   "metadata": {},
   "outputs": [
    {
     "name": "stdout",
     "output_type": "stream",
     "text": [
      "[1, 2, 4, 8, 16]\n"
     ]
    }
   ],
   "source": [
    "n = 5  # Replace with the desired number of powers\n",
    "powers_of_2 = [2 ** i for i in range(n)]\n",
    "print(powers_of_2)\n"
   ]
  },
  {
   "cell_type": "markdown",
   "id": "ffbcfe84-f796-48fd-84bd-d181563e10c3",
   "metadata": {},
   "source": [
    "Completed"
   ]
  },
  {
   "cell_type": "markdown",
   "id": "2ba04ede-d0cd-402d-8e3a-a826e473e0ed",
   "metadata": {},
   "source": [
    "////////////////////////////////"
   ]
  },
  {
   "cell_type": "markdown",
   "id": "06a83018-4d3c-4452-b5da-ea2456f1256c",
   "metadata": {},
   "source": [
    "Q46. Find the longest string in a list of strings."
   ]
  },
  {
   "cell_type": "code",
   "execution_count": 103,
   "id": "22a2a445-bc82-4d75-98a4-a4b396cea7f4",
   "metadata": {},
   "outputs": [
    {
     "name": "stdout",
     "output_type": "stream",
     "text": [
      "elderberry\n"
     ]
    }
   ],
   "source": [
    "def longest_string(strings_list):\n",
    "    longest = \"\"\n",
    "    for string in strings_list:\n",
    "        if len(string) > len(longest):\n",
    "            longest = string\n",
    "    return longest\n",
    "\n",
    "strings = [\"apple\", \"banana\", \"cherry\", \"date\", \"elderberry\"]\n",
    "longest_str = longest_string(strings)\n",
    "print(longest_str)\n"
   ]
  },
  {
   "cell_type": "markdown",
   "id": "0fbd0d08-62c1-4bde-920c-24b7fe6be6f8",
   "metadata": {},
   "source": [
    "Completed"
   ]
  },
  {
   "cell_type": "markdown",
   "id": "836435d6-2349-49cb-931d-719c5cc8af03",
   "metadata": {},
   "source": [
    "////////////////////////////////"
   ]
  },
  {
   "cell_type": "markdown",
   "id": "0d7981a9-e539-4279-be0b-7496b8e0a4c4",
   "metadata": {},
   "source": [
    "Q47. Find the shortest string in a list of strings."
   ]
  },
  {
   "cell_type": "code",
   "execution_count": 104,
   "id": "3f04a2ba-79dc-46fd-96f5-0e538946fe3d",
   "metadata": {},
   "outputs": [
    {
     "name": "stdout",
     "output_type": "stream",
     "text": [
      "date\n"
     ]
    }
   ],
   "source": [
    "def shortest_string(strings_list):\n",
    "    shortest = strings_list[0] if strings_list else \"\"\n",
    "    for string in strings_list:\n",
    "        if len(string) < len(shortest):\n",
    "            shortest = string\n",
    "    return shortest\n",
    "\n",
    "strings = [\"apple\", \"banana\", \"cherry\", \"date\", \"elderberry\"]\n",
    "shortest_str = shortest_string(strings)\n",
    "print(shortest_str)\n"
   ]
  },
  {
   "cell_type": "markdown",
   "id": "62c0da04-b338-42fa-9f0b-5c8c56103b23",
   "metadata": {},
   "source": [
    "Completed"
   ]
  },
  {
   "cell_type": "markdown",
   "id": "d97109b3-7fc3-4f22-8955-6f9f2a0678ea",
   "metadata": {},
   "source": [
    "//////////////////////////////////"
   ]
  },
  {
   "cell_type": "markdown",
   "id": "2ea8421c-3d41-40a6-a5f4-6c4a4d92fdcb",
   "metadata": {},
   "source": [
    "Q48. Create a list of the first `n` triangular numbers."
   ]
  },
  {
   "cell_type": "code",
   "execution_count": 105,
   "id": "e9d32aae-31be-4fa6-ae4e-1423c0327d73",
   "metadata": {},
   "outputs": [
    {
     "name": "stdout",
     "output_type": "stream",
     "text": [
      "[1, 3, 6, 10, 15]\n"
     ]
    }
   ],
   "source": [
    "def triangular_number(n):\n",
    "    return n * (n + 1) // 2\n",
    "\n",
    "n = 5  # Replace with the desired number of triangular numbers\n",
    "triangular_numbers = [triangular_number(i) for i in range(1, n + 1)]\n",
    "print(triangular_numbers)\n"
   ]
  },
  {
   "cell_type": "markdown",
   "id": "a852d9d5-4adf-429e-8644-d1620f86e9e6",
   "metadata": {},
   "source": [
    "Completed"
   ]
  },
  {
   "cell_type": "markdown",
   "id": "65736913-54e0-4400-b6b2-1f4c35d42bc0",
   "metadata": {},
   "source": [
    "/////////////////////////////////"
   ]
  },
  {
   "cell_type": "code",
   "execution_count": 106,
   "id": "a3e707ad-fee2-4f70-8102-3104909d7888",
   "metadata": {},
   "outputs": [
    {
     "ename": "SyntaxError",
     "evalue": "expected 'else' after 'if' expression (389435773.py, line 1)",
     "output_type": "error",
     "traceback": [
      "\u001b[0;36m  Cell \u001b[0;32mIn[106], line 1\u001b[0;36m\u001b[0m\n\u001b[0;31m    Q49. Check if a list contains another list as a subsequence.\u001b[0m\n\u001b[0m    ^\u001b[0m\n\u001b[0;31mSyntaxError\u001b[0m\u001b[0;31m:\u001b[0m expected 'else' after 'if' expression\n"
     ]
    }
   ],
   "source": [
    "Q49. Check if a list contains another list as a subsequence."
   ]
  },
  {
   "cell_type": "code",
   "execution_count": 107,
   "id": "5a68b774-a9f2-410a-bb00-146f7566c5ce",
   "metadata": {},
   "outputs": [
    {
     "name": "stdout",
     "output_type": "stream",
     "text": [
      "True\n"
     ]
    }
   ],
   "source": [
    "def is_subsequence(main_list, subsequence_list):\n",
    "    main_len = len(main_list)\n",
    "    sub_len = len(subsequence_list)\n",
    "    main_index = 0\n",
    "    sub_index = 0\n",
    "\n",
    "    while main_index < main_len and sub_index < sub_len:\n",
    "        if main_list[main_index] == subsequence_list[sub_index]:\n",
    "            sub_index += 1\n",
    "        main_index += 1\n",
    "\n",
    "    return sub_index == sub_len\n",
    "\n",
    "main_list = [1, 2, 3, 4, 5, 6, 7, 8, 9, 10]\n",
    "subsequence_list = [3, 5, 7]\n",
    "result = is_subsequence(main_list, subsequence_list)\n",
    "print(result)\n"
   ]
  },
  {
   "cell_type": "markdown",
   "id": "3b7078e0-7396-4c60-8d2b-23bd20708edc",
   "metadata": {},
   "source": [
    "Completed"
   ]
  },
  {
   "cell_type": "markdown",
   "id": "f97fe19f-f968-48cb-93c1-6174ece3b18b",
   "metadata": {},
   "source": [
    "/////////////////////////////////"
   ]
  },
  {
   "cell_type": "markdown",
   "id": "f71b5e15-8807-4da6-9f20-f2a554af6516",
   "metadata": {},
   "source": [
    "Q50. Swap two elements in a list by their indices."
   ]
  },
  {
   "cell_type": "code",
   "execution_count": 108,
   "id": "88dde707-7a70-437b-bd41-b74e1abdb7b7",
   "metadata": {},
   "outputs": [
    {
     "name": "stdout",
     "output_type": "stream",
     "text": [
      "Original List: [1, 2, 3, 4, 5]\n",
      "List after swapping: [1, 4, 3, 2, 5]\n"
     ]
    }
   ],
   "source": [
    "def swap_elements(input_list, index1, index2):\n",
    "    input_list[index1], input_list[index2] = input_list[index2], input_list[index1]\n",
    "\n",
    "my_list = [1, 2, 3, 4, 5]\n",
    "index_to_swap1 = 1\n",
    "index_to_swap2 = 3\n",
    "\n",
    "print(\"Original List:\", my_list)\n",
    "swap_elements(my_list, index_to_swap1, index_to_swap2)\n",
    "print(\"List after swapping:\", my_list)\n"
   ]
  },
  {
   "cell_type": "markdown",
   "id": "723f2ec6-e0d0-4d62-98e5-b6f8538eb459",
   "metadata": {},
   "source": [
    "Completed"
   ]
  },
  {
   "cell_type": "markdown",
   "id": "a6e5e228-080d-4043-ba3c-42e8be3e3def",
   "metadata": {},
   "source": [
    "/////////////////////////////////"
   ]
  },
  {
   "cell_type": "markdown",
   "id": "bf41a60d-3bfc-4e5d-b18a-a7e60191e9ae",
   "metadata": {},
   "source": [
    "//////////////////////////////////"
   ]
  },
  {
   "cell_type": "markdown",
   "id": "23500ef3-5ff8-4510-ae2f-1513f845129e",
   "metadata": {},
   "source": [
    "////////////////////////////////"
   ]
  },
  {
   "cell_type": "markdown",
   "id": "70ae54f9-23d4-41ef-90f6-633015c64803",
   "metadata": {},
   "source": [
    "Tuple Based Practice Problem :"
   ]
  },
  {
   "cell_type": "markdown",
   "id": "8ba083e5-d2f6-4c86-b7b2-c4ee047740fc",
   "metadata": {},
   "source": [
    "Q1. Create a tuple with integers from 1 to 5."
   ]
  },
  {
   "cell_type": "code",
   "execution_count": 109,
   "id": "4e21a69c-eb09-4125-aad5-7860e3bb0956",
   "metadata": {},
   "outputs": [
    {
     "name": "stdout",
     "output_type": "stream",
     "text": [
      "(1, 2, 3, 4, 5)\n"
     ]
    }
   ],
   "source": [
    "my_tuple = (1, 2, 3, 4, 5)\n",
    "print(my_tuple)\n"
   ]
  },
  {
   "cell_type": "markdown",
   "id": "526c84e6-e163-4e38-898a-635997e33998",
   "metadata": {},
   "source": [
    "Completed"
   ]
  },
  {
   "cell_type": "markdown",
   "id": "1d32f1f7-c648-42b4-89c1-fb4bc97d0dbb",
   "metadata": {},
   "source": [
    "////////////////////////////////"
   ]
  },
  {
   "cell_type": "markdown",
   "id": "3330f975-44cd-4310-aba6-1e4524108a5c",
   "metadata": {},
   "source": [
    "Q2. Access the third element of a tuple."
   ]
  },
  {
   "cell_type": "code",
   "execution_count": 110,
   "id": "0e260ed4-4955-4506-ac22-c3803aa4974a",
   "metadata": {},
   "outputs": [
    {
     "name": "stdout",
     "output_type": "stream",
     "text": [
      "3\n"
     ]
    }
   ],
   "source": [
    "my_tuple = (1, 2, 3, 4, 5)\n",
    "third_element = my_tuple[2]\n",
    "print(third_element)\n"
   ]
  },
  {
   "cell_type": "markdown",
   "id": "5c67487e-8c27-4a5c-8ab3-9e287db97ca7",
   "metadata": {},
   "source": [
    "Completed"
   ]
  },
  {
   "cell_type": "markdown",
   "id": "8ddda252-bd44-4694-baa1-e7c05b33c8d6",
   "metadata": {},
   "source": [
    "//////////////////////////////"
   ]
  },
  {
   "cell_type": "markdown",
   "id": "822bacd2-121d-42df-843e-bb2181ed187f",
   "metadata": {},
   "source": [
    "Q3. Find the length of a tuple without using the `len()` function."
   ]
  },
  {
   "cell_type": "code",
   "execution_count": 111,
   "id": "262c137c-5ccb-4a5b-865e-26c5b65341e8",
   "metadata": {},
   "outputs": [
    {
     "name": "stdout",
     "output_type": "stream",
     "text": [
      "5\n"
     ]
    }
   ],
   "source": [
    "def tuple_length(input_tuple):\n",
    "    count = 0\n",
    "    for _ in input_tuple:\n",
    "        count += 1\n",
    "    return count\n",
    "\n",
    "my_tuple = (1, 2, 3, 4, 5)\n",
    "length = tuple_length(my_tuple)\n",
    "print(length)\n"
   ]
  },
  {
   "cell_type": "markdown",
   "id": "2c469bfc-bce7-430c-867e-29a587b81b6b",
   "metadata": {},
   "source": [
    "Completed"
   ]
  },
  {
   "cell_type": "markdown",
   "id": "e5e36f9a-768d-4355-94c4-528bb476e6b8",
   "metadata": {},
   "source": [
    "//////////////////////////////"
   ]
  },
  {
   "cell_type": "markdown",
   "id": "084a7922-3575-4743-acaf-2bc2b49c6dbc",
   "metadata": {},
   "source": [
    "Q4. Count the occurrences of an element in a tuple."
   ]
  },
  {
   "cell_type": "code",
   "execution_count": 112,
   "id": "1a979b4c-3cf5-4394-ab17-e74f6e15c273",
   "metadata": {},
   "outputs": [
    {
     "name": "stdout",
     "output_type": "stream",
     "text": [
      "The element 2 appears 3 times in the tuple.\n"
     ]
    }
   ],
   "source": [
    "def count_occurrences(input_tuple, target_element):\n",
    "    count = 0\n",
    "    for item in input_tuple:\n",
    "        if item == target_element:\n",
    "            count += 1\n",
    "    return count\n",
    "\n",
    "my_tuple = (1, 2, 2, 3, 4, 2, 5)\n",
    "target = 2\n",
    "occurrences = count_occurrences(my_tuple, target)\n",
    "print(f\"The element {target} appears {occurrences} times in the tuple.\")\n"
   ]
  },
  {
   "cell_type": "markdown",
   "id": "f6ac173e-50be-4f4e-9f2f-146276b23377",
   "metadata": {},
   "source": [
    "Completed"
   ]
  },
  {
   "cell_type": "markdown",
   "id": "7d99d300-d4e8-4c34-83ba-c119cfd110de",
   "metadata": {},
   "source": [
    "/////////////////////////////////"
   ]
  },
  {
   "cell_type": "markdown",
   "id": "4838ac3a-6624-40e6-a434-653c63167a3b",
   "metadata": {},
   "source": [
    "Q5. Find the index of the first occurrence of an element in a tuple."
   ]
  },
  {
   "cell_type": "code",
   "execution_count": 113,
   "id": "d663168e-9e32-4050-9b1e-366d935b35dc",
   "metadata": {},
   "outputs": [
    {
     "name": "stdout",
     "output_type": "stream",
     "text": [
      "Index of the first occurrence: 1\n"
     ]
    }
   ],
   "source": [
    "my_tuple = (10, 20, 30, 20, 40, 50)\n",
    "element_to_find = 20\n",
    "\n",
    "index = my_tuple.index(element_to_find)\n",
    "print(\"Index of the first occurrence:\", index)"
   ]
  },
  {
   "cell_type": "markdown",
   "id": "e16ba845-d8ec-4f22-84fe-1a33a32f7381",
   "metadata": {},
   "source": [
    "Completed"
   ]
  },
  {
   "cell_type": "markdown",
   "id": "b87b8ce8-b88a-46fa-98bb-a5246d7031b7",
   "metadata": {},
   "source": [
    "////////////////////////////////////"
   ]
  },
  {
   "cell_type": "markdown",
   "id": "11633581-17ca-41f6-8f0e-2e529ba359a3",
   "metadata": {},
   "source": [
    "Q6. Check if an element exists in a tuple."
   ]
  },
  {
   "cell_type": "code",
   "execution_count": 114,
   "id": "7ce58466-7e9a-4359-878a-731830cad584",
   "metadata": {},
   "outputs": [
    {
     "name": "stdout",
     "output_type": "stream",
     "text": [
      "Element exists in the tuple.\n"
     ]
    }
   ],
   "source": [
    "my_tuple = (10, 20, 30, 40, 50)\n",
    "element_to_check = 30\n",
    "\n",
    "if element_to_check in my_tuple:\n",
    "    print(\"Element exists in the tuple.\")\n",
    "else:\n",
    "    print(\"Element does not exist in the tuple.\")"
   ]
  },
  {
   "cell_type": "markdown",
   "id": "aeb22ecd-d6ea-4a4e-9851-d7c50a67e575",
   "metadata": {},
   "source": [
    "Completed"
   ]
  },
  {
   "cell_type": "markdown",
   "id": "1467cd9d-8264-43da-a064-ac3997833cfd",
   "metadata": {},
   "source": [
    "///////////////////////////////"
   ]
  },
  {
   "cell_type": "markdown",
   "id": "7a199d45-38ff-4a4d-a25d-e48702aa5bbc",
   "metadata": {},
   "source": [
    "Q7. Convert a tuple to a list."
   ]
  },
  {
   "cell_type": "code",
   "execution_count": 115,
   "id": "a66915df-7d3e-4ce0-93c4-14282d17fd80",
   "metadata": {},
   "outputs": [
    {
     "name": "stdout",
     "output_type": "stream",
     "text": [
      "Tuple: (10, 20, 30, 40, 50)\n",
      "List: [10, 20, 30, 40, 50]\n"
     ]
    }
   ],
   "source": [
    "my_tuple = (10, 20, 30, 40, 50)\n",
    "my_list = list(my_tuple)\n",
    "\n",
    "print(\"Tuple:\", my_tuple)\n",
    "print(\"List:\", my_list)"
   ]
  },
  {
   "cell_type": "markdown",
   "id": "ebb797d2-5fb1-48fb-b7f6-008ac34f1931",
   "metadata": {},
   "source": [
    "Completed"
   ]
  },
  {
   "cell_type": "markdown",
   "id": "af28dd05-2a95-482d-b392-b1c7c0914f92",
   "metadata": {},
   "source": [
    "//////////////////////////////////"
   ]
  },
  {
   "cell_type": "markdown",
   "id": "205a0696-5e7b-41c8-8f39-f7e39354adeb",
   "metadata": {},
   "source": [
    "Q8. Convert a list to a tuple."
   ]
  },
  {
   "cell_type": "code",
   "execution_count": 116,
   "id": "4ff344a8-faf8-4010-b9c7-c7b58ce6f386",
   "metadata": {},
   "outputs": [
    {
     "name": "stdout",
     "output_type": "stream",
     "text": [
      "List: [10, 20, 30, 40, 50]\n",
      "Tuple: (10, 20, 30, 40, 50)\n"
     ]
    }
   ],
   "source": [
    "my_list = [10, 20, 30, 40, 50]\n",
    "my_tuple = tuple(my_list)\n",
    "\n",
    "print(\"List:\", my_list)\n",
    "print(\"Tuple:\", my_tuple)\n"
   ]
  },
  {
   "cell_type": "markdown",
   "id": "28fa8a71-429d-462e-81f3-ca7bd97d050c",
   "metadata": {},
   "source": [
    "Completed"
   ]
  },
  {
   "cell_type": "markdown",
   "id": "138c6b5e-e2c0-4def-b08f-655edf6a7b6d",
   "metadata": {},
   "source": [
    "////////////////////////////////"
   ]
  },
  {
   "cell_type": "markdown",
   "id": "1452372e-fa60-4fec-85be-6ce2e93bea2b",
   "metadata": {},
   "source": [
    "Q9. Unpack the elements of a tuple into variables."
   ]
  },
  {
   "cell_type": "code",
   "execution_count": 117,
   "id": "e148ffaf-3b4f-4485-a22c-16d7118834c2",
   "metadata": {},
   "outputs": [
    {
     "name": "stdout",
     "output_type": "stream",
     "text": [
      "Variable 1: 10\n",
      "Variable 2: 20\n",
      "Variable 3: 30\n"
     ]
    }
   ],
   "source": [
    "my_tuple = (10, 20, 30)\n",
    "var1, var2, var3 = my_tuple\n",
    "\n",
    "print(\"Variable 1:\", var1)\n",
    "print(\"Variable 2:\", var2)\n",
    "print(\"Variable 3:\", var3)"
   ]
  },
  {
   "cell_type": "markdown",
   "id": "bc42559e-bb32-418b-b174-8ac0cd342474",
   "metadata": {},
   "source": [
    "Completed "
   ]
  },
  {
   "cell_type": "markdown",
   "id": "d5aba823-4821-41f4-84ae-579501a18dcf",
   "metadata": {},
   "source": [
    "///////////////////////////////////////////////"
   ]
  },
  {
   "cell_type": "markdown",
   "id": "4f331004-5316-4f5e-89c0-c3c44c22832b",
   "metadata": {},
   "source": [
    "Q10. Create a tuple of even numbers from 1 to 10."
   ]
  },
  {
   "cell_type": "code",
   "execution_count": 118,
   "id": "c15a4aaf-22f1-4046-87c9-b37efb6e7539",
   "metadata": {},
   "outputs": [
    {
     "name": "stdout",
     "output_type": "stream",
     "text": [
      "(2, 4, 6, 8, 10)\n"
     ]
    }
   ],
   "source": [
    "even_numbers = tuple(range(2, 11, 2))\n",
    "print(even_numbers)"
   ]
  },
  {
   "cell_type": "markdown",
   "id": "0353bcc1-3fd4-41c9-b6b0-a3369077ff5f",
   "metadata": {},
   "source": [
    "Q11. Create a tuple of odd numbers from 1 to 10."
   ]
  },
  {
   "cell_type": "code",
   "execution_count": 119,
   "id": "4625d3e3-c4c1-4a19-aab1-352381a78a37",
   "metadata": {},
   "outputs": [
    {
     "name": "stdout",
     "output_type": "stream",
     "text": [
      "(1, 3, 5, 7, 9)\n"
     ]
    }
   ],
   "source": [
    "odd_numbers = tuple(range(1, 11, 2))\n",
    "print(odd_numbers)"
   ]
  },
  {
   "cell_type": "markdown",
   "id": "8974537b-e7be-4b6c-8f47-336a5aab7dcb",
   "metadata": {},
   "source": [
    "Completed"
   ]
  },
  {
   "cell_type": "markdown",
   "id": "80090a4b-3ed4-42e4-ab38-a3f4530030a0",
   "metadata": {},
   "source": [
    "///////////////////////////////////////"
   ]
  },
  {
   "cell_type": "markdown",
   "id": "5bdeb52a-a92c-4dbf-834e-fc9842f7d92a",
   "metadata": {},
   "source": [
    "Q12. Concatenate two tuples."
   ]
  },
  {
   "cell_type": "code",
   "execution_count": 120,
   "id": "9a8068dc-7ece-437d-b417-375f8d381f25",
   "metadata": {},
   "outputs": [
    {
     "name": "stdout",
     "output_type": "stream",
     "text": [
      "Tuple 1: (1, 2, 3)\n",
      "Tuple 2: (4, 5, 6)\n",
      "Concatenated Tuple: (1, 2, 3, 4, 5, 6)\n"
     ]
    }
   ],
   "source": [
    "tuple1 = (1, 2, 3)\n",
    "tuple2 = (4, 5, 6)\n",
    "concatenated_tuple = tuple1 + tuple2\n",
    "\n",
    "print(\"Tuple 1:\", tuple1)\n",
    "print(\"Tuple 2:\", tuple2)\n",
    "print(\"Concatenated Tuple:\", concatenated_tuple)"
   ]
  },
  {
   "cell_type": "markdown",
   "id": "5b7e0799-70c9-4a76-8199-c064a478d0e1",
   "metadata": {},
   "source": [
    "Completed"
   ]
  },
  {
   "cell_type": "markdown",
   "id": "2a9f7aed-53db-4412-a5f1-ec569a06fc7a",
   "metadata": {},
   "source": [
    "////////////////////////////////////"
   ]
  },
  {
   "cell_type": "markdown",
   "id": "65dd20b0-0c7a-48b4-9352-3894162c9984",
   "metadata": {},
   "source": [
    "Q13. Repeat a tuple three times."
   ]
  },
  {
   "cell_type": "code",
   "execution_count": 121,
   "id": "17ee6ede-def0-4f96-879b-57bfbef0e1b4",
   "metadata": {},
   "outputs": [
    {
     "name": "stdout",
     "output_type": "stream",
     "text": [
      "Original Tuple: (1, 2, 3)\n",
      "Repeated Tuple: (1, 2, 3, 1, 2, 3, 1, 2, 3)\n"
     ]
    }
   ],
   "source": [
    "original_tuple = (1, 2, 3)\n",
    "repeated_tuple = original_tuple * 3\n",
    "\n",
    "print(\"Original Tuple:\", original_tuple)\n",
    "print(\"Repeated Tuple:\", repeated_tuple)"
   ]
  },
  {
   "cell_type": "markdown",
   "id": "f581dd28-bb66-4f00-9c91-0393a7d208ba",
   "metadata": {},
   "source": [
    "Completed"
   ]
  },
  {
   "cell_type": "markdown",
   "id": "da7bdd42-3612-4d9d-ac2f-4d7481e3c13f",
   "metadata": {},
   "source": [
    "//////////////////////////////////////"
   ]
  },
  {
   "cell_type": "markdown",
   "id": "e4c5472f-4ff2-4a01-9101-8998841d63bd",
   "metadata": {},
   "source": [
    "Q14. Check if a tuple is empty."
   ]
  },
  {
   "cell_type": "code",
   "execution_count": 122,
   "id": "1da2f85d-fc9e-4974-8f04-6994176827f9",
   "metadata": {},
   "outputs": [
    {
     "name": "stdout",
     "output_type": "stream",
     "text": [
      "Empty tuple is indeed empty.\n",
      "Non-empty tuple is not empty.\n"
     ]
    }
   ],
   "source": [
    "empty_tuple = ()\n",
    "non_empty_tuple = (1, 2, 3)\n",
    "\n",
    "if not empty_tuple:\n",
    "    print(\"Empty tuple is indeed empty.\")\n",
    "else:\n",
    "    print(\"Empty tuple is not empty.\")\n",
    "\n",
    "if not non_empty_tuple:\n",
    "    print(\"Non-empty tuple is empty.\")\n",
    "else:\n",
    "    print(\"Non-empty tuple is not empty.\")"
   ]
  },
  {
   "cell_type": "markdown",
   "id": "02d833fc-bb00-480f-856d-6840807d19cd",
   "metadata": {},
   "source": [
    "Completed"
   ]
  },
  {
   "cell_type": "markdown",
   "id": "34f252ae-1375-4081-b0b2-efe581b2b54d",
   "metadata": {},
   "source": [
    "/////////////////////////////////"
   ]
  },
  {
   "cell_type": "markdown",
   "id": "cccd4e7c-4969-435d-8f19-f8a6c6c96fd2",
   "metadata": {},
   "source": [
    "Q15. Create a nested tuple."
   ]
  },
  {
   "cell_type": "code",
   "execution_count": 123,
   "id": "6bbab21b-30cf-494a-a650-c47fe59ba242",
   "metadata": {},
   "outputs": [
    {
     "name": "stdout",
     "output_type": "stream",
     "text": [
      "((1, 2, 3), (4, 5, 6), (7, 8, 9))\n"
     ]
    }
   ],
   "source": [
    "nested_tuple = ((1, 2, 3), (4, 5, 6), (7, 8, 9))\n",
    "\n",
    "print(nested_tuple)"
   ]
  },
  {
   "cell_type": "markdown",
   "id": "68277864-8339-43b6-b188-d3cb0e4d0948",
   "metadata": {},
   "source": [
    "Completed"
   ]
  },
  {
   "cell_type": "markdown",
   "id": "f66d9051-c636-40e3-92dc-6ee8a4c3077a",
   "metadata": {},
   "source": [
    "///////////////////////////////"
   ]
  },
  {
   "cell_type": "markdown",
   "id": "a57c1af6-5f7e-4ed8-ac5f-b6d51e27ecd5",
   "metadata": {},
   "source": [
    "Q16. Access the first element of a nested tuple."
   ]
  },
  {
   "cell_type": "code",
   "execution_count": 124,
   "id": "9536297e-aed5-49eb-b0ca-8dc0e7a0f270",
   "metadata": {},
   "outputs": [
    {
     "name": "stdout",
     "output_type": "stream",
     "text": [
      "First element: 1\n"
     ]
    }
   ],
   "source": [
    "nested_tuple = ((1, 2, 3), (4, 5, 6), (7, 8, 9))\n",
    "\n",
    "first_element = nested_tuple[0][0]\n",
    "\n",
    "print(\"First element:\", first_element)"
   ]
  },
  {
   "cell_type": "markdown",
   "id": "4089f481-81a4-4167-8a72-cc59c17ac403",
   "metadata": {},
   "source": [
    "Completed"
   ]
  },
  {
   "cell_type": "markdown",
   "id": "d7e7f5b9-0f60-4fff-8a42-d47cf2095844",
   "metadata": {},
   "source": [
    "//////////////////////////////////////"
   ]
  },
  {
   "cell_type": "markdown",
   "id": "d06eee96-bb2c-46d1-9cad-704132fad999",
   "metadata": {},
   "source": [
    "Q17. Create a tuple with a single element."
   ]
  },
  {
   "cell_type": "code",
   "execution_count": 125,
   "id": "786b3b74-353b-458f-98c0-c25768ba8c96",
   "metadata": {},
   "outputs": [
    {
     "name": "stdout",
     "output_type": "stream",
     "text": [
      "(42,)\n"
     ]
    }
   ],
   "source": [
    "single_element_tuple = (42,)  # Note the comma after the element\n",
    "\n",
    "print(single_element_tuple)"
   ]
  },
  {
   "cell_type": "markdown",
   "id": "4fb90bdf-c7a1-4900-b3bf-f322856edab1",
   "metadata": {},
   "source": [
    "Completed"
   ]
  },
  {
   "cell_type": "markdown",
   "id": "17a4877f-8bc1-43c3-89c2-6de62388df35",
   "metadata": {},
   "source": [
    "/////////////////////////////////////"
   ]
  },
  {
   "cell_type": "markdown",
   "id": "fb493002-c71d-4677-bbd2-a463d706be67",
   "metadata": {},
   "source": [
    "Q18. Compare two tuples."
   ]
  },
  {
   "cell_type": "code",
   "execution_count": 126,
   "id": "ee1a62d8-a346-4731-93d8-ed605b4233a9",
   "metadata": {},
   "outputs": [
    {
     "name": "stdout",
     "output_type": "stream",
     "text": [
      "tuple1 == tuple2: True\n",
      "tuple1 != tuple3: True\n",
      "tuple1 < tuple3: True\n",
      "tuple2 > tuple3: False\n"
     ]
    }
   ],
   "source": [
    "tuple1 = (1, 2, 3)\n",
    "tuple2 = (1, 2, 3)\n",
    "tuple3 = (4, 5, 6)\n",
    "\n",
    "# Comparing tuples\n",
    "print(\"tuple1 == tuple2:\", tuple1 == tuple2)  # Equal\n",
    "print(\"tuple1 != tuple3:\", tuple1 != tuple3)  # Not equal\n",
    "print(\"tuple1 < tuple3:\", tuple1 < tuple3)    # Less than\n",
    "print(\"tuple2 > tuple3:\", tuple2 > tuple3)    # Greater than"
   ]
  },
  {
   "cell_type": "markdown",
   "id": "5a9adb6c-00be-4d07-ae58-94ccc78992fe",
   "metadata": {},
   "source": [
    "Completed"
   ]
  },
  {
   "cell_type": "markdown",
   "id": "c1e23544-7fd6-42b6-9b26-97596faf8179",
   "metadata": {},
   "source": [
    "//////////////////////////////////////////"
   ]
  },
  {
   "cell_type": "markdown",
   "id": "69d27e66-3fd9-4026-8acb-54ef10beaf6e",
   "metadata": {},
   "source": [
    "Q19. Delete a tuple."
   ]
  },
  {
   "cell_type": "code",
   "execution_count": 127,
   "id": "81c1f661-db56-4f4d-9ae2-34180bd5447b",
   "metadata": {},
   "outputs": [
    {
     "name": "stdout",
     "output_type": "stream",
     "text": [
      "Original Tuple: (1, 2, 3, 4, 5)\n",
      "Deleted Tuple: (2, 4)\n"
     ]
    }
   ],
   "source": [
    "my_tuple = (1, 2, 3, 4, 5)\n",
    "print(\"Original Tuple:\", my_tuple)\n",
    "\n",
    "# Deleting the entire tuple\n",
    "del my_tuple\n",
    "\n",
    "# This will result in an error since the tuple no longer exists\n",
    "print(\"Deleted Tuple:\",(2,4))"
   ]
  },
  {
   "cell_type": "markdown",
   "id": "234a8e8c-408d-4c99-bfcd-bb880cb42c4c",
   "metadata": {},
   "source": [
    "Completed"
   ]
  },
  {
   "cell_type": "markdown",
   "id": "ad31790f-0ef4-41a0-90b7-a2f01161b4f1",
   "metadata": {},
   "source": [
    "////////////////////////////////////////"
   ]
  },
  {
   "cell_type": "markdown",
   "id": "7cdd4c10-d6a6-4b9a-b413-6aa9a89128bb",
   "metadata": {},
   "source": [
    "Q20. Slice a tuple."
   ]
  },
  {
   "cell_type": "code",
   "execution_count": 128,
   "id": "c9002ba4-2cf3-4a25-a241-3f7ecec5951b",
   "metadata": {},
   "outputs": [
    {
     "name": "stdout",
     "output_type": "stream",
     "text": [
      "Original Tuple: (10, 20, 30, 40, 50, 60)\n",
      "Sliced Tuple: (20, 30, 40)\n"
     ]
    }
   ],
   "source": [
    "my_tuple = (10, 20, 30, 40, 50, 60)\n",
    "\n",
    "# Slicing from index 1 to 4 (excluding 4)\n",
    "sliced_tuple = my_tuple[1:4]\n",
    "\n",
    "print(\"Original Tuple:\", my_tuple)\n",
    "print(\"Sliced Tuple:\", sliced_tuple)"
   ]
  },
  {
   "cell_type": "markdown",
   "id": "18cf4305-c0f7-4f12-8485-c33a71ef5199",
   "metadata": {},
   "source": [
    "Completed"
   ]
  },
  {
   "cell_type": "markdown",
   "id": "1f9d8cdb-25e8-4753-957f-93ee114eed16",
   "metadata": {},
   "source": [
    "////////////////////////////////////////"
   ]
  },
  {
   "cell_type": "markdown",
   "id": "e2f43c7e-2959-449c-9433-918b7678ac63",
   "metadata": {},
   "source": [
    "Q21. Find the maximum value in a tuple:"
   ]
  },
  {
   "cell_type": "code",
   "execution_count": 130,
   "id": "a35a35a9-45f0-4e74-8dbb-748b137cb789",
   "metadata": {},
   "outputs": [
    {
     "name": "stdout",
     "output_type": "stream",
     "text": [
      "Maximum value: 30\n"
     ]
    }
   ],
   "source": [
    "my_tuple = (10, 5, 20, 15, 30)\n",
    "max_value = max(my_tuple)\n",
    "print(\"Maximum value:\", max_value)"
   ]
  },
  {
   "cell_type": "markdown",
   "id": "a0353db8-e13b-42d6-a950-12df34e06532",
   "metadata": {},
   "source": [
    "Completed"
   ]
  },
  {
   "cell_type": "markdown",
   "id": "81cd095c-d7df-4b91-b05d-418ce7c7ac36",
   "metadata": {},
   "source": [
    "////////////////////////////////////////////"
   ]
  },
  {
   "cell_type": "markdown",
   "id": "bc713cd0-6830-4f80-9f99-bf96468d8887",
   "metadata": {},
   "source": [
    "Q22. Find the minimum value in a tuple"
   ]
  },
  {
   "cell_type": "code",
   "execution_count": 131,
   "id": "18a335e5-4f11-4d85-b0c1-86cf364d87f8",
   "metadata": {},
   "outputs": [
    {
     "name": "stdout",
     "output_type": "stream",
     "text": [
      "Minimum value: 5\n"
     ]
    }
   ],
   "source": [
    "my_tuple = (10, 5, 20, 15, 30)\n",
    "min_value = min(my_tuple)\n",
    "print(\"Minimum value:\", min_value)"
   ]
  },
  {
   "cell_type": "markdown",
   "id": "f0d8c1e2-20f2-494c-9e45-8c839e408574",
   "metadata": {},
   "source": [
    "Completed"
   ]
  },
  {
   "cell_type": "markdown",
   "id": "57bb83fe-f180-4b61-a619-f5baaaea6e10",
   "metadata": {},
   "source": [
    "////////////////////////////////////////"
   ]
  },
  {
   "cell_type": "markdown",
   "id": "b945c5b7-b09b-4fd4-beea-b750461242f1",
   "metadata": {},
   "source": [
    "Q23. Convert a string to a tuple of characters"
   ]
  },
  {
   "cell_type": "code",
   "execution_count": 133,
   "id": "d389d355-434d-45fd-a1bf-fe400ba8e716",
   "metadata": {},
   "outputs": [
    {
     "name": "stdout",
     "output_type": "stream",
     "text": [
      "Tuple of characters: ('h', 'e', 'l', 'l', 'o')\n"
     ]
    }
   ],
   "source": [
    "my_string = \"hello\"\n",
    "char_tuple = tuple(my_string)\n",
    "print(\"Tuple of characters:\", char_tuple)"
   ]
  },
  {
   "cell_type": "markdown",
   "id": "8e155825-bb44-4206-89d8-8662454df2b3",
   "metadata": {},
   "source": [
    "Completed"
   ]
  },
  {
   "cell_type": "markdown",
   "id": "27335e07-6388-402d-b32f-3ae214a36230",
   "metadata": {},
   "source": [
    "////////////////////////////////////"
   ]
  },
  {
   "cell_type": "markdown",
   "id": "a35b575b-1495-4240-8435-84c0c412b3b0",
   "metadata": {},
   "source": [
    "Q24. Convert a tuple of characters to a string:"
   ]
  },
  {
   "cell_type": "code",
   "execution_count": 134,
   "id": "4c6b012e-c933-4cc8-a368-5455cea04c23",
   "metadata": {},
   "outputs": [
    {
     "name": "stdout",
     "output_type": "stream",
     "text": [
      "String: hello\n"
     ]
    }
   ],
   "source": [
    "char_tuple = ('h', 'e', 'l', 'l', 'o')\n",
    "my_string = ''.join(char_tuple)\n",
    "print(\"String:\", my_string)"
   ]
  },
  {
   "cell_type": "markdown",
   "id": "6ddaad22-0404-425f-b33b-3eb15f900bee",
   "metadata": {},
   "source": [
    "Completed"
   ]
  },
  {
   "cell_type": "markdown",
   "id": "220257a2-b634-4cc7-becb-90b4e6b56c6e",
   "metadata": {},
   "source": [
    "/////////////////////////////////////////"
   ]
  },
  {
   "cell_type": "markdown",
   "id": "7c61460f-2695-4dfd-9eed-2a070933955e",
   "metadata": {},
   "source": [
    "Q25. Create a tuple from multiple data types:"
   ]
  },
  {
   "cell_type": "code",
   "execution_count": 135,
   "id": "bb4f9736-63f4-46b1-b517-df1b46d598e3",
   "metadata": {},
   "outputs": [
    {
     "name": "stdout",
     "output_type": "stream",
     "text": [
      "Mixed tuple: (10, 'hello', 3.14, True)\n"
     ]
    }
   ],
   "source": [
    "mixed_tuple = (10, \"hello\", 3.14, True)\n",
    "print(\"Mixed tuple:\", mixed_tuple)"
   ]
  },
  {
   "cell_type": "markdown",
   "id": "7aab6dee-1001-45cd-9129-821afefbff13",
   "metadata": {},
   "source": [
    "Completed"
   ]
  },
  {
   "cell_type": "markdown",
   "id": "c35afccc-fe40-4235-8404-313cdfb469ec",
   "metadata": {},
   "source": [
    "//////////////////////////////////////////"
   ]
  },
  {
   "cell_type": "markdown",
   "id": "e66b4a8e-3f34-4836-8c63-091dc931b8a2",
   "metadata": {},
   "source": [
    "Q26. Check if two tuples are identical:"
   ]
  },
  {
   "cell_type": "code",
   "execution_count": 136,
   "id": "c017380d-81e8-4395-a081-dd7dd62fa584",
   "metadata": {},
   "outputs": [
    {
     "name": "stdout",
     "output_type": "stream",
     "text": [
      "Are tuples identical? True\n"
     ]
    }
   ],
   "source": [
    "tuple1 = (1, 2, 3)\n",
    "tuple2 = (1, 2, 3)\n",
    "identical = tuple1 == tuple2\n",
    "print(\"Are tuples identical?\", identical)"
   ]
  },
  {
   "cell_type": "markdown",
   "id": "fc0d8b12-f28e-4021-aa5f-e61180260701",
   "metadata": {},
   "source": [
    "Completed"
   ]
  },
  {
   "cell_type": "markdown",
   "id": "f28ce215-e8d3-4767-875c-261ca61fe42b",
   "metadata": {},
   "source": [
    "////////////////////////////////////////"
   ]
  },
  {
   "cell_type": "markdown",
   "id": "3de76f12-9285-42d6-a2b2-26fdd040fc7c",
   "metadata": {},
   "source": [
    "Q27. Sort the elements of a tuple:"
   ]
  },
  {
   "cell_type": "code",
   "execution_count": 137,
   "id": "dbd6a2de-fd7a-47fb-a20e-a16f10430a70",
   "metadata": {},
   "outputs": [
    {
     "name": "stdout",
     "output_type": "stream",
     "text": [
      "Sorted tuple: (5, 10, 15, 20, 30)\n"
     ]
    }
   ],
   "source": [
    "my_tuple = (10, 5, 20, 15, 30)\n",
    "sorted_tuple = tuple(sorted(my_tuple))\n",
    "print(\"Sorted tuple:\", sorted_tuple)"
   ]
  },
  {
   "cell_type": "markdown",
   "id": "96d06686-72b4-47c2-a969-9a5ec46a84a2",
   "metadata": {},
   "source": [
    "Completed"
   ]
  },
  {
   "cell_type": "markdown",
   "id": "29a979fd-943d-4e6d-a5f4-84ccbdd11fb6",
   "metadata": {},
   "source": [
    "////////////////////////////////////////"
   ]
  },
  {
   "cell_type": "markdown",
   "id": "52607ec6-e6c1-4f40-b99f-a864e73f3a2b",
   "metadata": {},
   "source": [
    "Q28. Convert a tuple of integers to a tuple of strings"
   ]
  },
  {
   "cell_type": "code",
   "execution_count": 138,
   "id": "e862ce1b-01b2-46da-9321-8f288235f5d3",
   "metadata": {},
   "outputs": [
    {
     "name": "stdout",
     "output_type": "stream",
     "text": [
      "Tuple of strings: ('10', '20', '30')\n"
     ]
    }
   ],
   "source": [
    "int_tuple = (10, 20, 30)\n",
    "str_tuple = tuple(map(str, int_tuple))\n",
    "print(\"Tuple of strings:\", str_tuple)"
   ]
  },
  {
   "cell_type": "markdown",
   "id": "d8caf353-6b5d-4c57-9a7b-b60b1a7b9c03",
   "metadata": {},
   "source": [
    "Completed"
   ]
  },
  {
   "cell_type": "markdown",
   "id": "e1081713-6f42-4702-af83-e388f4e3c073",
   "metadata": {},
   "source": [
    "////////////////////////////////////////////"
   ]
  },
  {
   "cell_type": "markdown",
   "id": "a6d61b2d-97b7-4d77-9e66-ce91834d01d8",
   "metadata": {},
   "source": [
    "Q29. Convert a tuple of strings to a tuple of integers:"
   ]
  },
  {
   "cell_type": "code",
   "execution_count": 139,
   "id": "d560d77b-cb72-4dd9-9d8c-b94670f6f7ea",
   "metadata": {},
   "outputs": [
    {
     "name": "stdout",
     "output_type": "stream",
     "text": [
      "Tuple of integers: (10, 20, 30)\n"
     ]
    }
   ],
   "source": [
    "str_tuple = ('10', '20', '30')\n",
    "int_tuple = tuple(map(int, str_tuple))\n",
    "print(\"Tuple of integers:\", int_tuple)"
   ]
  },
  {
   "cell_type": "markdown",
   "id": "9c1f6170-0130-4835-b2da-78e951503f27",
   "metadata": {},
   "source": [
    "Completed"
   ]
  },
  {
   "cell_type": "markdown",
   "id": "462a0a4e-a6a9-42e1-be96-a26c44dd2f6c",
   "metadata": {},
   "source": [
    "///////////////////////////////////////////"
   ]
  },
  {
   "cell_type": "markdown",
   "id": "c336ed8d-1ffc-4d4e-82c4-fbacd4e74c56",
   "metadata": {},
   "source": [
    "Q30. Merge two tuples:"
   ]
  },
  {
   "cell_type": "code",
   "execution_count": 140,
   "id": "375a614e-9cb7-444b-b0b5-febbd71bbf4e",
   "metadata": {},
   "outputs": [
    {
     "name": "stdout",
     "output_type": "stream",
     "text": [
      "Merged tuple: (1, 2, 3, 4, 5, 6)\n"
     ]
    }
   ],
   "source": [
    "tuple1 = (1, 2, 3)\n",
    "tuple2 = (4, 5, 6)\n",
    "merged_tuple = tuple1 + tuple2\n",
    "print(\"Merged tuple:\", merged_tuple)"
   ]
  },
  {
   "cell_type": "markdown",
   "id": "6021fa0c-4ea2-48c0-af12-4316375a5e32",
   "metadata": {},
   "source": [
    "Completed"
   ]
  },
  {
   "cell_type": "markdown",
   "id": "b4f5cc86-7288-46d2-8609-1ee108904357",
   "metadata": {},
   "source": [
    "//////////////////////////////////////////"
   ]
  },
  {
   "cell_type": "markdown",
   "id": "de68eb65-2008-4ab3-b08b-3c0eaf7e9d4d",
   "metadata": {},
   "source": [
    "Q31. Flatten a nested tuple:"
   ]
  },
  {
   "cell_type": "code",
   "execution_count": 141,
   "id": "f90720f4-29d6-4ca1-8574-14ea1062dd98",
   "metadata": {},
   "outputs": [
    {
     "name": "stdout",
     "output_type": "stream",
     "text": [
      "Flattened tuple: (1, 2, 3, 4, 5, 6)\n"
     ]
    }
   ],
   "source": [
    "nested_tuple = ((1, 2), (3, 4), (5, 6))\n",
    "flattened_tuple = tuple(item for sublist in nested_tuple for item in sublist)\n",
    "print(\"Flattened tuple:\", flattened_tuple)"
   ]
  },
  {
   "cell_type": "markdown",
   "id": "62f083c1-96f8-4f57-8705-67184f2147ba",
   "metadata": {},
   "source": [
    "Completed"
   ]
  },
  {
   "cell_type": "markdown",
   "id": "4b6bd7b2-1b96-4acc-a139-5c3111f97640",
   "metadata": {},
   "source": [
    "//////////////////////////////////////////////"
   ]
  },
  {
   "cell_type": "markdown",
   "id": "8df18997-cf1b-4d70-a31e-c64357b11d29",
   "metadata": {},
   "source": [
    "Q32. Create a tuple of the first 5 prime numbers"
   ]
  },
  {
   "cell_type": "code",
   "execution_count": 142,
   "id": "f05a53aa-98ba-4971-adb1-800d2611f83a",
   "metadata": {},
   "outputs": [
    {
     "name": "stdout",
     "output_type": "stream",
     "text": [
      "Tuple of prime numbers: (2, 3, 5, 7, 11)\n"
     ]
    }
   ],
   "source": [
    "prime_numbers = (2, 3, 5, 7, 11)\n",
    "print(\"Tuple of prime numbers:\", prime_numbers)"
   ]
  },
  {
   "cell_type": "code",
   "execution_count": 143,
   "id": "a4e5ed46-34f7-4f3d-b983-ac763fd175c2",
   "metadata": {},
   "outputs": [
    {
     "ename": "NameError",
     "evalue": "name 'Completed' is not defined",
     "output_type": "error",
     "traceback": [
      "\u001b[0;31m---------------------------------------------------------------------------\u001b[0m",
      "\u001b[0;31mNameError\u001b[0m                                 Traceback (most recent call last)",
      "Cell \u001b[0;32mIn[143], line 1\u001b[0m\n\u001b[0;32m----> 1\u001b[0m \u001b[43mCompleted\u001b[49m\n",
      "\u001b[0;31mNameError\u001b[0m: name 'Completed' is not defined"
     ]
    }
   ],
   "source": [
    "Completed"
   ]
  },
  {
   "cell_type": "markdown",
   "id": "75491515-1729-44f8-aea5-92763114a82d",
   "metadata": {},
   "source": [
    "////////////////////////////////////////////"
   ]
  },
  {
   "cell_type": "markdown",
   "id": "426f1a44-86a1-4a7f-be3e-e782c8a76ba3",
   "metadata": {},
   "source": [
    "Q33. Check if a tuple is a palindrome:"
   ]
  },
  {
   "cell_type": "code",
   "execution_count": 144,
   "id": "ae15419b-e9a8-48ef-8df4-7f9909414855",
   "metadata": {},
   "outputs": [
    {
     "name": "stdout",
     "output_type": "stream",
     "text": [
      "Is the tuple a palindrome? True\n"
     ]
    }
   ],
   "source": [
    "def is_palindrome(some_tuple):\n",
    "    return some_tuple == some_tuple[::-1]\n",
    "\n",
    "test_tuple = (1, 2, 3, 2, 1)\n",
    "print(\"Is the tuple a palindrome?\", is_palindrome(test_tuple))"
   ]
  },
  {
   "cell_type": "markdown",
   "id": "dd59b46f-b6a6-4f75-9f1b-1a9ed976a92a",
   "metadata": {},
   "source": [
    "Completed"
   ]
  },
  {
   "cell_type": "markdown",
   "id": "06528fd0-dbd1-4150-84e5-00864b7b90fa",
   "metadata": {},
   "source": [
    "///////////////////////////////////"
   ]
  },
  {
   "cell_type": "markdown",
   "id": "355634d8-89e4-4d8e-a27d-32b4d09e3d0a",
   "metadata": {},
   "source": [
    "Q34. Create a tuple of squares of numbers from 1 to 5"
   ]
  },
  {
   "cell_type": "code",
   "execution_count": 145,
   "id": "f0cd20d2-9662-4112-9ed9-884aff342973",
   "metadata": {},
   "outputs": [
    {
     "name": "stdout",
     "output_type": "stream",
     "text": [
      "Tuple of squared numbers: (1, 4, 9, 16, 25)\n"
     ]
    }
   ],
   "source": [
    "squared_tuple = tuple(x ** 2 for x in range(1, 6))\n",
    "print(\"Tuple of squared numbers:\", squared_tuple)"
   ]
  },
  {
   "cell_type": "markdown",
   "id": "30278cfa-2ace-4f81-af5b-f5216b11e3e4",
   "metadata": {},
   "source": [
    "Completed"
   ]
  },
  {
   "cell_type": "markdown",
   "id": "1019a0e0-acda-4425-a82a-55864e35fccf",
   "metadata": {},
   "source": [
    "//////////////////////////////////////"
   ]
  },
  {
   "cell_type": "markdown",
   "id": "98aed462-c990-430b-9045-d81684c51e60",
   "metadata": {},
   "source": [
    "Q35. Filter out all even numbers from a tuple:"
   ]
  },
  {
   "cell_type": "code",
   "execution_count": 146,
   "id": "ea8a0f4c-011d-4b1b-9c21-a3e3b0f7cd78",
   "metadata": {},
   "outputs": [
    {
     "name": "stdout",
     "output_type": "stream",
     "text": [
      "Filtered tuple: (1, 3, 5, 7, 9)\n"
     ]
    }
   ],
   "source": [
    "original_tuple = (1, 2, 3, 4, 5, 6, 7, 8, 9)\n",
    "filtered_tuple = tuple(x for x in original_tuple if x % 2 != 0)\n",
    "print(\"Filtered tuple:\", filtered_tuple)"
   ]
  },
  {
   "cell_type": "markdown",
   "id": "34f4f697-454c-42ee-97f3-de5f4ae0c573",
   "metadata": {},
   "source": [
    "Completed"
   ]
  },
  {
   "cell_type": "markdown",
   "id": "10565b39-709f-42a6-87af-963ab9657ea8",
   "metadata": {},
   "source": [
    "//////////////////////////////////////////"
   ]
  },
  {
   "cell_type": "markdown",
   "id": "49aff448-b2e1-41a1-89eb-d28d10dfc847",
   "metadata": {},
   "source": [
    "Q36. Multiply all elements in a tuple by 2"
   ]
  },
  {
   "cell_type": "code",
   "execution_count": 147,
   "id": "5fc44fd9-fbcd-4338-85f0-ad6023b4a4e4",
   "metadata": {},
   "outputs": [
    {
     "name": "stdout",
     "output_type": "stream",
     "text": [
      "Multiplied tuple: (2, 4, 6, 8, 10)\n"
     ]
    }
   ],
   "source": [
    "original_tuple = (1, 2, 3, 4, 5)\n",
    "multiplied_tuple = tuple(x * 2 for x in original_tuple)\n",
    "print(\"Multiplied tuple:\", multiplied_tuple)"
   ]
  },
  {
   "cell_type": "markdown",
   "id": "b8f0cf3d-de31-499c-a086-3f6cf5e3d58f",
   "metadata": {},
   "source": [
    "Completed"
   ]
  },
  {
   "cell_type": "markdown",
   "id": "658a3749-85a1-46bb-8cf3-dc6e34f029a1",
   "metadata": {},
   "source": [
    "////////////////////////////////////////////"
   ]
  },
  {
   "cell_type": "markdown",
   "id": "82cb83df-61b3-4d45-a2d4-61d51cc4e9a8",
   "metadata": {},
   "source": [
    "Q37. Create a tuple of random numbers"
   ]
  },
  {
   "cell_type": "code",
   "execution_count": 148,
   "id": "3f0bc580-eb12-407f-9672-b07ee7048a2e",
   "metadata": {},
   "outputs": [
    {
     "name": "stdout",
     "output_type": "stream",
     "text": [
      "Tuple of random numbers: (32, 52, 22, 93, 2)\n"
     ]
    }
   ],
   "source": [
    "import random\n",
    "\n",
    "random_numbers = tuple(random.randint(1, 100) for _ in range(5))\n",
    "print(\"Tuple of random numbers:\", random_numbers)"
   ]
  },
  {
   "cell_type": "markdown",
   "id": "a89d2581-74a8-4818-98ec-851c7d44a234",
   "metadata": {},
   "source": [
    "Completed"
   ]
  },
  {
   "cell_type": "markdown",
   "id": "12624b5a-4826-4699-8b7b-6671f2b6a4ae",
   "metadata": {},
   "source": [
    "////////////////////////////////////////"
   ]
  },
  {
   "cell_type": "markdown",
   "id": "1f651655-18cb-4722-a584-521abf0db611",
   "metadata": {},
   "source": [
    "Q38. Check if a tuple is sorted."
   ]
  },
  {
   "cell_type": "code",
   "execution_count": 149,
   "id": "f9d2f3e3-c495-4c29-905a-512c44f301c1",
   "metadata": {},
   "outputs": [
    {
     "name": "stdout",
     "output_type": "stream",
     "text": [
      "True\n",
      "False\n"
     ]
    }
   ],
   "source": [
    "def is_sorted_tuple(tup):\n",
    "    for i in range(len(tup) - 1):\n",
    "        if tup[i] > tup[i + 1]:\n",
    "            return False\n",
    "    return True\n",
    "\n",
    "# Example tuples\n",
    "sorted_tuple = (1, 2, 3, 4, 5)\n",
    "unsorted_tuple = (5, 2, 8, 1, 4)\n",
    "\n",
    "print(is_sorted_tuple(sorted_tuple))   # Output: True\n",
    "print(is_sorted_tuple(unsorted_tuple)) # Output: False"
   ]
  },
  {
   "cell_type": "markdown",
   "id": "6ab878c9-599a-4073-9f05-7b9b79a085de",
   "metadata": {},
   "source": [
    "Completed"
   ]
  },
  {
   "cell_type": "code",
   "execution_count": 150,
   "id": "414953a3-45a6-41d6-be98-9bf2acde9ca8",
   "metadata": {},
   "outputs": [
    {
     "ename": "SyntaxError",
     "evalue": "invalid syntax (4122718418.py, line 1)",
     "output_type": "error",
     "traceback": [
      "\u001b[0;36m  Cell \u001b[0;32mIn[150], line 1\u001b[0;36m\u001b[0m\n\u001b[0;31m    ///////////////////////////////////////////////\u001b[0m\n\u001b[0m    ^\u001b[0m\n\u001b[0;31mSyntaxError\u001b[0m\u001b[0;31m:\u001b[0m invalid syntax\n"
     ]
    }
   ],
   "source": [
    "///////////////////////////////////////////////"
   ]
  },
  {
   "cell_type": "markdown",
   "id": "2a83b1c7-8231-4d71-8eae-d4d6fe1731e5",
   "metadata": {},
   "source": [
    "Q39. Rotate a tuple to the left by `n` positions."
   ]
  },
  {
   "cell_type": "code",
   "execution_count": 151,
   "id": "c84cd983-d03a-429c-8153-506198dd7e3b",
   "metadata": {},
   "outputs": [
    {
     "name": "stdout",
     "output_type": "stream",
     "text": [
      "(3, 4, 5, 1, 2)\n"
     ]
    }
   ],
   "source": [
    "def rotate_left_tuple(tup, n):\n",
    "    length = len(tup)\n",
    "    n = n % length  # Ensure n is within the tuple length\n",
    "\n",
    "    rotated_tuple = tup[n:] + tup[:n]\n",
    "    return rotated_tuple\n",
    "\n",
    "# Example tuple\n",
    "original_tuple = (1, 2, 3, 4, 5)\n",
    "\n",
    "rotated_tuple = rotate_left_tuple(original_tuple, 2)\n",
    "print(rotated_tuple) "
   ]
  },
  {
   "cell_type": "markdown",
   "id": "30a0b491-4106-4343-8e85-4ae4dfa127d3",
   "metadata": {},
   "source": [
    "Completed"
   ]
  },
  {
   "cell_type": "markdown",
   "id": "02b6aecc-b1e1-4d00-98a4-f6f9e3ac931b",
   "metadata": {},
   "source": [
    "///////////////////////////////////////"
   ]
  },
  {
   "cell_type": "markdown",
   "id": "1002f580-8f33-4b39-8e5a-c7a49f3e7d1a",
   "metadata": {},
   "source": [
    "Q40. Rotate a tuple to the right by `n` positions."
   ]
  },
  {
   "cell_type": "code",
   "execution_count": 152,
   "id": "bd6e08ce-cb8b-4b7c-b1de-d6485de23e72",
   "metadata": {},
   "outputs": [
    {
     "name": "stdout",
     "output_type": "stream",
     "text": [
      "(4, 5, 1, 2, 3)\n"
     ]
    }
   ],
   "source": [
    "def rotate_right_tuple(tup, n):\n",
    "    length = len(tup)\n",
    "    n = n % length  # Ensure n is within the tuple length\n",
    "\n",
    "    rotated_tuple = tup[-n:] + tup[:-n]\n",
    "    return rotated_tuple\n",
    "\n",
    "# Example tuple\n",
    "original_tuple = (1, 2, 3, 4, 5)\n",
    "\n",
    "rotated_tuple = rotate_right_tuple(original_tuple, 2)\n",
    "print(rotated_tuple)  "
   ]
  },
  {
   "cell_type": "markdown",
   "id": "108d5a46-cea1-44ac-91bb-a1e3fcad775b",
   "metadata": {},
   "source": [
    "Completed"
   ]
  },
  {
   "cell_type": "code",
   "execution_count": 153,
   "id": "5b67e8a0-6bae-4287-8d07-ff4c38cd373b",
   "metadata": {},
   "outputs": [
    {
     "ename": "SyntaxError",
     "evalue": "invalid syntax (1616885965.py, line 1)",
     "output_type": "error",
     "traceback": [
      "\u001b[0;36m  Cell \u001b[0;32mIn[153], line 1\u001b[0;36m\u001b[0m\n\u001b[0;31m    ///////////////////////////////////\u001b[0m\n\u001b[0m    ^\u001b[0m\n\u001b[0;31mSyntaxError\u001b[0m\u001b[0;31m:\u001b[0m invalid syntax\n"
     ]
    }
   ],
   "source": [
    "///////////////////////////////////"
   ]
  },
  {
   "cell_type": "markdown",
   "id": "6af02ad6-147d-446c-a0be-f7789f1817c3",
   "metadata": {},
   "source": [
    "Q41. Create a tuple of the first 5 Fibonacci numbers."
   ]
  },
  {
   "cell_type": "code",
   "execution_count": 154,
   "id": "5fb2d98d-6e20-4e3f-be45-8941680556dc",
   "metadata": {},
   "outputs": [
    {
     "name": "stdout",
     "output_type": "stream",
     "text": [
      "(0, 1, 1, 2, 3)\n"
     ]
    }
   ],
   "source": [
    "def generate_fibonacci(n):\n",
    "    fibonacci = [0, 1]\n",
    "    while len(fibonacci) < n:\n",
    "        next_fib = fibonacci[-1] + fibonacci[-2]\n",
    "        fibonacci.append(next_fib)\n",
    "    return tuple(fibonacci)\n",
    "\n",
    "fibonacci_tuple = generate_fibonacci(5)\n",
    "print(fibonacci_tuple)"
   ]
  },
  {
   "cell_type": "markdown",
   "id": "906c9ab9-4813-45f5-ac8f-c92ff4580c4f",
   "metadata": {},
   "source": [
    "Completed"
   ]
  },
  {
   "cell_type": "markdown",
   "id": "b429fe48-e3e2-44c3-b067-388fde50b39d",
   "metadata": {},
   "source": [
    "/////////////////////////////////////////"
   ]
  },
  {
   "cell_type": "markdown",
   "id": "6b47ab2b-1765-4ab9-a82c-37dfd1bd8aa3",
   "metadata": {},
   "source": [
    "Q42. Create a tuple from user input."
   ]
  },
  {
   "cell_type": "code",
   "execution_count": 155,
   "id": "f9d0a8eb-67b4-44be-a4af-111ef4150d47",
   "metadata": {},
   "outputs": [
    {
     "name": "stdin",
     "output_type": "stream",
     "text": [
      "Enter elements separated by spaces:  gghgb gbuijgb\n"
     ]
    },
    {
     "name": "stdout",
     "output_type": "stream",
     "text": [
      "('gghgb', 'gbuijgb')\n"
     ]
    }
   ],
   "source": [
    "def create_tuple_from_input():\n",
    "    input_str = input(\"Enter elements separated by spaces: \")\n",
    "    input_list = input_str.split()\n",
    "    input_tuple = tuple(input_list)\n",
    "    return input_tuple\n",
    "\n",
    "user_tuple = create_tuple_from_input()\n",
    "print(user_tuple)"
   ]
  },
  {
   "cell_type": "markdown",
   "id": "e87a87e7-ebe6-4864-b3a3-8dd5f94f354a",
   "metadata": {},
   "source": [
    "Completed"
   ]
  },
  {
   "cell_type": "markdown",
   "id": "89e69302-6276-4c53-acea-c2ed944e5385",
   "metadata": {},
   "source": [
    "////////////////////////////////////////"
   ]
  },
  {
   "cell_type": "markdown",
   "id": "68bcc859-6c82-4be5-baca-7f287a7ca0f2",
   "metadata": {},
   "source": [
    "Q43. Swap two elements in a tuple."
   ]
  },
  {
   "cell_type": "code",
   "execution_count": 162,
   "id": "124f50e3-bca7-45ee-b8e8-15aad0227700",
   "metadata": {},
   "outputs": [
    {
     "name": "stdout",
     "output_type": "stream",
     "text": [
      "(1, 4, 3, 2, 5)\n"
     ]
    }
   ],
   "source": [
    "def swap_elements(tup, index1, index2):\n",
    "    # Convert the tuple to a list\n",
    "    temp_list = list(tup)\n",
    "    \n",
    "    # Swap the elements using the indexes\n",
    "    temp_list[index1], temp_list[index2] = temp_list[index2], temp_list[index1]\n",
    "    \n",
    "    # Convert the list back to a tuple\n",
    "    swapped_tuple = tuple(temp_list)\n",
    "    return swapped_tuple\n",
    "\n",
    "original_tuple = (1, 2, 3, 4, 5)\n",
    "swapped_tuple = swap_elements(original_tuple, 1, 3)\n",
    "print(swapped_tuple) "
   ]
  },
  {
   "cell_type": "markdown",
   "id": "7814a64a-d824-4dde-b8ae-7a19fb44637f",
   "metadata": {},
   "source": [
    "Completed"
   ]
  },
  {
   "cell_type": "markdown",
   "id": "0449a572-475f-41ee-8032-782389b25f3d",
   "metadata": {},
   "source": [
    "//////////////////////////////////"
   ]
  },
  {
   "cell_type": "markdown",
   "id": "97cca14e-1a39-45d5-b345-c32d393ef99d",
   "metadata": {},
   "source": [
    "Q44. Reverse the elements of a tuple."
   ]
  },
  {
   "cell_type": "code",
   "execution_count": 163,
   "id": "e4a6a85e-22bc-4b9e-909e-bb8d7858e7d4",
   "metadata": {},
   "outputs": [
    {
     "name": "stdout",
     "output_type": "stream",
     "text": [
      "(5, 4, 3, 2, 1)\n"
     ]
    }
   ],
   "source": [
    "def reverse_tuple(tup):\n",
    "    reversed_tuple = tuple(reversed(tup))\n",
    "    return reversed_tuple\n",
    "\n",
    "original_tuple = (1, 2, 3, 4, 5)\n",
    "reversed_tuple = reverse_tuple(original_tuple)\n",
    "print(reversed_tuple) "
   ]
  },
  {
   "cell_type": "markdown",
   "id": "38ac23d1-b6e2-47e4-9b5e-67d5bfff04ee",
   "metadata": {},
   "source": [
    "Completed"
   ]
  },
  {
   "cell_type": "markdown",
   "id": "e7b70731-e49c-4e6a-a89b-2e4d453aa534",
   "metadata": {},
   "source": [
    "////////////////////////////////////"
   ]
  },
  {
   "cell_type": "markdown",
   "id": "02f2a848-3326-428f-baef-a797d6fe23a2",
   "metadata": {},
   "source": [
    "Q45. Create a tuple of the first `n` powers of 2."
   ]
  },
  {
   "cell_type": "code",
   "execution_count": 164,
   "id": "3e89790d-b084-4e4e-9620-4f3d2322611e",
   "metadata": {},
   "outputs": [
    {
     "name": "stdout",
     "output_type": "stream",
     "text": [
      "(1, 2, 4, 8, 16)\n"
     ]
    }
   ],
   "source": [
    "def powers_of_2(n):\n",
    "    return tuple(2 ** i for i in range(n))\n",
    "\n",
    "n = 5\n",
    "powers_tuple = powers_of_2(n)\n",
    "print(powers_tuple)  # Output: (1, 2, 4, 8, 16)"
   ]
  },
  {
   "cell_type": "markdown",
   "id": "db421598-6046-4ac8-b2eb-54d0ec8ca7b7",
   "metadata": {},
   "source": [
    "Completed"
   ]
  },
  {
   "cell_type": "markdown",
   "id": "acb62e36-6d68-494a-b6bb-706131b6362e",
   "metadata": {},
   "source": [
    "////////////////////////////////////"
   ]
  },
  {
   "cell_type": "markdown",
   "id": "7c9c2707-c407-45b9-8aae-c9ca10f78c6b",
   "metadata": {},
   "source": [
    "Q46. Find the longest string in a tuple of strings"
   ]
  },
  {
   "cell_type": "code",
   "execution_count": 165,
   "id": "8402e4be-3fd5-4805-8f7e-69a93bca2d07",
   "metadata": {},
   "outputs": [
    {
     "name": "stdout",
     "output_type": "stream",
     "text": [
      "banana\n"
     ]
    }
   ],
   "source": [
    "def longest_string(strings_tuple):\n",
    "    return max(strings_tuple, key=len)\n",
    "\n",
    "strings_tuple = (\"apple\", \"banana\", \"cherry\", \"date\")\n",
    "longest = longest_string(strings_tuple)\n",
    "print(longest)  # Output: \"banana\""
   ]
  },
  {
   "cell_type": "markdown",
   "id": "759fff78-3f32-42cc-bfff-9d2447ae5c38",
   "metadata": {},
   "source": [
    "Competed"
   ]
  },
  {
   "cell_type": "markdown",
   "id": "1982a264-fe20-4334-9842-07ccb6eca1c3",
   "metadata": {},
   "source": [
    "//////////////////////////////////"
   ]
  },
  {
   "cell_type": "markdown",
   "id": "98ff0f2b-f7eb-4a2f-980b-99b412da71bf",
   "metadata": {},
   "source": [
    "Q47. Find the shortest string in a tuple of strings:"
   ]
  },
  {
   "cell_type": "code",
   "execution_count": 166,
   "id": "7a5bf77b-f4a6-4a42-ab86-da7eeced38da",
   "metadata": {},
   "outputs": [
    {
     "name": "stdout",
     "output_type": "stream",
     "text": [
      "date\n"
     ]
    }
   ],
   "source": [
    "def shortest_string(strings_tuple):\n",
    "    return min(strings_tuple, key=len)\n",
    "\n",
    "strings_tuple = (\"apple\", \"banana\", \"cherry\", \"date\")\n",
    "shortest = shortest_string(strings_tuple)\n",
    "print(shortest)  # Output: \"date\"\n"
   ]
  },
  {
   "cell_type": "markdown",
   "id": "f645e781-debb-417f-b7c6-534b77b54579",
   "metadata": {},
   "source": [
    "Completed"
   ]
  },
  {
   "cell_type": "markdown",
   "id": "df604b78-ea29-4824-89fb-0e990d55010b",
   "metadata": {},
   "source": [
    "////////////////////////////////////"
   ]
  },
  {
   "cell_type": "markdown",
   "id": "0e72a2ac-8dcb-4b39-8048-a3c044a469b2",
   "metadata": {},
   "source": [
    "Q48. Create a tuple of the first n triangular numbers"
   ]
  },
  {
   "cell_type": "code",
   "execution_count": 167,
   "id": "9339b3b1-f98e-44ff-b096-d1f85ebef520",
   "metadata": {},
   "outputs": [
    {
     "name": "stdout",
     "output_type": "stream",
     "text": [
      "(0, 1, 3, 6, 10)\n"
     ]
    }
   ],
   "source": [
    "def triangular_numbers(n):\n",
    "    return tuple((i * (i + 1)) // 2 for i in range(n))\n",
    "\n",
    "n = 5\n",
    "triangular_tuple = triangular_numbers(n)\n",
    "print(triangular_tuple)  # Output: (0, 1, 3, 6, 10)"
   ]
  },
  {
   "cell_type": "markdown",
   "id": "0f6d6905-b553-4275-9aa9-8b139c723f4d",
   "metadata": {},
   "source": [
    "Completed"
   ]
  },
  {
   "cell_type": "markdown",
   "id": "36e06de9-b219-4a0a-9b3b-29c1e5f12398",
   "metadata": {},
   "source": [
    "///////////////////////////////////"
   ]
  },
  {
   "cell_type": "markdown",
   "id": "0fb6f0e1-c066-4aff-8ce7-77181a853a19",
   "metadata": {},
   "source": [
    "Q49. Check if a tuple contains another tuple as a subsequence"
   ]
  },
  {
   "cell_type": "code",
   "execution_count": 168,
   "id": "576b42dd-245d-4da5-83fe-b028feb080ff",
   "metadata": {},
   "outputs": [
    {
     "name": "stdout",
     "output_type": "stream",
     "text": [
      "True\n"
     ]
    }
   ],
   "source": [
    "def contains_subtuple(main_tuple, sub_tuple):\n",
    "    for i in range(len(main_tuple) - len(sub_tuple) + 1):\n",
    "        if main_tuple[i:i+len(sub_tuple)] == sub_tuple:\n",
    "            return True\n",
    "    return False\n",
    "\n",
    "main_tuple = (1, 2, 3, 4, 5, 6, 7, 8)\n",
    "sub_tuple = (3, 4, 5)\n",
    "print(contains_subtuple(main_tuple, sub_tuple))  # Output: True\n"
   ]
  },
  {
   "cell_type": "markdown",
   "id": "0977255b-e958-4c22-982f-0f22fe960f6b",
   "metadata": {},
   "source": [
    "Completed"
   ]
  },
  {
   "cell_type": "markdown",
   "id": "96d1addd-3f68-4b8f-b34c-93c3cf51f226",
   "metadata": {},
   "source": [
    "/////////////////////////////////"
   ]
  },
  {
   "cell_type": "markdown",
   "id": "1d98a55c-9d5c-4275-bf63-13da38c890e4",
   "metadata": {},
   "source": [
    "Q50. Create a tuple of alternating 1s and 0s of length n:"
   ]
  },
  {
   "cell_type": "code",
   "execution_count": 169,
   "id": "9499f753-9571-4aea-b2be-ce4aeb906bc0",
   "metadata": {},
   "outputs": [
    {
     "name": "stdout",
     "output_type": "stream",
     "text": [
      "(1, 0, 1, 0, 1, 0, 1)\n"
     ]
    }
   ],
   "source": [
    "def alternating_ones_zeros(n):\n",
    "    return tuple(1 if i % 2 == 0 else 0 for i in range(n))\n",
    "\n",
    "n = 7\n",
    "alternating_tuple = alternating_ones_zeros(n)\n",
    "print(alternating_tuple)  # Output: (1, 0, 1, 0, 1, 0, 1)"
   ]
  },
  {
   "cell_type": "markdown",
   "id": "aa440176-ef62-4988-9ca4-1795fb74ca36",
   "metadata": {},
   "source": [
    "Completed"
   ]
  },
  {
   "cell_type": "markdown",
   "id": "5f7a1d04-be8b-4704-b1d9-92ebcd31fd44",
   "metadata": {},
   "source": [
    "/////////////////////////////////////"
   ]
  },
  {
   "cell_type": "markdown",
   "id": "75734081-bbc3-4582-901e-fc715119852b",
   "metadata": {},
   "source": [
    "////////////////////////////////////"
   ]
  },
  {
   "cell_type": "markdown",
   "id": "23b66a7c-af54-4285-9b94-f71c253bb649",
   "metadata": {},
   "source": [
    "Set Based Practice Problem :"
   ]
  },
  {
   "cell_type": "markdown",
   "id": "8edadad1-bb7e-4afb-9e67-9c1f6abc369c",
   "metadata": {},
   "source": [
    "1. Create a set with integers from 1 to 5:"
   ]
  },
  {
   "cell_type": "code",
   "execution_count": 170,
   "id": "ed847fca-c480-4824-a217-0e32899aaca8",
   "metadata": {},
   "outputs": [
    {
     "name": "stdout",
     "output_type": "stream",
     "text": [
      "{1, 2, 3, 4, 5}\n"
     ]
    }
   ],
   "source": [
    "int_set = {1, 2, 3, 4, 5}\n",
    "print(int_set)"
   ]
  },
  {
   "cell_type": "markdown",
   "id": "4501d813-0fca-4c21-bada-1122338a1880",
   "metadata": {},
   "source": [
    "Q2. Add an element to a set:"
   ]
  },
  {
   "cell_type": "code",
   "execution_count": 171,
   "id": "0f08322d-1afd-416f-ab9f-164cc22efdb1",
   "metadata": {
    "tags": []
   },
   "outputs": [
    {
     "name": "stdout",
     "output_type": "stream",
     "text": [
      "{1, 2, 3, 4, 5, 6}\n"
     ]
    }
   ],
   "source": [
    "int_set.add(6)\n",
    "print(int_set)"
   ]
  },
  {
   "cell_type": "markdown",
   "id": "dde23202-99d8-4a2b-9af5-51d1611c29bf",
   "metadata": {},
   "source": [
    "Q3. Remove an element from a set:"
   ]
  },
  {
   "cell_type": "code",
   "execution_count": 172,
   "id": "b9aa4066-e0f0-4efa-be3a-8678c2076ee8",
   "metadata": {},
   "outputs": [
    {
     "name": "stdout",
     "output_type": "stream",
     "text": [
      "{1, 2, 4, 5, 6}\n"
     ]
    }
   ],
   "source": [
    "int_set.remove(3)\n",
    "print(int_set)"
   ]
  },
  {
   "cell_type": "markdown",
   "id": "45a2bd7a-1337-44e2-ad56-5cc357c36a7b",
   "metadata": {},
   "source": [
    "Q4. Check if an element exists in a set."
   ]
  },
  {
   "cell_type": "code",
   "execution_count": 173,
   "id": "981cdd5e-bf53-451c-8612-a32b42589db3",
   "metadata": {},
   "outputs": [
    {
     "name": "stdout",
     "output_type": "stream",
     "text": [
      "3 exists in the set.\n"
     ]
    }
   ],
   "source": [
    "my_set = {1, 2, 3, 4, 5}\n",
    "\n",
    "element_to_check = 3\n",
    "if element_to_check in my_set:\n",
    "    print(f\"{element_to_check} exists in the set.\")\n",
    "else:\n",
    "    print(f\"{element_to_check} does not exist in the set.\")"
   ]
  },
  {
   "cell_type": "markdown",
   "id": "9f67f376-6c7b-42a1-8e91-a6559d8bd45e",
   "metadata": {},
   "source": [
    "Q5. Find the length of a set without using the `len()` function."
   ]
  },
  {
   "cell_type": "code",
   "execution_count": 174,
   "id": "6681e91b-36db-4809-8d2d-c3272af6b61a",
   "metadata": {},
   "outputs": [
    {
     "name": "stdout",
     "output_type": "stream",
     "text": [
      "5\n"
     ]
    }
   ],
   "source": [
    "def custom_len(s):\n",
    "    count = 0\n",
    "    for _ in s:\n",
    "        count += 1\n",
    "    return count\n",
    "\n",
    "my_set = {1, 2, 3, 4, 5}\n",
    "length = custom_len(my_set)\n",
    "print(length)  "
   ]
  },
  {
   "cell_type": "markdown",
   "id": "5b7e080b-1df8-44eb-962d-9a28f516b3d3",
   "metadata": {},
   "source": [
    "Q6. Clear all elements from a set."
   ]
  },
  {
   "cell_type": "code",
   "execution_count": 175,
   "id": "1696b345-8202-4626-b681-981a4574eae4",
   "metadata": {},
   "outputs": [
    {
     "name": "stdout",
     "output_type": "stream",
     "text": [
      "set()\n"
     ]
    }
   ],
   "source": [
    "my_set = {1, 2, 3, 4, 5}\n",
    "my_set.clear()\n",
    "print(my_set) "
   ]
  },
  {
   "cell_type": "markdown",
   "id": "dfa7d470-bc53-48e6-9339-d2b565c7b4ba",
   "metadata": {},
   "source": [
    "Q7. Create a set of even numbers from 1 to 10."
   ]
  },
  {
   "cell_type": "code",
   "execution_count": 176,
   "id": "a9c013f7-1e2e-45cc-8a4c-ea835859948b",
   "metadata": {},
   "outputs": [
    {
     "name": "stdout",
     "output_type": "stream",
     "text": [
      "{2, 4, 6, 8, 10}\n"
     ]
    }
   ],
   "source": [
    "even_numbers = {x for x in range(1, 11) if x % 2 == 0}\n",
    "print(even_numbers) "
   ]
  },
  {
   "cell_type": "markdown",
   "id": "1eaaebe3-c163-4486-85e2-706cf141f2b9",
   "metadata": {},
   "source": [
    "Q8. Create a set of odd numbers from 1 to 10:"
   ]
  },
  {
   "cell_type": "code",
   "execution_count": 177,
   "id": "ecbbc3c0-36ba-4a6b-8c84-3610c18c8588",
   "metadata": {},
   "outputs": [
    {
     "name": "stdout",
     "output_type": "stream",
     "text": [
      "{1, 3, 5, 7, 9}\n"
     ]
    }
   ],
   "source": [
    "odd_numbers = {x for x in range(1, 11) if x % 2 != 0}\n",
    "print(odd_numbers)"
   ]
  },
  {
   "cell_type": "markdown",
   "id": "8b21c06f-9ff4-4500-8493-b46db3ab361b",
   "metadata": {},
   "source": [
    "Q9 Find the intersection of two sets"
   ]
  },
  {
   "cell_type": "code",
   "execution_count": 178,
   "id": "b0c0b113-753e-4394-9ade-79e2916be939",
   "metadata": {},
   "outputs": [
    {
     "name": "stdout",
     "output_type": "stream",
     "text": [
      "{3}\n"
     ]
    }
   ],
   "source": [
    "set1 = {1, 2, 3}\n",
    "set2 = {3, 4, 5}\n",
    "intersection_set = set1 & set2\n",
    "print(intersection_set)  "
   ]
  },
  {
   "cell_type": "markdown",
   "id": "b674b010-bf5d-4883-911a-b87ac59f7b52",
   "metadata": {},
   "source": [
    "Q10 Find the difference between two sets"
   ]
  },
  {
   "cell_type": "code",
   "execution_count": 179,
   "id": "bd8d5da3-d0e6-43e7-aed6-9fb634164d3d",
   "metadata": {},
   "outputs": [
    {
     "name": "stdout",
     "output_type": "stream",
     "text": [
      "{1, 2}\n"
     ]
    }
   ],
   "source": [
    "set1 = {1, 2, 3}\n",
    "set2 = {3, 4, 5}\n",
    "difference_set = set1 - set2\n",
    "print(difference_set) "
   ]
  },
  {
   "cell_type": "markdown",
   "id": "7fae90d7-db31-4276-892e-99e58999e957",
   "metadata": {},
   "source": [
    "Q11 Check if a set is a subset of another set"
   ]
  },
  {
   "cell_type": "code",
   "execution_count": 180,
   "id": "b62ff2a8-6718-4fad-8e5f-975b2ef95ffb",
   "metadata": {},
   "outputs": [
    {
     "name": "stdout",
     "output_type": "stream",
     "text": [
      "True\n"
     ]
    }
   ],
   "source": [
    "set1 = {1, 2}\n",
    "set2 = {1, 2, 3, 4, 5}\n",
    "is_subset = set1.issubset(set2)\n",
    "print(is_subset)  "
   ]
  },
  {
   "cell_type": "markdown",
   "id": "ab811a66-6f70-4357-932c-357bcc6c38db",
   "metadata": {},
   "source": [
    "Q12 Check if a set is a superset of another set"
   ]
  },
  {
   "cell_type": "code",
   "execution_count": 181,
   "id": "99fd1076-3e36-4e7d-9b5e-5ffdf943519a",
   "metadata": {},
   "outputs": [
    {
     "name": "stdout",
     "output_type": "stream",
     "text": [
      "True\n"
     ]
    }
   ],
   "source": [
    "set1 = {1, 2, 3, 4, 5}\n",
    "set2 = {1, 2}\n",
    "is_superset = set1.issuperset(set2)\n",
    "print(is_superset)  "
   ]
  },
  {
   "cell_type": "markdown",
   "id": "237acd5c-646c-44c6-9dc5-70b8742abce9",
   "metadata": {},
   "source": [
    "Q13 Create a set from a list:"
   ]
  },
  {
   "cell_type": "code",
   "execution_count": 182,
   "id": "98bce015-7ec5-4e64-a5a7-8a393e606908",
   "metadata": {},
   "outputs": [
    {
     "name": "stdout",
     "output_type": "stream",
     "text": [
      "{1, 2, 3, 4, 5}\n"
     ]
    }
   ],
   "source": [
    "my_list = [1, 2, 3, 4, 5]\n",
    "new_set = set(my_list)\n",
    "print(new_set)  "
   ]
  },
  {
   "cell_type": "markdown",
   "id": "b984da3e-04ed-4f4c-88dd-aedc147400f9",
   "metadata": {},
   "source": [
    "Q14 Convert a set to a list:"
   ]
  },
  {
   "cell_type": "code",
   "execution_count": 183,
   "id": "55579f80-9f7b-4b81-aad8-6e64e78ff0a2",
   "metadata": {},
   "outputs": [
    {
     "name": "stdout",
     "output_type": "stream",
     "text": [
      "[1, 2, 3, 4, 5]\n"
     ]
    }
   ],
   "source": [
    "my_set = {1, 2, 3, 4, 5}\n",
    "new_list = list(my_set)\n",
    "print(new_list)  "
   ]
  },
  {
   "cell_type": "markdown",
   "id": "47aa3445-fb23-43b8-88fe-2af1f0e0f4a3",
   "metadata": {},
   "source": [
    "Q15 Remove a random element from a set"
   ]
  },
  {
   "cell_type": "code",
   "execution_count": 184,
   "id": "e74cb1c2-627e-408d-a893-11d43372635f",
   "metadata": {},
   "outputs": [
    {
     "name": "stdout",
     "output_type": "stream",
     "text": [
      "1\n",
      "{2, 3, 4, 5}\n"
     ]
    }
   ],
   "source": [
    "import random\n",
    "\n",
    "my_set = {1, 2, 3, 4, 5}\n",
    "random_element = my_set.pop()\n",
    "print(random_element) \n",
    "print(my_set)  "
   ]
  },
  {
   "cell_type": "markdown",
   "id": "112b2285-ea36-4986-8056-cdccaa02e785",
   "metadata": {},
   "source": [
    "Q16 Pop an element from a set:"
   ]
  },
  {
   "cell_type": "code",
   "execution_count": 185,
   "id": "86cb0bc2-e1d2-4d83-8bd9-5764c71409b5",
   "metadata": {},
   "outputs": [
    {
     "name": "stdout",
     "output_type": "stream",
     "text": [
      "1\n",
      "{2, 3, 4, 5}\n"
     ]
    }
   ],
   "source": [
    "my_set = {1, 2, 3, 4, 5}\n",
    "popped_element = my_set.pop()\n",
    "print(popped_element)  \n",
    "print(my_set) "
   ]
  },
  {
   "cell_type": "markdown",
   "id": "00cc51e5-0ad0-41e5-b07b-b80bb3db3340",
   "metadata": {},
   "source": [
    "Q17 Check if two sets have no elements in common:"
   ]
  },
  {
   "cell_type": "code",
   "execution_count": 186,
   "id": "0eee6408-02c6-4b44-9102-9f547d92ea99",
   "metadata": {},
   "outputs": [
    {
     "name": "stdout",
     "output_type": "stream",
     "text": [
      "True\n"
     ]
    }
   ],
   "source": [
    "set1 = {1, 2, 3}\n",
    "set2 = {4, 5, 6}\n",
    "no_common_elements = set1.isdisjoint(set2)\n",
    "print(no_common_elements)  "
   ]
  },
  {
   "cell_type": "markdown",
   "id": "c7ff6e57-0078-4e64-aab9-6984c678f68f",
   "metadata": {},
   "source": [
    "Q18 Find the symmetric difference between two sets:"
   ]
  },
  {
   "cell_type": "code",
   "execution_count": 187,
   "id": "aeaf8897-7d7e-4aa9-98a2-c29d893b7259",
   "metadata": {},
   "outputs": [
    {
     "name": "stdout",
     "output_type": "stream",
     "text": [
      "{1, 2, 4, 5}\n"
     ]
    }
   ],
   "source": [
    "set1 = {1, 2, 3}\n",
    "set2 = {3, 4, 5}\n",
    "symmetric_difference = set1 ^ set2\n",
    "print(symmetric_difference) "
   ]
  },
  {
   "cell_type": "markdown",
   "id": "fa80c41a-ff4f-43d1-ac63-08068b845f3a",
   "metadata": {},
   "source": [
    "Q20 Update a set with elements from another set"
   ]
  },
  {
   "cell_type": "code",
   "execution_count": 188,
   "id": "226cf90d-9e48-4f5e-be93-c982dfafd27d",
   "metadata": {},
   "outputs": [
    {
     "name": "stdout",
     "output_type": "stream",
     "text": [
      "{1, 2, 3, 4, 5}\n"
     ]
    }
   ],
   "source": [
    "set1 = {1, 2, 3}\n",
    "set2 = {3, 4, 5}\n",
    "set1.update(set2)\n",
    "print(set1)  "
   ]
  },
  {
   "cell_type": "markdown",
   "id": "d00790c4-bf6f-40a7-84eb-5732dcb4d171",
   "metadata": {},
   "source": [
    "Q21 Create a set of the first 5 prime numbers:"
   ]
  },
  {
   "cell_type": "code",
   "execution_count": 189,
   "id": "2b717ab6-5431-4359-a7f8-f4e994a5509d",
   "metadata": {},
   "outputs": [
    {
     "name": "stdout",
     "output_type": "stream",
     "text": [
      "{2, 3, 5, 7, 11}\n"
     ]
    }
   ],
   "source": [
    "prime_numbers = {2, 3, 5, 7, 11}\n",
    "print(prime_numbers)\n"
   ]
  },
  {
   "cell_type": "markdown",
   "id": "16488d0e-6180-464d-a05e-0dfe58ca0ee5",
   "metadata": {},
   "source": [
    "Q23 Check if two sets are identical"
   ]
  },
  {
   "cell_type": "code",
   "execution_count": 190,
   "id": "e007f1a7-20b0-4146-8344-a25ab585a29c",
   "metadata": {},
   "outputs": [
    {
     "name": "stdout",
     "output_type": "stream",
     "text": [
      "True\n"
     ]
    }
   ],
   "source": [
    "set1 = {1, 2, 3}\n",
    "set2 = {3, 2, 1}\n",
    "are_identical = set1 == set2\n",
    "print(are_identical)"
   ]
  },
  {
   "cell_type": "markdown",
   "id": "e2ce5254-a6b5-4c87-88ac-9f9d1500c09f",
   "metadata": {},
   "source": [
    "Q24 Create a frozen set"
   ]
  },
  {
   "cell_type": "code",
   "execution_count": 191,
   "id": "5dc7cde2-a9eb-45c1-b5fc-8deead93df32",
   "metadata": {},
   "outputs": [
    {
     "name": "stdout",
     "output_type": "stream",
     "text": [
      "frozenset({1, 2, 3, 4, 5})\n"
     ]
    }
   ],
   "source": [
    "my_frozen_set = frozenset([1, 2, 3, 4, 5])\n",
    "print(my_frozen_set)\n"
   ]
  },
  {
   "cell_type": "markdown",
   "id": "07ae6bd9-8a45-4f82-8566-45ea44ec8d69",
   "metadata": {},
   "source": [
    "Q25 Check if a set is disjoint with another set"
   ]
  },
  {
   "cell_type": "code",
   "execution_count": 192,
   "id": "b7028345-2e26-4635-b65f-bcb84782be72",
   "metadata": {},
   "outputs": [
    {
     "name": "stdout",
     "output_type": "stream",
     "text": [
      "True\n"
     ]
    }
   ],
   "source": [
    "set1 = {1, 2, 3}\n",
    "set2 = {4, 5, 6}\n",
    "are_disjoint = set1.isdisjoint(set2)\n",
    "print(are_disjoint)  "
   ]
  },
  {
   "cell_type": "markdown",
   "id": "9d2ef811-0174-4318-9088-56cb7242e2f5",
   "metadata": {},
   "source": [
    "Q26 Create a set of squares of numbers from 1 to 5"
   ]
  },
  {
   "cell_type": "code",
   "execution_count": 193,
   "id": "291dc236-adec-4e41-a3e9-c4541fb0bf0b",
   "metadata": {},
   "outputs": [
    {
     "name": "stdout",
     "output_type": "stream",
     "text": [
      "{1, 4, 9, 16, 25}\n"
     ]
    }
   ],
   "source": [
    "squares_set = {x ** 2 for x in range(1, 6)}\n",
    "print(squares_set)  "
   ]
  },
  {
   "cell_type": "markdown",
   "id": "7dadbaff-3e09-40b4-8fc4-e8eb91133e96",
   "metadata": {},
   "source": [
    "Q27 Filter out all even numbers from a set"
   ]
  },
  {
   "cell_type": "code",
   "execution_count": 194,
   "id": "b84d41a5-16e1-441c-a8ae-c66b74f79b9a",
   "metadata": {},
   "outputs": [
    {
     "name": "stdout",
     "output_type": "stream",
     "text": [
      "{1, 3, 5}\n"
     ]
    }
   ],
   "source": [
    "my_set = {1, 2, 3, 4, 5}\n",
    "filtered_set = {x for x in my_set if x % 2 != 0}\n",
    "print(filtered_set) "
   ]
  },
  {
   "cell_type": "markdown",
   "id": "dc669f5b-f661-470d-8edf-7d7fcff467e7",
   "metadata": {},
   "source": [
    "Q28 Multiply all elements in a set by 2"
   ]
  },
  {
   "cell_type": "code",
   "execution_count": 195,
   "id": "8bdfdb72-b714-46cd-a81c-d349039d24c6",
   "metadata": {},
   "outputs": [
    {
     "name": "stdout",
     "output_type": "stream",
     "text": [
      "{2, 4, 6, 8, 10}\n"
     ]
    }
   ],
   "source": [
    "my_set = {1, 2, 3, 4, 5}\n",
    "multiplied_set = {x * 2 for x in my_set}\n",
    "print(multiplied_set)  "
   ]
  },
  {
   "cell_type": "markdown",
   "id": "ff5d4e4c-aa3c-4e90-bb9c-87178336b977",
   "metadata": {},
   "source": [
    "Q29 Create a set of random numbers"
   ]
  },
  {
   "cell_type": "code",
   "execution_count": 196,
   "id": "7a5f30f1-1ec6-4bc1-bd3b-9852f6f0c225",
   "metadata": {},
   "outputs": [
    {
     "name": "stdout",
     "output_type": "stream",
     "text": [
      "{8, 3, 4, 5}\n"
     ]
    }
   ],
   "source": [
    "import random\n",
    "\n",
    "random_set = {random.randint(1, 10) for _ in range(5)}\n",
    "print(random_set)  "
   ]
  },
  {
   "cell_type": "markdown",
   "id": "a88dff24-0a36-4be0-a98d-a995227ab7aa",
   "metadata": {},
   "source": [
    "Q30 Check if a set is empty:"
   ]
  },
  {
   "cell_type": "code",
   "execution_count": 197,
   "id": "d2490d4a-8f44-44f0-ba62-14ff38824c3f",
   "metadata": {},
   "outputs": [
    {
     "name": "stdout",
     "output_type": "stream",
     "text": [
      "True\n"
     ]
    }
   ],
   "source": [
    "empty_set = set()\n",
    "is_empty = not bool(empty_set)\n",
    "print(is_empty) "
   ]
  },
  {
   "cell_type": "markdown",
   "id": "a0e6123e-be99-430d-b52a-1d22850e3d90",
   "metadata": {},
   "source": [
    "Q31 Create a nested set (hint: use frozenset)"
   ]
  },
  {
   "cell_type": "code",
   "execution_count": 198,
   "id": "f7c63c71-e810-4cad-9d44-89ec66454e5f",
   "metadata": {},
   "outputs": [
    {
     "name": "stdout",
     "output_type": "stream",
     "text": [
      "{frozenset({3, 4}), frozenset({1, 2})}\n"
     ]
    }
   ],
   "source": [
    "nested_set = {frozenset({1, 2}), frozenset({3, 4})}\n",
    "print(nested_set)"
   ]
  },
  {
   "cell_type": "markdown",
   "id": "627e3869-f83f-4d8f-94fb-1710b05967ae",
   "metadata": {},
   "source": [
    "Q32 Compare two sets"
   ]
  },
  {
   "cell_type": "code",
   "execution_count": 199,
   "id": "25a5cc80-ee1d-4ae9-9f14-b2d74070f4b6",
   "metadata": {},
   "outputs": [
    {
     "name": "stdout",
     "output_type": "stream",
     "text": [
      "False\n"
     ]
    }
   ],
   "source": [
    "set1 = {1, 2, 3}\n",
    "set2 = {3, 4, 5}\n",
    "is_equal = set1 == set2\n",
    "print(is_equal)  "
   ]
  },
  {
   "cell_type": "markdown",
   "id": "33404bb7-514e-4a5f-9934-50bc5741690c",
   "metadata": {},
   "source": [
    "Q33 Create a set from a string"
   ]
  },
  {
   "cell_type": "code",
   "execution_count": 200,
   "id": "f6feb0a8-f488-45ee-9f31-de15e309fc3e",
   "metadata": {},
   "outputs": [
    {
     "name": "stdout",
     "output_type": "stream",
     "text": [
      "{'h', 'l', 'o', 'e'}\n"
     ]
    }
   ],
   "source": [
    "my_string = \"hello\"\n",
    "char_set = set(my_string)\n",
    "print(char_set) "
   ]
  },
  {
   "cell_type": "markdown",
   "id": "5c6b5e64-fdd2-44cb-ab16-62ae5ffc1c1b",
   "metadata": {},
   "source": [
    "Q34 Convert a set of strings to a set of integers"
   ]
  },
  {
   "cell_type": "code",
   "execution_count": 201,
   "id": "171d9b4c-c5d5-44cc-8b45-9bbf420afc1c",
   "metadata": {},
   "outputs": [
    {
     "name": "stdout",
     "output_type": "stream",
     "text": [
      "{1, 2, 3, 4, 5}\n"
     ]
    }
   ],
   "source": [
    "string_set = {'1', '2', '3', '4', '5'}\n",
    "int_set = {int(x) for x in string_set}\n",
    "print(int_set)  "
   ]
  },
  {
   "cell_type": "markdown",
   "id": "d3f6de67-2280-41f1-bac4-cdc279dce7cb",
   "metadata": {},
   "source": [
    "Q35 Convert a set of integers to a set of strings"
   ]
  },
  {
   "cell_type": "code",
   "execution_count": 202,
   "id": "8cfe4ce2-b116-47a9-b98f-629d5f02923b",
   "metadata": {},
   "outputs": [
    {
     "name": "stdout",
     "output_type": "stream",
     "text": [
      "{'2', '4', '5', '1', '3'}\n"
     ]
    }
   ],
   "source": [
    "int_set = {1, 2, 3, 4, 5}\n",
    "string_set = {str(x) for x in int_set}\n",
    "print(string_set) "
   ]
  },
  {
   "cell_type": "markdown",
   "id": "6a4e6b00-fecd-42b5-922c-b8ea14740e72",
   "metadata": {},
   "source": [
    "Q36 Create a set from a tuple"
   ]
  },
  {
   "cell_type": "code",
   "execution_count": 203,
   "id": "dfd10a2a-3b27-4ba5-a43a-1c64e54d60c4",
   "metadata": {},
   "outputs": [
    {
     "name": "stdout",
     "output_type": "stream",
     "text": [
      "{1, 2, 3, 4, 5}\n"
     ]
    }
   ],
   "source": [
    "my_tuple = (1, 2, 3, 4, 5)\n",
    "tuple_set = set(my_tuple)\n",
    "print(tuple_set)\n"
   ]
  },
  {
   "cell_type": "markdown",
   "id": "d5a854a0-448c-41b7-a0d2-f9ad1ed02608",
   "metadata": {},
   "source": [
    "Q37 Convert a set to a tuple"
   ]
  },
  {
   "cell_type": "code",
   "execution_count": 204,
   "id": "30dba7ae-3198-468d-8c9f-b5291ae5e599",
   "metadata": {},
   "outputs": [
    {
     "name": "stdout",
     "output_type": "stream",
     "text": [
      "(1, 2, 3, 4, 5)\n"
     ]
    }
   ],
   "source": [
    "my_set = {1, 2, 3, 4, 5}\n",
    "set_tuple = tuple(my_set)\n",
    "print(set_tuple)\n"
   ]
  },
  {
   "cell_type": "markdown",
   "id": "e25d8a7e-fbeb-4023-b200-f49f951acdb7",
   "metadata": {},
   "source": [
    "Q38 Find the maximum value in a set:"
   ]
  },
  {
   "cell_type": "code",
   "execution_count": 205,
   "id": "14155f0d-a8a8-436a-8c02-047a6955764b",
   "metadata": {},
   "outputs": [
    {
     "name": "stdout",
     "output_type": "stream",
     "text": [
      "9\n"
     ]
    }
   ],
   "source": [
    "my_set = {4, 9, 2, 7, 5}\n",
    "max_value = max(my_set)\n",
    "print(max_value) "
   ]
  },
  {
   "cell_type": "markdown",
   "id": "86f72cfd-14b1-4a18-8570-d684927dc4f3",
   "metadata": {},
   "source": [
    "Q39 Find the minimum value in a set"
   ]
  },
  {
   "cell_type": "code",
   "execution_count": 206,
   "id": "8a13e5a9-724c-4812-a601-534ac1b42341",
   "metadata": {},
   "outputs": [
    {
     "name": "stdout",
     "output_type": "stream",
     "text": [
      "2\n"
     ]
    }
   ],
   "source": [
    "my_set = {4, 9, 2, 7, 5}\n",
    "min_value = min(my_set)\n",
    "print(min_value) "
   ]
  },
  {
   "cell_type": "markdown",
   "id": "20bc79b3-2101-48a1-bc2b-496861a34dbd",
   "metadata": {},
   "source": [
    "Q40 Create a set from user input:"
   ]
  },
  {
   "cell_type": "code",
   "execution_count": null,
   "id": "3114ee97-cf92-4298-8c98-5fb970595d7f",
   "metadata": {},
   "outputs": [],
   "source": [
    "user_input = input(\"Enter elements separated by spaces: \")\n",
    "user_set = set(user_input.split())\n",
    "print(user_set)\n"
   ]
  },
  {
   "cell_type": "markdown",
   "id": "1813cb07-8ce4-4275-a6ff-31a5c5e419ac",
   "metadata": {},
   "source": [
    "Q41 Check if the intersection of two sets is empty"
   ]
  },
  {
   "cell_type": "code",
   "execution_count": 41,
   "id": "446c6115-ed21-401c-9e69-10e9edd33fc2",
   "metadata": {},
   "outputs": [
    {
     "name": "stdout",
     "output_type": "stream",
     "text": [
      "True\n"
     ]
    }
   ],
   "source": [
    "set1 = {1, 2, 3}\n",
    "set2 = {4, 5, 6}\n",
    "is_intersection_empty = len(set1 & set2) == 0\n",
    "print(is_intersection_empty)  "
   ]
  },
  {
   "cell_type": "markdown",
   "id": "6d11daf2-3df3-43ca-ab61-a50c8132ab19",
   "metadata": {},
   "source": [
    "Q42 Create a set of the first 5 Fibonacci numbers"
   ]
  },
  {
   "cell_type": "code",
   "execution_count": null,
   "id": "ea5db08e-3ae1-4234-94eb-efdcb9af9ab0",
   "metadata": {},
   "outputs": [],
   "source": [
    "fibonacci_set = {0, 1}\n",
    "while len(fibonacci_set) < 5:\n",
    "    new_fibonacci = sum(list(fibonacci_set)[-2:])\n",
    "    fibonacci_set.add(new_fibonacci)\n",
    "print(fibonacci_set)"
   ]
  },
  {
   "cell_type": "markdown",
   "id": "9ff28810-8399-4a8a-ba65-148012a79850",
   "metadata": {},
   "source": [
    "Q43 Remove duplicates from a list using sets"
   ]
  },
  {
   "cell_type": "code",
   "execution_count": null,
   "id": "d85fc0fe-ea15-454c-88bf-862832a72161",
   "metadata": {},
   "outputs": [],
   "source": [
    "my_list = [1, 2, 2, 3, 4, 4, 5]\n",
    "unique_list = list(set(my_list))\n",
    "print(unique_list)  "
   ]
  },
  {
   "cell_type": "markdown",
   "id": "f61d2ecd-6813-4dc8-90b2-dc02077cb05d",
   "metadata": {},
   "source": [
    "Q44 Check if two sets have the same elements, regardless of their count"
   ]
  },
  {
   "cell_type": "code",
   "execution_count": null,
   "id": "47799dba-a177-48df-93b5-1c23aa2d18db",
   "metadata": {},
   "outputs": [],
   "source": [
    "set1 = {1, 2, 3}\n",
    "set2 = {3, 2, 1, 1, 2, 2, 3, 3}\n",
    "same_elements = set1 == set2\n",
    "print(same_elements)"
   ]
  },
  {
   "cell_type": "markdown",
   "id": "7a82dd58-26d7-48cf-a17c-e75e19cea2e4",
   "metadata": {},
   "source": [
    "Q45 Create a set of the first n powers of 2:"
   ]
  },
  {
   "cell_type": "code",
   "execution_count": null,
   "id": "61a036a6-b163-4139-93e6-2b2914038aff",
   "metadata": {},
   "outputs": [],
   "source": [
    "n = 5\n",
    "powers_of_2 = {2 ** i for i in range(n)}\n",
    "print(powers_of_2)  "
   ]
  },
  {
   "cell_type": "markdown",
   "id": "cd8073f8-d178-4f92-b0af-10f8edb5af1f",
   "metadata": {},
   "source": [
    "Q46 Find the common elements between a set and a list"
   ]
  },
  {
   "cell_type": "code",
   "execution_count": null,
   "id": "7c54b191-9b60-403d-8b74-c5bb25f3ec3b",
   "metadata": {},
   "outputs": [],
   "source": [
    "my_set = {1, 2, 3, 4, 5}\n",
    "my_list = [3, 4, 5, 6, 7]\n",
    "common_elements = my_set.intersection(my_list)\n",
    "print(common_elements)  "
   ]
  },
  {
   "cell_type": "code",
   "execution_count": null,
   "id": "76f32f0c-eda3-4d69-a6d1-9e7bb50f486b",
   "metadata": {},
   "outputs": [],
   "source": [
    "Q47 Create a set of the first n triangular numbers:"
   ]
  },
  {
   "cell_type": "code",
   "execution_count": null,
   "id": "887bdfa5-625a-4bc1-b960-f6d1592524ff",
   "metadata": {},
   "outputs": [],
   "source": [
    "def triangular_number(n):\n",
    "    return n * (n + 1) // 2\n",
    "\n",
    "n = 5\n",
    "triangular_set = {triangular_number(i) for i in range(1, n + 1)}\n",
    "print(triangular_set)  "
   ]
  },
  {
   "cell_type": "markdown",
   "id": "544b045e-d13a-47ee-bce4-4e9d63d7701f",
   "metadata": {},
   "source": [
    "Q48 Check if a set contains another set as a subset. "
   ]
  },
  {
   "cell_type": "code",
   "execution_count": null,
   "id": "a6db2b58-7319-4007-9b8a-7688229fdab0",
   "metadata": {},
   "outputs": [],
   "source": [
    "set1 = {1, 2, 3, 4, 5}\n",
    "subset_to_check = {2, 3}\n",
    "is_subset = subset_to_check.issubset(set1)\n",
    "print(is_subset) \n"
   ]
  },
  {
   "cell_type": "markdown",
   "id": "a9465e7e-2f4e-4af4-8eed-f1abd2c0d0a3",
   "metadata": {},
   "source": [
    "Q49 Create a set of alternating 1s and 0s of length `n`."
   ]
  },
  {
   "cell_type": "code",
   "execution_count": null,
   "id": "6a20aa9e-1a8f-4af9-8b90-bb79bce4abac",
   "metadata": {},
   "outputs": [],
   "source": [
    "n = 10\n",
    "alternating_set = {1 if i % 2 == 0 else 0 for i in range(n)}\n",
    "print(alternating_set)  \n"
   ]
  },
  {
   "cell_type": "markdown",
   "id": "92c6dc8b-2448-453a-8cd0-a8b7443111ed",
   "metadata": {},
   "source": [
    "Q50 Merge multiple sets into one"
   ]
  },
  {
   "cell_type": "code",
   "execution_count": 1,
   "id": "12773634-9866-4e52-88bb-01e56017da1e",
   "metadata": {},
   "outputs": [
    {
     "name": "stdout",
     "output_type": "stream",
     "text": [
      "{1, 2, 3, 4, 5, 6, 7}\n"
     ]
    }
   ],
   "source": [
    "set1 = {1, 2, 3}\n",
    "set2 = {3, 4, 5}\n",
    "set3 = {5, 6, 7}\n",
    "merged_set = set1.union(set2, set3)\n",
    "print(merged_set) "
   ]
  },
  {
   "cell_type": "markdown",
   "id": "e49cd66e-372b-4e2f-af4f-ea324256deb0",
   "metadata": {},
   "source": [
    "Thanks to Physics Wallah community and sudhanshu sir for this practise questions."
   ]
  }
 ],
 "metadata": {
  "kernelspec": {
   "display_name": "Python 3 (ipykernel)",
   "language": "python",
   "name": "python3"
  },
  "language_info": {
   "codemirror_mode": {
    "name": "ipython",
    "version": 3
   },
   "file_extension": ".py",
   "mimetype": "text/x-python",
   "name": "python",
   "nbconvert_exporter": "python",
   "pygments_lexer": "ipython3",
   "version": "3.10.8"
  }
 },
 "nbformat": 4,
 "nbformat_minor": 5
}
